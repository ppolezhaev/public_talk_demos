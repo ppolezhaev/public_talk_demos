{
  "cells": [
    {
      "cell_type": "markdown",
      "source": [
        "## Berlin Buzzwords 2024\n",
        "\n",
        "This notebook shows how the [DeepEval framework](https://docs.confident-ai.com) can be used to:\n",
        "1. Employ LLM as judge evaluation in G-Eval.\n",
        "2. Evaluate summary generation."
      ],
      "metadata": {
        "id": "EzVSeZojTwZI"
      }
    },
    {
      "cell_type": "markdown",
      "source": [
        "## 1. Installing packages and setting up environment"
      ],
      "metadata": {
        "id": "hKeKipuQYy9z"
      }
    },
    {
      "cell_type": "code",
      "execution_count": 9,
      "metadata": {
        "colab": {
          "base_uri": "https://localhost:8080/"
        },
        "id": "WSQfaLm7h1LO",
        "outputId": "e813d01b-6bf4-4ea2-809c-283eb999d4c1"
      },
      "outputs": [
        {
          "output_type": "stream",
          "name": "stdout",
          "text": [
            "Requirement already satisfied: deepeval in /usr/local/lib/python3.10/dist-packages (0.21.51)\n",
            "Requirement already satisfied: python-dotenv in /usr/local/lib/python3.10/dist-packages (1.0.1)\n",
            "Collecting ipytest\n",
            "  Downloading ipytest-0.14.2-py3-none-any.whl (18 kB)\n",
            "Requirement already satisfied: requests in /usr/local/lib/python3.10/dist-packages (from deepeval) (2.32.3)\n",
            "Requirement already satisfied: tqdm in /usr/local/lib/python3.10/dist-packages (from deepeval) (4.66.4)\n",
            "Requirement already satisfied: pytest in /usr/local/lib/python3.10/dist-packages (from deepeval) (7.4.4)\n",
            "Requirement already satisfied: tabulate in /usr/local/lib/python3.10/dist-packages (from deepeval) (0.9.0)\n",
            "Requirement already satisfied: typer in /usr/local/lib/python3.10/dist-packages (from deepeval) (0.9.4)\n",
            "Requirement already satisfied: rich in /usr/local/lib/python3.10/dist-packages (from deepeval) (13.7.1)\n",
            "Requirement already satisfied: protobuf==4.25.1 in /usr/local/lib/python3.10/dist-packages (from deepeval) (4.25.1)\n",
            "Requirement already satisfied: pydantic in /usr/local/lib/python3.10/dist-packages (from deepeval) (2.7.3)\n",
            "Requirement already satisfied: sentry-sdk in /usr/local/lib/python3.10/dist-packages (from deepeval) (2.5.1)\n",
            "Requirement already satisfied: pytest-repeat in /usr/local/lib/python3.10/dist-packages (from deepeval) (0.9.3)\n",
            "Requirement already satisfied: pytest-xdist in /usr/local/lib/python3.10/dist-packages (from deepeval) (3.6.1)\n",
            "Requirement already satisfied: portalocker in /usr/local/lib/python3.10/dist-packages (from deepeval) (2.8.2)\n",
            "Requirement already satisfied: langchain in /usr/local/lib/python3.10/dist-packages (from deepeval) (0.2.3)\n",
            "Requirement already satisfied: langchain-core in /usr/local/lib/python3.10/dist-packages (from deepeval) (0.2.5)\n",
            "Requirement already satisfied: langchain-openai in /usr/local/lib/python3.10/dist-packages (from deepeval) (0.1.8)\n",
            "Requirement already satisfied: ragas in /usr/local/lib/python3.10/dist-packages (from deepeval) (0.1.9)\n",
            "Requirement already satisfied: docx2txt~=0.8 in /usr/local/lib/python3.10/dist-packages (from deepeval) (0.8)\n",
            "Requirement already satisfied: importlib-metadata>=6.0.2 in /usr/local/lib/python3.10/dist-packages (from deepeval) (7.1.0)\n",
            "Requirement already satisfied: tenacity~=8.2.3 in /usr/local/lib/python3.10/dist-packages (from deepeval) (8.2.3)\n",
            "Requirement already satisfied: opentelemetry-api<2.0.0,>=1.14.0 in /usr/local/lib/python3.10/dist-packages (from deepeval) (1.25.0)\n",
            "Requirement already satisfied: opentelemetry-sdk<2.0.0,>=1.14.0 in /usr/local/lib/python3.10/dist-packages (from deepeval) (1.25.0)\n",
            "Requirement already satisfied: opentelemetry-exporter-otlp-proto-grpc<2.0.0,>=1.24.0 in /usr/local/lib/python3.10/dist-packages (from deepeval) (1.25.0)\n",
            "Requirement already satisfied: ipython in /usr/local/lib/python3.10/dist-packages (from ipytest) (7.34.0)\n",
            "Requirement already satisfied: packaging in /usr/local/lib/python3.10/dist-packages (from ipytest) (23.2)\n",
            "Requirement already satisfied: zipp>=0.5 in /usr/local/lib/python3.10/dist-packages (from importlib-metadata>=6.0.2->deepeval) (3.19.1)\n",
            "Requirement already satisfied: deprecated>=1.2.6 in /usr/local/lib/python3.10/dist-packages (from opentelemetry-api<2.0.0,>=1.14.0->deepeval) (1.2.14)\n",
            "Requirement already satisfied: googleapis-common-protos~=1.52 in /usr/local/lib/python3.10/dist-packages (from opentelemetry-exporter-otlp-proto-grpc<2.0.0,>=1.24.0->deepeval) (1.63.1)\n",
            "Requirement already satisfied: grpcio<2.0.0,>=1.0.0 in /usr/local/lib/python3.10/dist-packages (from opentelemetry-exporter-otlp-proto-grpc<2.0.0,>=1.24.0->deepeval) (1.64.1)\n",
            "Requirement already satisfied: opentelemetry-exporter-otlp-proto-common==1.25.0 in /usr/local/lib/python3.10/dist-packages (from opentelemetry-exporter-otlp-proto-grpc<2.0.0,>=1.24.0->deepeval) (1.25.0)\n",
            "Requirement already satisfied: opentelemetry-proto==1.25.0 in /usr/local/lib/python3.10/dist-packages (from opentelemetry-exporter-otlp-proto-grpc<2.0.0,>=1.24.0->deepeval) (1.25.0)\n",
            "Requirement already satisfied: opentelemetry-semantic-conventions==0.46b0 in /usr/local/lib/python3.10/dist-packages (from opentelemetry-sdk<2.0.0,>=1.14.0->deepeval) (0.46b0)\n",
            "Requirement already satisfied: typing-extensions>=3.7.4 in /usr/local/lib/python3.10/dist-packages (from opentelemetry-sdk<2.0.0,>=1.14.0->deepeval) (4.12.1)\n",
            "Requirement already satisfied: iniconfig in /usr/local/lib/python3.10/dist-packages (from pytest->deepeval) (2.0.0)\n",
            "Requirement already satisfied: pluggy<2.0,>=0.12 in /usr/local/lib/python3.10/dist-packages (from pytest->deepeval) (1.5.0)\n",
            "Requirement already satisfied: exceptiongroup>=1.0.0rc8 in /usr/local/lib/python3.10/dist-packages (from pytest->deepeval) (1.2.1)\n",
            "Requirement already satisfied: tomli>=1.0.0 in /usr/local/lib/python3.10/dist-packages (from pytest->deepeval) (2.0.1)\n",
            "Requirement already satisfied: setuptools>=18.5 in /usr/local/lib/python3.10/dist-packages (from ipython->ipytest) (67.7.2)\n",
            "Collecting jedi>=0.16 (from ipython->ipytest)\n",
            "  Downloading jedi-0.19.1-py2.py3-none-any.whl (1.6 MB)\n",
            "\u001b[2K     \u001b[90m━━━━━━━━━━━━━━━━━━━━━━━━━━━━━━━━━━━━━━━━\u001b[0m \u001b[32m1.6/1.6 MB\u001b[0m \u001b[31m15.1 MB/s\u001b[0m eta \u001b[36m0:00:00\u001b[0m\n",
            "\u001b[?25hRequirement already satisfied: decorator in /usr/local/lib/python3.10/dist-packages (from ipython->ipytest) (4.4.2)\n",
            "Requirement already satisfied: pickleshare in /usr/local/lib/python3.10/dist-packages (from ipython->ipytest) (0.7.5)\n",
            "Requirement already satisfied: traitlets>=4.2 in /usr/local/lib/python3.10/dist-packages (from ipython->ipytest) (5.7.1)\n",
            "Requirement already satisfied: prompt-toolkit!=3.0.0,!=3.0.1,<3.1.0,>=2.0.0 in /usr/local/lib/python3.10/dist-packages (from ipython->ipytest) (3.0.45)\n",
            "Requirement already satisfied: pygments in /usr/local/lib/python3.10/dist-packages (from ipython->ipytest) (2.16.1)\n",
            "Requirement already satisfied: backcall in /usr/local/lib/python3.10/dist-packages (from ipython->ipytest) (0.2.0)\n",
            "Requirement already satisfied: matplotlib-inline in /usr/local/lib/python3.10/dist-packages (from ipython->ipytest) (0.1.7)\n",
            "Requirement already satisfied: pexpect>4.3 in /usr/local/lib/python3.10/dist-packages (from ipython->ipytest) (4.9.0)\n",
            "Requirement already satisfied: PyYAML>=5.3 in /usr/local/lib/python3.10/dist-packages (from langchain->deepeval) (6.0.1)\n",
            "Requirement already satisfied: SQLAlchemy<3,>=1.4 in /usr/local/lib/python3.10/dist-packages (from langchain->deepeval) (2.0.30)\n",
            "Requirement already satisfied: aiohttp<4.0.0,>=3.8.3 in /usr/local/lib/python3.10/dist-packages (from langchain->deepeval) (3.9.5)\n",
            "Requirement already satisfied: async-timeout<5.0.0,>=4.0.0 in /usr/local/lib/python3.10/dist-packages (from langchain->deepeval) (4.0.3)\n",
            "Requirement already satisfied: langchain-text-splitters<0.3.0,>=0.2.0 in /usr/local/lib/python3.10/dist-packages (from langchain->deepeval) (0.2.1)\n",
            "Requirement already satisfied: langsmith<0.2.0,>=0.1.17 in /usr/local/lib/python3.10/dist-packages (from langchain->deepeval) (0.1.75)\n",
            "Requirement already satisfied: numpy<2,>=1 in /usr/local/lib/python3.10/dist-packages (from langchain->deepeval) (1.25.2)\n",
            "Requirement already satisfied: jsonpatch<2.0,>=1.33 in /usr/local/lib/python3.10/dist-packages (from langchain-core->deepeval) (1.33)\n",
            "Requirement already satisfied: annotated-types>=0.4.0 in /usr/local/lib/python3.10/dist-packages (from pydantic->deepeval) (0.7.0)\n",
            "Requirement already satisfied: pydantic-core==2.18.4 in /usr/local/lib/python3.10/dist-packages (from pydantic->deepeval) (2.18.4)\n",
            "Requirement already satisfied: charset-normalizer<4,>=2 in /usr/local/lib/python3.10/dist-packages (from requests->deepeval) (3.3.2)\n",
            "Requirement already satisfied: idna<4,>=2.5 in /usr/local/lib/python3.10/dist-packages (from requests->deepeval) (3.7)\n",
            "Requirement already satisfied: urllib3<3,>=1.21.1 in /usr/local/lib/python3.10/dist-packages (from requests->deepeval) (2.0.7)\n",
            "Requirement already satisfied: certifi>=2017.4.17 in /usr/local/lib/python3.10/dist-packages (from requests->deepeval) (2024.6.2)\n",
            "Requirement already satisfied: openai<2.0.0,>=1.26.0 in /usr/local/lib/python3.10/dist-packages (from langchain-openai->deepeval) (1.33.0)\n",
            "Requirement already satisfied: tiktoken<1,>=0.7 in /usr/local/lib/python3.10/dist-packages (from langchain-openai->deepeval) (0.7.0)\n",
            "Requirement already satisfied: execnet>=2.1 in /usr/local/lib/python3.10/dist-packages (from pytest-xdist->deepeval) (2.1.1)\n",
            "Requirement already satisfied: datasets in /usr/local/lib/python3.10/dist-packages (from ragas->deepeval) (2.19.2)\n",
            "Requirement already satisfied: langchain-community in /usr/local/lib/python3.10/dist-packages (from ragas->deepeval) (0.2.4)\n",
            "Requirement already satisfied: pysbd>=0.3.4 in /usr/local/lib/python3.10/dist-packages (from ragas->deepeval) (0.3.4)\n",
            "Requirement already satisfied: nest-asyncio in /usr/local/lib/python3.10/dist-packages (from ragas->deepeval) (1.6.0)\n",
            "Requirement already satisfied: appdirs in /usr/local/lib/python3.10/dist-packages (from ragas->deepeval) (1.4.4)\n",
            "Requirement already satisfied: markdown-it-py>=2.2.0 in /usr/local/lib/python3.10/dist-packages (from rich->deepeval) (3.0.0)\n",
            "Requirement already satisfied: click<9.0.0,>=7.1.1 in /usr/local/lib/python3.10/dist-packages (from typer->deepeval) (8.1.7)\n",
            "Requirement already satisfied: aiosignal>=1.1.2 in /usr/local/lib/python3.10/dist-packages (from aiohttp<4.0.0,>=3.8.3->langchain->deepeval) (1.3.1)\n",
            "Requirement already satisfied: attrs>=17.3.0 in /usr/local/lib/python3.10/dist-packages (from aiohttp<4.0.0,>=3.8.3->langchain->deepeval) (23.2.0)\n",
            "Requirement already satisfied: frozenlist>=1.1.1 in /usr/local/lib/python3.10/dist-packages (from aiohttp<4.0.0,>=3.8.3->langchain->deepeval) (1.4.1)\n",
            "Requirement already satisfied: multidict<7.0,>=4.5 in /usr/local/lib/python3.10/dist-packages (from aiohttp<4.0.0,>=3.8.3->langchain->deepeval) (6.0.5)\n",
            "Requirement already satisfied: yarl<2.0,>=1.0 in /usr/local/lib/python3.10/dist-packages (from aiohttp<4.0.0,>=3.8.3->langchain->deepeval) (1.9.4)\n",
            "Requirement already satisfied: wrapt<2,>=1.10 in /usr/local/lib/python3.10/dist-packages (from deprecated>=1.2.6->opentelemetry-api<2.0.0,>=1.14.0->deepeval) (1.14.1)\n",
            "Requirement already satisfied: parso<0.9.0,>=0.8.3 in /usr/local/lib/python3.10/dist-packages (from jedi>=0.16->ipython->ipytest) (0.8.4)\n",
            "Requirement already satisfied: jsonpointer>=1.9 in /usr/local/lib/python3.10/dist-packages (from jsonpatch<2.0,>=1.33->langchain-core->deepeval) (2.4)\n",
            "Requirement already satisfied: orjson<4.0.0,>=3.9.14 in /usr/local/lib/python3.10/dist-packages (from langsmith<0.2.0,>=0.1.17->langchain->deepeval) (3.10.3)\n",
            "Requirement already satisfied: mdurl~=0.1 in /usr/local/lib/python3.10/dist-packages (from markdown-it-py>=2.2.0->rich->deepeval) (0.1.2)\n",
            "Requirement already satisfied: anyio<5,>=3.5.0 in /usr/local/lib/python3.10/dist-packages (from openai<2.0.0,>=1.26.0->langchain-openai->deepeval) (3.7.1)\n",
            "Requirement already satisfied: distro<2,>=1.7.0 in /usr/lib/python3/dist-packages (from openai<2.0.0,>=1.26.0->langchain-openai->deepeval) (1.7.0)\n",
            "Requirement already satisfied: httpx<1,>=0.23.0 in /usr/local/lib/python3.10/dist-packages (from openai<2.0.0,>=1.26.0->langchain-openai->deepeval) (0.27.0)\n",
            "Requirement already satisfied: sniffio in /usr/local/lib/python3.10/dist-packages (from openai<2.0.0,>=1.26.0->langchain-openai->deepeval) (1.3.1)\n",
            "Requirement already satisfied: ptyprocess>=0.5 in /usr/local/lib/python3.10/dist-packages (from pexpect>4.3->ipython->ipytest) (0.7.0)\n",
            "Requirement already satisfied: wcwidth in /usr/local/lib/python3.10/dist-packages (from prompt-toolkit!=3.0.0,!=3.0.1,<3.1.0,>=2.0.0->ipython->ipytest) (0.2.13)\n",
            "Requirement already satisfied: greenlet!=0.4.17 in /usr/local/lib/python3.10/dist-packages (from SQLAlchemy<3,>=1.4->langchain->deepeval) (3.0.3)\n",
            "Requirement already satisfied: regex>=2022.1.18 in /usr/local/lib/python3.10/dist-packages (from tiktoken<1,>=0.7->langchain-openai->deepeval) (2024.5.15)\n",
            "Requirement already satisfied: filelock in /usr/local/lib/python3.10/dist-packages (from datasets->ragas->deepeval) (3.14.0)\n",
            "Requirement already satisfied: pyarrow>=12.0.0 in /usr/local/lib/python3.10/dist-packages (from datasets->ragas->deepeval) (14.0.2)\n",
            "Requirement already satisfied: pyarrow-hotfix in /usr/local/lib/python3.10/dist-packages (from datasets->ragas->deepeval) (0.6)\n",
            "Requirement already satisfied: dill<0.3.9,>=0.3.0 in /usr/local/lib/python3.10/dist-packages (from datasets->ragas->deepeval) (0.3.8)\n",
            "Requirement already satisfied: pandas in /usr/local/lib/python3.10/dist-packages (from datasets->ragas->deepeval) (2.0.3)\n",
            "Requirement already satisfied: xxhash in /usr/local/lib/python3.10/dist-packages (from datasets->ragas->deepeval) (3.4.1)\n",
            "Requirement already satisfied: multiprocess in /usr/local/lib/python3.10/dist-packages (from datasets->ragas->deepeval) (0.70.16)\n",
            "Requirement already satisfied: fsspec[http]<=2024.3.1,>=2023.1.0 in /usr/local/lib/python3.10/dist-packages (from datasets->ragas->deepeval) (2023.6.0)\n",
            "Requirement already satisfied: huggingface-hub>=0.21.2 in /usr/local/lib/python3.10/dist-packages (from datasets->ragas->deepeval) (0.23.2)\n",
            "Requirement already satisfied: dataclasses-json<0.7,>=0.5.7 in /usr/local/lib/python3.10/dist-packages (from langchain-community->ragas->deepeval) (0.6.7)\n",
            "Requirement already satisfied: marshmallow<4.0.0,>=3.18.0 in /usr/local/lib/python3.10/dist-packages (from dataclasses-json<0.7,>=0.5.7->langchain-community->ragas->deepeval) (3.21.3)\n",
            "Requirement already satisfied: typing-inspect<1,>=0.4.0 in /usr/local/lib/python3.10/dist-packages (from dataclasses-json<0.7,>=0.5.7->langchain-community->ragas->deepeval) (0.9.0)\n",
            "Requirement already satisfied: httpcore==1.* in /usr/local/lib/python3.10/dist-packages (from httpx<1,>=0.23.0->openai<2.0.0,>=1.26.0->langchain-openai->deepeval) (1.0.5)\n",
            "Requirement already satisfied: h11<0.15,>=0.13 in /usr/local/lib/python3.10/dist-packages (from httpcore==1.*->httpx<1,>=0.23.0->openai<2.0.0,>=1.26.0->langchain-openai->deepeval) (0.14.0)\n",
            "Requirement already satisfied: python-dateutil>=2.8.2 in /usr/local/lib/python3.10/dist-packages (from pandas->datasets->ragas->deepeval) (2.8.2)\n",
            "Requirement already satisfied: pytz>=2020.1 in /usr/local/lib/python3.10/dist-packages (from pandas->datasets->ragas->deepeval) (2023.4)\n",
            "Requirement already satisfied: tzdata>=2022.1 in /usr/local/lib/python3.10/dist-packages (from pandas->datasets->ragas->deepeval) (2024.1)\n",
            "Requirement already satisfied: six>=1.5 in /usr/local/lib/python3.10/dist-packages (from python-dateutil>=2.8.2->pandas->datasets->ragas->deepeval) (1.16.0)\n",
            "Requirement already satisfied: mypy-extensions>=0.3.0 in /usr/local/lib/python3.10/dist-packages (from typing-inspect<1,>=0.4.0->dataclasses-json<0.7,>=0.5.7->langchain-community->ragas->deepeval) (1.0.0)\n",
            "Installing collected packages: jedi, ipytest\n",
            "Successfully installed ipytest-0.14.2 jedi-0.19.1\n"
          ]
        }
      ],
      "source": [
        "! pip install -U deepeval python-dotenv ipytest"
      ]
    },
    {
      "cell_type": "code",
      "source": [
        "import nest_asyncio\n",
        "nest_asyncio.apply()"
      ],
      "metadata": {
        "id": "QX5GBctkSNpz"
      },
      "execution_count": 2,
      "outputs": []
    },
    {
      "cell_type": "code",
      "source": [
        "import ipytest\n",
        "ipytest.autoconfig()"
      ],
      "metadata": {
        "id": "sElSrMmSRxnb"
      },
      "execution_count": 10,
      "outputs": []
    },
    {
      "cell_type": "code",
      "execution_count": 11,
      "metadata": {
        "id": "bYpVMiUWich7",
        "colab": {
          "base_uri": "https://localhost:8080/"
        },
        "outputId": "4ddb021b-ff7e-4a52-8640-7407be624a53"
      },
      "outputs": [
        {
          "output_type": "stream",
          "name": "stdout",
          "text": [
            "Mounted at /content/drive\n"
          ]
        }
      ],
      "source": [
        "import os\n",
        "import dotenv\n",
        "import getpass\n",
        "from google.colab import drive\n",
        "\n",
        "drive.mount('/content/drive')\n",
        "\n",
        "dotenv.load_dotenv('/content/drive/MyDrive/.env')\n",
        "\n",
        "openai_api_key = os.environ.get('OPENAI_API_KEY')\n",
        "\n",
        "if not openai_api_key:\n",
        "    openai_api_key = getpass.getpass(\"Enter OpenAI API key:\")\n",
        "\n",
        "os.environ[\"OPENAI_API_KEY\"] = openai_api_key"
      ]
    },
    {
      "cell_type": "markdown",
      "source": [
        "## 2. How could logarithms of token probabilities be computed for OpenAI models?"
      ],
      "metadata": {
        "id": "z_e7uHu3Y-sr"
      }
    },
    {
      "cell_type": "code",
      "source": [
        "import openai\n",
        "\n",
        "from openai import OpenAI\n",
        "client = OpenAI()\n",
        "\n",
        "response = client.chat.completions.create(\n",
        "  model=\"gpt-4\",\n",
        "  messages=[\n",
        "    {\n",
        "      \"role\": \"system\",\n",
        "      \"content\": \"You will be provided with statements, and your task is to convert them to standard English.\"\n",
        "    },\n",
        "    {\n",
        "      \"role\": \"user\",\n",
        "      \"content\": \"She no went to the market.\"\n",
        "    }\n",
        "  ],\n",
        "  temperature=0.7,\n",
        "  max_tokens=64,\n",
        "  logprobs=True\n",
        ")\n",
        "\n",
        "response"
      ],
      "metadata": {
        "colab": {
          "base_uri": "https://localhost:8080/"
        },
        "id": "5__fXkHeRZbO",
        "outputId": "00f91d56-6da2-47c5-ebf8-7d2e043ee0b7"
      },
      "execution_count": 12,
      "outputs": [
        {
          "output_type": "execute_result",
          "data": {
            "text/plain": [
              "ChatCompletion(id='chatcmpl-9YUv53zV20gvbTb2t0t786wp91T8Y', choices=[Choice(finish_reason='stop', index=0, logprobs=ChoiceLogprobs(content=[ChatCompletionTokenLogprob(token='She', bytes=[83, 104, 101], logprob=-2.319992e-05, top_logprobs=[]), ChatCompletionTokenLogprob(token=' didn', bytes=[32, 100, 105, 100, 110], logprob=-0.33082667, top_logprobs=[]), ChatCompletionTokenLogprob(token=\"'t\", bytes=[39, 116], logprob=0.0, top_logprobs=[]), ChatCompletionTokenLogprob(token=' go', bytes=[32, 103, 111], logprob=-3.1281633e-07, top_logprobs=[]), ChatCompletionTokenLogprob(token=' to', bytes=[32, 116, 111], logprob=-1.9361265e-07, top_logprobs=[]), ChatCompletionTokenLogprob(token=' the', bytes=[32, 116, 104, 101], logprob=-1.0280384e-06, top_logprobs=[]), ChatCompletionTokenLogprob(token=' market', bytes=[32, 109, 97, 114, 107, 101, 116], logprob=-1.9361265e-07, top_logprobs=[]), ChatCompletionTokenLogprob(token='.', bytes=[46], logprob=-5.2001665e-06, top_logprobs=[])]), message=ChatCompletionMessage(content=\"She didn't go to the market.\", role='assistant', function_call=None, tool_calls=None))], created=1718009035, model='gpt-4-0613', object='chat.completion', system_fingerprint=None, usage=CompletionUsage(completion_tokens=8, prompt_tokens=36, total_tokens=44))"
            ]
          },
          "metadata": {},
          "execution_count": 12
        }
      ]
    },
    {
      "cell_type": "markdown",
      "source": [
        "## 3. How to work with the G-Eval within the DeepEval framework?"
      ],
      "metadata": {
        "id": "hDJjItqXZVGf"
      }
    },
    {
      "cell_type": "code",
      "source": [
        "from deepeval.metrics import GEval\n",
        "from deepeval.test_case import LLMTestCaseParams\n",
        "from deepeval.models.gpt_model import GPTModel\n",
        "\n",
        "model = GPTModel(\n",
        "    model=\"gpt-4\",\n",
        "    temperature=0.3\n",
        ")\n",
        "\n",
        "correctness_metric = GEval(\n",
        "    model=model,\n",
        "    name=\"Correctness\",\n",
        "    criteria=\"Determine whether the actual output is factually correct based on the expected output.\",\n",
        "    # NOTE: you can only provide either criteria or evaluation_steps, and not both\n",
        "    # evaluation_steps=[\n",
        "    #     \"Check whether the facts in 'actual output' contradicts any facts in 'expected output'\",\n",
        "    #     \"You should also heavily penalize omission of detail\",\n",
        "    #     \"Vague language, or contradicting OPINIONS, are OK\"\n",
        "    # ],\n",
        "    evaluation_params=[LLMTestCaseParams.INPUT, LLMTestCaseParams.ACTUAL_OUTPUT],\n",
        ")\n",
        "\n",
        "from deepeval.test_case import LLMTestCase\n",
        "\n",
        "test_case = LLMTestCase(\n",
        "    input=\"The dog chased the cat up the tree, who ran up the tree?\",\n",
        "    actual_output=\"It depends, some might consider the cat, while others might argue the dog.\",\n",
        "    expected_output=\"The cat.\"\n",
        ")\n",
        "\n",
        "correctness_metric.measure(test_case)\n",
        "\n",
        "print(\"Evaluation steps:\")\n",
        "for eval_step in correctness_metric.evaluation_steps:\n",
        "  print(\"-\", eval_step)\n",
        "print(\"Score:\", correctness_metric.score)\n",
        "print(\"Reson:\", correctness_metric.reason)"
      ],
      "metadata": {
        "colab": {
          "base_uri": "https://localhost:8080/",
          "height": 170,
          "referenced_widgets": [
            "924069d77aaa4450aef133241065f056",
            "7cc0e677def04b8c807f48292afeb58f"
          ]
        },
        "id": "7JuqC6bGPOnw",
        "outputId": "7c0dbc36-fc6a-465e-9a76-b3e7b46d19d8"
      },
      "execution_count": 13,
      "outputs": [
        {
          "output_type": "display_data",
          "data": {
            "text/plain": [
              "Output()"
            ],
            "application/vnd.jupyter.widget-view+json": {
              "version_major": 2,
              "version_minor": 0,
              "model_id": "924069d77aaa4450aef133241065f056"
            }
          },
          "metadata": {}
        },
        {
          "output_type": "display_data",
          "data": {
            "text/plain": [
              "Event loop is already running. Applying nest_asyncio patch to allow async execution...\n"
            ],
            "text/html": [
              "<pre style=\"white-space:pre;overflow-x:auto;line-height:normal;font-family:Menlo,'DejaVu Sans Mono',consolas,'Courier New',monospace\">Event loop is already running. Applying nest_asyncio patch to allow async execution...\n",
              "</pre>\n"
            ]
          },
          "metadata": {}
        },
        {
          "output_type": "display_data",
          "data": {
            "text/plain": [],
            "text/html": [
              "<pre style=\"white-space:pre;overflow-x:auto;line-height:normal;font-family:Menlo,'DejaVu Sans Mono',consolas,'Courier New',monospace\"></pre>\n"
            ]
          },
          "metadata": {}
        },
        {
          "output_type": "display_data",
          "data": {
            "text/plain": [
              "\n"
            ],
            "text/html": [
              "<pre style=\"white-space:pre;overflow-x:auto;line-height:normal;font-family:Menlo,'DejaVu Sans Mono',consolas,'Courier New',monospace\">\n",
              "</pre>\n"
            ]
          },
          "metadata": {}
        },
        {
          "output_type": "stream",
          "name": "stdout",
          "text": [
            "Evaluation steps:\n",
            "- Compare the actual output to the expected output to determine if they match.\n",
            "- Verify the factual accuracy of the actual output by cross-referencing with reliable sources.\n",
            "- If the actual output does not match the expected output, identify the discrepancies and analyze the reasons for the differences.\n",
            "- Evaluate the quality of the actual output based on its accuracy, completeness, and relevance to the expected output.\n",
            "Score: 0.06948416024836306\n",
            "Reson: The actual output does not match the expected output. The factual accuracy is incorrect as the input clearly states that the cat ran up the tree, not the dog.\n"
          ]
        }
      ]
    },
    {
      "cell_type": "markdown",
      "source": [
        "## 4. Implementing Unit tests using DeepEval framework"
      ],
      "metadata": {
        "id": "4ty7_CIdZyWY"
      }
    },
    {
      "cell_type": "code",
      "execution_count": 17,
      "metadata": {
        "colab": {
          "base_uri": "https://localhost:8080/",
          "height": 292,
          "referenced_widgets": [
            "78977ef6244c4909b5369709b26c9519",
            "7f7c843e822244b3b8c1ad5b30b5d47e"
          ]
        },
        "id": "h3nNfe1Wh9KK",
        "outputId": "3ac54dbf-8857-4109-b792-392171d37583"
      },
      "outputs": [
        {
          "output_type": "display_data",
          "data": {
            "text/plain": [
              "Output()"
            ],
            "application/vnd.jupyter.widget-view+json": {
              "version_major": 2,
              "version_minor": 0,
              "model_id": "78977ef6244c4909b5369709b26c9519"
            }
          },
          "metadata": {}
        },
        {
          "output_type": "display_data",
          "data": {
            "text/plain": [],
            "text/html": [
              "<pre style=\"white-space:pre;overflow-x:auto;line-height:normal;font-family:Menlo,'DejaVu Sans Mono',consolas,'Courier New',monospace\"></pre>\n"
            ]
          },
          "metadata": {}
        },
        {
          "output_type": "display_data",
          "data": {
            "text/plain": [
              "\n"
            ],
            "text/html": [
              "<pre style=\"white-space:pre;overflow-x:auto;line-height:normal;font-family:Menlo,'DejaVu Sans Mono',consolas,'Courier New',monospace\">\n",
              "</pre>\n"
            ]
          },
          "metadata": {}
        },
        {
          "output_type": "stream",
          "name": "stdout",
          "text": [
            "\u001b[32m.\u001b[0m\u001b[33m                                                                                            [100%]\u001b[0m"
          ]
        },
        {
          "output_type": "display_data",
          "data": {
            "text/plain": [
              "Running teardown with pytest sessionfinish\u001b[33m...\u001b[0m\n"
            ],
            "text/html": [
              "<pre style=\"white-space:pre;overflow-x:auto;line-height:normal;font-family:Menlo,'DejaVu Sans Mono',consolas,'Courier New',monospace\">Running teardown with pytest sessionfinish<span style=\"color: #808000; text-decoration-color: #808000\">...</span>\n",
              "</pre>\n"
            ]
          },
          "metadata": {}
        },
        {
          "output_type": "stream",
          "name": "stdout",
          "text": [
            "\n",
            "\u001b[33m========================================= warnings summary =========================================\u001b[0m\n",
            "../usr/local/lib/python3.10/dist-packages/_pytest/config/__init__.py:1204\n",
            "  /usr/local/lib/python3.10/dist-packages/_pytest/config/__init__.py:1204: PytestAssertRewriteWarning: Module already imported so cannot be rewritten: deepeval\n",
            "    self._mark_plugins_for_rewrite(hook)\n",
            "\n",
            "../usr/local/lib/python3.10/dist-packages/_pytest/config/__init__.py:1204\n",
            "  /usr/local/lib/python3.10/dist-packages/_pytest/config/__init__.py:1204: PytestAssertRewriteWarning: Module already imported so cannot be rewritten: anyio\n",
            "    self._mark_plugins_for_rewrite(hook)\n",
            "\n",
            "-- Docs: https://docs.pytest.org/en/stable/how-to/capture-warnings.html\n",
            "\u001b[33m\u001b[32m1 passed\u001b[0m, \u001b[33m\u001b[1m2 warnings\u001b[0m\u001b[33m in 2.97s\u001b[0m\u001b[0m\n"
          ]
        }
      ],
      "source": [
        "%%ipytest\n",
        "\n",
        "import pytest\n",
        "from deepeval import assert_test\n",
        "from deepeval.metrics import AnswerRelevancyMetric\n",
        "from deepeval.test_case import LLMTestCase\n",
        "\n",
        "def test_case():\n",
        "    answer_relevancy_metric = AnswerRelevancyMetric(threshold=0.5)\n",
        "    test_case = LLMTestCase(\n",
        "        input=\"What if these shoes don't fit?\",\n",
        "\n",
        "        actual_output=\"We offer a 30-day full refund at no extra costs.\",\n",
        "        retrieval_context=[\"All customers are eligible for a 30 day full refund at no extra costs.\"]\n",
        "    )\n",
        "    assert_test(test_case, [answer_relevancy_metric])"
      ]
    },
    {
      "cell_type": "code",
      "execution_count": 18,
      "metadata": {
        "colab": {
          "base_uri": "https://localhost:8080/",
          "height": 292,
          "referenced_widgets": [
            "9efdba4d7b56425a8fc44bf8ecaad4e9",
            "8054d71286e8470caf90675a7a3bdb13"
          ]
        },
        "id": "SwZKVDQtiEEb",
        "outputId": "6b959848-a4d7-45ee-8e47-4e0db8638ff8"
      },
      "outputs": [
        {
          "output_type": "display_data",
          "data": {
            "text/plain": [
              "Output()"
            ],
            "application/vnd.jupyter.widget-view+json": {
              "version_major": 2,
              "version_minor": 0,
              "model_id": "9efdba4d7b56425a8fc44bf8ecaad4e9"
            }
          },
          "metadata": {}
        },
        {
          "output_type": "display_data",
          "data": {
            "text/plain": [],
            "text/html": [
              "<pre style=\"white-space:pre;overflow-x:auto;line-height:normal;font-family:Menlo,'DejaVu Sans Mono',consolas,'Courier New',monospace\"></pre>\n"
            ]
          },
          "metadata": {}
        },
        {
          "output_type": "display_data",
          "data": {
            "text/plain": [
              "\n"
            ],
            "text/html": [
              "<pre style=\"white-space:pre;overflow-x:auto;line-height:normal;font-family:Menlo,'DejaVu Sans Mono',consolas,'Courier New',monospace\">\n",
              "</pre>\n"
            ]
          },
          "metadata": {}
        },
        {
          "output_type": "stream",
          "name": "stdout",
          "text": [
            "\u001b[32m.\u001b[0m\u001b[33m                                                                                            [100%]\u001b[0m"
          ]
        },
        {
          "output_type": "display_data",
          "data": {
            "text/plain": [
              "Running teardown with pytest sessionfinish\u001b[33m...\u001b[0m\n"
            ],
            "text/html": [
              "<pre style=\"white-space:pre;overflow-x:auto;line-height:normal;font-family:Menlo,'DejaVu Sans Mono',consolas,'Courier New',monospace\">Running teardown with pytest sessionfinish<span style=\"color: #808000; text-decoration-color: #808000\">...</span>\n",
              "</pre>\n"
            ]
          },
          "metadata": {}
        },
        {
          "output_type": "stream",
          "name": "stdout",
          "text": [
            "\n",
            "\u001b[33m========================================= warnings summary =========================================\u001b[0m\n",
            "../usr/local/lib/python3.10/dist-packages/_pytest/config/__init__.py:1204\n",
            "  /usr/local/lib/python3.10/dist-packages/_pytest/config/__init__.py:1204: PytestAssertRewriteWarning: Module already imported so cannot be rewritten: deepeval\n",
            "    self._mark_plugins_for_rewrite(hook)\n",
            "\n",
            "../usr/local/lib/python3.10/dist-packages/_pytest/config/__init__.py:1204\n",
            "  /usr/local/lib/python3.10/dist-packages/_pytest/config/__init__.py:1204: PytestAssertRewriteWarning: Module already imported so cannot be rewritten: anyio\n",
            "    self._mark_plugins_for_rewrite(hook)\n",
            "\n",
            "-- Docs: https://docs.pytest.org/en/stable/how-to/capture-warnings.html\n",
            "\u001b[33m\u001b[32m1 passed\u001b[0m, \u001b[33m\u001b[1m2 warnings\u001b[0m\u001b[33m in 5.45s\u001b[0m\u001b[0m\n"
          ]
        }
      ],
      "source": [
        "%%ipytest\n",
        "\n",
        "\n",
        "from deepeval import assert_test\n",
        "from deepeval.test_case import LLMTestCase\n",
        "from deepeval.metrics import AnswerRelevancyMetric\n",
        "\n",
        "def test_answer_relevancy():\n",
        "    answer_relevancy_metric = AnswerRelevancyMetric(threshold=0.5)\n",
        "    test_case = LLMTestCase(\n",
        "        input=\"What if these shoes don't fit?\",\n",
        "\n",
        "        actual_output=\"We offer a 30-day full refund at no extra cost.\"\n",
        "    )\n",
        "    assert_test(test_case, [answer_relevancy_metric])"
      ]
    },
    {
      "cell_type": "markdown",
      "source": [
        "## 5. Preparing a dataset for summarization"
      ],
      "metadata": {
        "id": "IbU4MliMaJCZ"
      }
    },
    {
      "cell_type": "code",
      "source": [
        "from datasets import load_dataset\n",
        "\n",
        "wiki = load_dataset(\"d0rj/wikisum\")\n",
        "\n",
        "wiki_df = wiki[\"test\"].to_pandas().iloc[:20]"
      ],
      "metadata": {
        "id": "gkNqLUbQNerA"
      },
      "execution_count": 19,
      "outputs": []
    },
    {
      "cell_type": "code",
      "source": [
        "wiki_df.head()"
      ],
      "metadata": {
        "colab": {
          "base_uri": "https://localhost:8080/",
          "height": 304
        },
        "id": "KQOA-9_eOHxY",
        "outputId": "d31a61ce-bead-47c7-d1d2-a7e776aea0df"
      },
      "execution_count": 20,
      "outputs": [
        {
          "output_type": "execute_result",
          "data": {
            "text/plain": [
              "                                               url  \\\n",
              "0  https://www.wikihow.com/Make-Chinese-Fried-Rice   \n",
              "1      https://www.wikihow.com/Write-a-Song-Parody   \n",
              "2           https://www.wikihow.com/Clean-Terrazzo   \n",
              "3  https://www.wikihow.com/Become-a-Neonatal-Nurse   \n",
              "4                   https://www.wikihow.com/Adjust   \n",
              "\n",
              "                            title  \\\n",
              "0  How to Make Chinese Fried Rice   \n",
              "1      How to Write a Song Parody   \n",
              "2           How to Clean Terrazzo   \n",
              "3  How to Become a Neonatal Nurse   \n",
              "4                   How to Adjust   \n",
              "\n",
              "                                             summary  \\\n",
              "0  To make Chinese fried rice, cook your rice at ...   \n",
              "1  Writing a song parody is a fun way to show off...   \n",
              "2  To clean terrazzo, make a basic cleaning solut...   \n",
              "3  To become a neonatal nurse, you'll need to lov...   \n",
              "4  It can seem stressful at first, but know that ...   \n",
              "\n",
              "                                             article  \\\n",
              "0  Rinse the rice. Before cooking your rice, it's...   \n",
              "1  Listen to other parodies. Weird Al Yankovic, L...   \n",
              "2  Grab an empty spray bottle. Either buy an empt...   \n",
              "3  Enroll in math and science courses. Depending ...   \n",
              "4  Allow yourself to feel upset. You won't be doi...   \n",
              "\n",
              "                                        step_headers  \n",
              "0  Rinse the rice. Bring the water to a boil. Add...  \n",
              "1  Listen to other parodies. Think about your tar...  \n",
              "2  Grab an empty spray bottle. Mix a solution wit...  \n",
              "3  Enroll in math and science courses. Work hard ...  \n",
              "4  Allow yourself to feel upset. Release your exp...  "
            ],
            "text/html": [
              "\n",
              "  <div id=\"df-4a388f10-6080-403d-bc7f-46d2327817f2\" class=\"colab-df-container\">\n",
              "    <div>\n",
              "<style scoped>\n",
              "    .dataframe tbody tr th:only-of-type {\n",
              "        vertical-align: middle;\n",
              "    }\n",
              "\n",
              "    .dataframe tbody tr th {\n",
              "        vertical-align: top;\n",
              "    }\n",
              "\n",
              "    .dataframe thead th {\n",
              "        text-align: right;\n",
              "    }\n",
              "</style>\n",
              "<table border=\"1\" class=\"dataframe\">\n",
              "  <thead>\n",
              "    <tr style=\"text-align: right;\">\n",
              "      <th></th>\n",
              "      <th>url</th>\n",
              "      <th>title</th>\n",
              "      <th>summary</th>\n",
              "      <th>article</th>\n",
              "      <th>step_headers</th>\n",
              "    </tr>\n",
              "  </thead>\n",
              "  <tbody>\n",
              "    <tr>\n",
              "      <th>0</th>\n",
              "      <td>https://www.wikihow.com/Make-Chinese-Fried-Rice</td>\n",
              "      <td>How to Make Chinese Fried Rice</td>\n",
              "      <td>To make Chinese fried rice, cook your rice at ...</td>\n",
              "      <td>Rinse the rice. Before cooking your rice, it's...</td>\n",
              "      <td>Rinse the rice. Bring the water to a boil. Add...</td>\n",
              "    </tr>\n",
              "    <tr>\n",
              "      <th>1</th>\n",
              "      <td>https://www.wikihow.com/Write-a-Song-Parody</td>\n",
              "      <td>How to Write a Song Parody</td>\n",
              "      <td>Writing a song parody is a fun way to show off...</td>\n",
              "      <td>Listen to other parodies. Weird Al Yankovic, L...</td>\n",
              "      <td>Listen to other parodies. Think about your tar...</td>\n",
              "    </tr>\n",
              "    <tr>\n",
              "      <th>2</th>\n",
              "      <td>https://www.wikihow.com/Clean-Terrazzo</td>\n",
              "      <td>How to Clean Terrazzo</td>\n",
              "      <td>To clean terrazzo, make a basic cleaning solut...</td>\n",
              "      <td>Grab an empty spray bottle. Either buy an empt...</td>\n",
              "      <td>Grab an empty spray bottle. Mix a solution wit...</td>\n",
              "    </tr>\n",
              "    <tr>\n",
              "      <th>3</th>\n",
              "      <td>https://www.wikihow.com/Become-a-Neonatal-Nurse</td>\n",
              "      <td>How to Become a Neonatal Nurse</td>\n",
              "      <td>To become a neonatal nurse, you'll need to lov...</td>\n",
              "      <td>Enroll in math and science courses. Depending ...</td>\n",
              "      <td>Enroll in math and science courses. Work hard ...</td>\n",
              "    </tr>\n",
              "    <tr>\n",
              "      <th>4</th>\n",
              "      <td>https://www.wikihow.com/Adjust</td>\n",
              "      <td>How to Adjust</td>\n",
              "      <td>It can seem stressful at first, but know that ...</td>\n",
              "      <td>Allow yourself to feel upset. You won't be doi...</td>\n",
              "      <td>Allow yourself to feel upset. Release your exp...</td>\n",
              "    </tr>\n",
              "  </tbody>\n",
              "</table>\n",
              "</div>\n",
              "    <div class=\"colab-df-buttons\">\n",
              "\n",
              "  <div class=\"colab-df-container\">\n",
              "    <button class=\"colab-df-convert\" onclick=\"convertToInteractive('df-4a388f10-6080-403d-bc7f-46d2327817f2')\"\n",
              "            title=\"Convert this dataframe to an interactive table.\"\n",
              "            style=\"display:none;\">\n",
              "\n",
              "  <svg xmlns=\"http://www.w3.org/2000/svg\" height=\"24px\" viewBox=\"0 -960 960 960\">\n",
              "    <path d=\"M120-120v-720h720v720H120Zm60-500h600v-160H180v160Zm220 220h160v-160H400v160Zm0 220h160v-160H400v160ZM180-400h160v-160H180v160Zm440 0h160v-160H620v160ZM180-180h160v-160H180v160Zm440 0h160v-160H620v160Z\"/>\n",
              "  </svg>\n",
              "    </button>\n",
              "\n",
              "  <style>\n",
              "    .colab-df-container {\n",
              "      display:flex;\n",
              "      gap: 12px;\n",
              "    }\n",
              "\n",
              "    .colab-df-convert {\n",
              "      background-color: #E8F0FE;\n",
              "      border: none;\n",
              "      border-radius: 50%;\n",
              "      cursor: pointer;\n",
              "      display: none;\n",
              "      fill: #1967D2;\n",
              "      height: 32px;\n",
              "      padding: 0 0 0 0;\n",
              "      width: 32px;\n",
              "    }\n",
              "\n",
              "    .colab-df-convert:hover {\n",
              "      background-color: #E2EBFA;\n",
              "      box-shadow: 0px 1px 2px rgba(60, 64, 67, 0.3), 0px 1px 3px 1px rgba(60, 64, 67, 0.15);\n",
              "      fill: #174EA6;\n",
              "    }\n",
              "\n",
              "    .colab-df-buttons div {\n",
              "      margin-bottom: 4px;\n",
              "    }\n",
              "\n",
              "    [theme=dark] .colab-df-convert {\n",
              "      background-color: #3B4455;\n",
              "      fill: #D2E3FC;\n",
              "    }\n",
              "\n",
              "    [theme=dark] .colab-df-convert:hover {\n",
              "      background-color: #434B5C;\n",
              "      box-shadow: 0px 1px 3px 1px rgba(0, 0, 0, 0.15);\n",
              "      filter: drop-shadow(0px 1px 2px rgba(0, 0, 0, 0.3));\n",
              "      fill: #FFFFFF;\n",
              "    }\n",
              "  </style>\n",
              "\n",
              "    <script>\n",
              "      const buttonEl =\n",
              "        document.querySelector('#df-4a388f10-6080-403d-bc7f-46d2327817f2 button.colab-df-convert');\n",
              "      buttonEl.style.display =\n",
              "        google.colab.kernel.accessAllowed ? 'block' : 'none';\n",
              "\n",
              "      async function convertToInteractive(key) {\n",
              "        const element = document.querySelector('#df-4a388f10-6080-403d-bc7f-46d2327817f2');\n",
              "        const dataTable =\n",
              "          await google.colab.kernel.invokeFunction('convertToInteractive',\n",
              "                                                    [key], {});\n",
              "        if (!dataTable) return;\n",
              "\n",
              "        const docLinkHtml = 'Like what you see? Visit the ' +\n",
              "          '<a target=\"_blank\" href=https://colab.research.google.com/notebooks/data_table.ipynb>data table notebook</a>'\n",
              "          + ' to learn more about interactive tables.';\n",
              "        element.innerHTML = '';\n",
              "        dataTable['output_type'] = 'display_data';\n",
              "        await google.colab.output.renderOutput(dataTable, element);\n",
              "        const docLink = document.createElement('div');\n",
              "        docLink.innerHTML = docLinkHtml;\n",
              "        element.appendChild(docLink);\n",
              "      }\n",
              "    </script>\n",
              "  </div>\n",
              "\n",
              "\n",
              "<div id=\"df-fc3fceaa-f2b3-4a9a-9e13-a09562a341f3\">\n",
              "  <button class=\"colab-df-quickchart\" onclick=\"quickchart('df-fc3fceaa-f2b3-4a9a-9e13-a09562a341f3')\"\n",
              "            title=\"Suggest charts\"\n",
              "            style=\"display:none;\">\n",
              "\n",
              "<svg xmlns=\"http://www.w3.org/2000/svg\" height=\"24px\"viewBox=\"0 0 24 24\"\n",
              "     width=\"24px\">\n",
              "    <g>\n",
              "        <path d=\"M19 3H5c-1.1 0-2 .9-2 2v14c0 1.1.9 2 2 2h14c1.1 0 2-.9 2-2V5c0-1.1-.9-2-2-2zM9 17H7v-7h2v7zm4 0h-2V7h2v10zm4 0h-2v-4h2v4z\"/>\n",
              "    </g>\n",
              "</svg>\n",
              "  </button>\n",
              "\n",
              "<style>\n",
              "  .colab-df-quickchart {\n",
              "      --bg-color: #E8F0FE;\n",
              "      --fill-color: #1967D2;\n",
              "      --hover-bg-color: #E2EBFA;\n",
              "      --hover-fill-color: #174EA6;\n",
              "      --disabled-fill-color: #AAA;\n",
              "      --disabled-bg-color: #DDD;\n",
              "  }\n",
              "\n",
              "  [theme=dark] .colab-df-quickchart {\n",
              "      --bg-color: #3B4455;\n",
              "      --fill-color: #D2E3FC;\n",
              "      --hover-bg-color: #434B5C;\n",
              "      --hover-fill-color: #FFFFFF;\n",
              "      --disabled-bg-color: #3B4455;\n",
              "      --disabled-fill-color: #666;\n",
              "  }\n",
              "\n",
              "  .colab-df-quickchart {\n",
              "    background-color: var(--bg-color);\n",
              "    border: none;\n",
              "    border-radius: 50%;\n",
              "    cursor: pointer;\n",
              "    display: none;\n",
              "    fill: var(--fill-color);\n",
              "    height: 32px;\n",
              "    padding: 0;\n",
              "    width: 32px;\n",
              "  }\n",
              "\n",
              "  .colab-df-quickchart:hover {\n",
              "    background-color: var(--hover-bg-color);\n",
              "    box-shadow: 0 1px 2px rgba(60, 64, 67, 0.3), 0 1px 3px 1px rgba(60, 64, 67, 0.15);\n",
              "    fill: var(--button-hover-fill-color);\n",
              "  }\n",
              "\n",
              "  .colab-df-quickchart-complete:disabled,\n",
              "  .colab-df-quickchart-complete:disabled:hover {\n",
              "    background-color: var(--disabled-bg-color);\n",
              "    fill: var(--disabled-fill-color);\n",
              "    box-shadow: none;\n",
              "  }\n",
              "\n",
              "  .colab-df-spinner {\n",
              "    border: 2px solid var(--fill-color);\n",
              "    border-color: transparent;\n",
              "    border-bottom-color: var(--fill-color);\n",
              "    animation:\n",
              "      spin 1s steps(1) infinite;\n",
              "  }\n",
              "\n",
              "  @keyframes spin {\n",
              "    0% {\n",
              "      border-color: transparent;\n",
              "      border-bottom-color: var(--fill-color);\n",
              "      border-left-color: var(--fill-color);\n",
              "    }\n",
              "    20% {\n",
              "      border-color: transparent;\n",
              "      border-left-color: var(--fill-color);\n",
              "      border-top-color: var(--fill-color);\n",
              "    }\n",
              "    30% {\n",
              "      border-color: transparent;\n",
              "      border-left-color: var(--fill-color);\n",
              "      border-top-color: var(--fill-color);\n",
              "      border-right-color: var(--fill-color);\n",
              "    }\n",
              "    40% {\n",
              "      border-color: transparent;\n",
              "      border-right-color: var(--fill-color);\n",
              "      border-top-color: var(--fill-color);\n",
              "    }\n",
              "    60% {\n",
              "      border-color: transparent;\n",
              "      border-right-color: var(--fill-color);\n",
              "    }\n",
              "    80% {\n",
              "      border-color: transparent;\n",
              "      border-right-color: var(--fill-color);\n",
              "      border-bottom-color: var(--fill-color);\n",
              "    }\n",
              "    90% {\n",
              "      border-color: transparent;\n",
              "      border-bottom-color: var(--fill-color);\n",
              "    }\n",
              "  }\n",
              "</style>\n",
              "\n",
              "  <script>\n",
              "    async function quickchart(key) {\n",
              "      const quickchartButtonEl =\n",
              "        document.querySelector('#' + key + ' button');\n",
              "      quickchartButtonEl.disabled = true;  // To prevent multiple clicks.\n",
              "      quickchartButtonEl.classList.add('colab-df-spinner');\n",
              "      try {\n",
              "        const charts = await google.colab.kernel.invokeFunction(\n",
              "            'suggestCharts', [key], {});\n",
              "      } catch (error) {\n",
              "        console.error('Error during call to suggestCharts:', error);\n",
              "      }\n",
              "      quickchartButtonEl.classList.remove('colab-df-spinner');\n",
              "      quickchartButtonEl.classList.add('colab-df-quickchart-complete');\n",
              "    }\n",
              "    (() => {\n",
              "      let quickchartButtonEl =\n",
              "        document.querySelector('#df-fc3fceaa-f2b3-4a9a-9e13-a09562a341f3 button');\n",
              "      quickchartButtonEl.style.display =\n",
              "        google.colab.kernel.accessAllowed ? 'block' : 'none';\n",
              "    })();\n",
              "  </script>\n",
              "</div>\n",
              "    </div>\n",
              "  </div>\n"
            ],
            "application/vnd.google.colaboratory.intrinsic+json": {
              "type": "dataframe",
              "variable_name": "wiki_df",
              "summary": "{\n  \"name\": \"wiki_df\",\n  \"rows\": 20,\n  \"fields\": [\n    {\n      \"column\": \"url\",\n      \"properties\": {\n        \"dtype\": \"string\",\n        \"num_unique_values\": 20,\n        \"samples\": [\n          \"https://www.wikihow.com/Make-Chinese-Fried-Rice\",\n          \"https://www.wikihow.com/Get-a-Tourist-Visa-for-France\",\n          \"https://www.wikihow.com/Fight-off-a-Dog\"\n        ],\n        \"semantic_type\": \"\",\n        \"description\": \"\"\n      }\n    },\n    {\n      \"column\": \"title\",\n      \"properties\": {\n        \"dtype\": \"string\",\n        \"num_unique_values\": 20,\n        \"samples\": [\n          \"How to Make Chinese Fried Rice\",\n          \"How to Get a Tourist Visa for France\",\n          \"How to Fight off a Dog\"\n        ],\n        \"semantic_type\": \"\",\n        \"description\": \"\"\n      }\n    },\n    {\n      \"column\": \"summary\",\n      \"properties\": {\n        \"dtype\": \"string\",\n        \"num_unique_values\": 20,\n        \"samples\": [\n          \"To make Chinese fried rice, cook your rice at least 1 hour ahead so it will be dry when you fry it. Then, heat a skillet or wok and add a neutral oil, like canola or corn oil, which won't distort the flavor of your dish. Put onion, garlic, ginger, and any vegetables you want into the pan, and fry them on medium-high heat for 10 minutes or until they're tender. Next, add lightly beaten eggs to the pan, scramble them, and mix them in with your vegetables. Finish your dish by adding rice, soy sauce, and sesame oil, and heating everything through.\",\n          \"To get a tourist visa for France, make an appointment with your region's French consulate 1-3 months before your departure to France. Before your appointment, look on the French government's website under \\\"Getting a Visa\\\" for all of the documents you should bring. Prepare to fill out 2 copies of the Visa application form and pay a fee of $83 for a short term visa or $138 for a long term visa. Then, go to your appointment and wait 3-6 weeks for your visa to be approved.\",\n          \"To fight off an attacking dog, try to stay on your feet, since you'll be in a much worse position if the dog knocks you down. Additionally, put an object between yourself and the dog, like a backpack or item of clothing, to protect yourself from a bite. Next, cover your face and neck with one arm and your groin and belly with the other, since these are the most sensitive regions where you can be injured. If you are left with no alternative, try striking the dog with a kick to the ribs, or use nearby objects like a rock to strike the dog.\"\n        ],\n        \"semantic_type\": \"\",\n        \"description\": \"\"\n      }\n    },\n    {\n      \"column\": \"article\",\n      \"properties\": {\n        \"dtype\": \"string\",\n        \"num_unique_values\": 20,\n        \"samples\": [\n          \"Rinse the rice. Before cooking your rice, it's a good idea to rinse it in a strainer. That will remove any dust, starch, or other debris that might be on the surface of the rice. Place the rice in a strainer, and rinse it with cold water. If you're short on time, you can skip rinsing the rice. Be aware that you may wind up with stickier cooked rice if you don't, though. Bring the water to a boil. In a small to medium pot, add water in a 1:2 rice to water ratio. For this recipe, you'll need to add 2 cups (473 mL) of water to the pot. Place the pot on the stove on high heat and bring it to a boil. Keep in mind that rice expands when it cooks so be sure your pot is large enough. A 2-quart (2.5 L) pot is usually large enough for 1 cup (195 g) of uncooked rice. Add the rice and salt. Once the water comes to a boil, pour 1 cup (195) of medium-grain white or brown rice and \\u00bd teaspoon (2.84 g) salt into the pot. Lower the heat to medium low to bring the pot back to a gentle simmer. 1 cup of uncooked rice should produce approximately 3 cups of cooked rice. In addition to the salt, you can also flavor your rice with butter. Mix in 1 tablespoon (approximately 14 g) butter if you desire. Cover the pot and let it cook for at least 18 minutes. After the pot comes back to a gentle simmer, turn the burner's heat down to low. Place the lid on the pot, and allow the rice to cook for at least 18 minutes. At that point, start checking on the rice. It's ready when it is firm but tender or no longer crunchy. Your rice may be slightly sticky when it's finished cooking, but it shouldn't be gummy. Brown rice takes longer to cook, so begin checking it after it's cooked for approximately 30 minutes. Don't take the lid off the pot before the 18- or 30-minute mark, depending on what type of rice you're cooking. You'll allow steam to escape, which can actually lengthen the cooking time. If there's still water in the pot when the rice is finished, drain the excess into the sink. Turn the heat off and let the rice stand. When you're sure that the rice is done, turn off the burner and let it to sit in the pot with the lid still on for 2 to 3 minutes. That will allow the rice to steam for a few more minutes to ensure that it's finished cooking. Spread the rice on a tray and set under a fan for an hour. You want your rice to be slightly dry when you fry it, so spread the cooked rice out in a single layer on tray, cookie sheet, or other large pan. Set the pan beneath a table fan for approximately 1 hour to help dry out the rice. Heat a wok on the stove. Traditionally, fried rice is made in a wok, so that's the best option when you're frying the dish at home. Set the pan on the stove, and turn the heat to medium to preheat it for approximately five minutes. If you don't have a wok, a large skillet or frying pan can work for frying your rice too. Add a neutral to the pan. When the pan is heated, pour 2 tablespoons (approximately 30 mL) of a neutral oil, such as canola or grapeseed, in it. Turn the pan slowly to ensure that the oil evenly coats the bottom. Neutral oils are those that don't have a strong taste on their own, so they won't add any extra flavor to your dish. In addition to canola and grapeseed, corn, peanut, and safflower are others to consider. Cook the ginger, garlic, onion, peas, and carrots until tender. Add 1 small white onion that's been chopped, 1 cup (150 g) frozen peas and carrots that have been defrosted, 1 teaspoon (5 g) finely chopped ginger, and 1 teaspoon (5 g) finely chopped garlic to the pan. Turn the heat up to medium high, and fry the vegetables until they are tender. It should take approximately 10 minutes. You can add any type of vegetable to the fried rice that you like. Some options you may want to consider include chopped cabbage, chopped French beans, chopped bell peppers, chopped mushrooms, chopped water chestnuts, or chopped green onions. Pour the beaten eggs into one half of the pan and scramble them. When the vegetables have finished cooking, use a spatula to push them to one side of the pan. Next, pour 2 eggs that have been lightly beaten into the pan. Scramble them with the spatula, and once they've set up, mix them into the vegetables. If you prefer, you can use an egg substitute in place of the eggs. Mix in the cooked rice, soy sauce, and sesame oil. Once the eggs are cooked and mixed with the vegetables, add in the 3 cups of cooked rice. Pour 2 to 3 tablespoons (30 to 44 mL) of soy sauce, depending on your personal taste, on top of the rice. Next, mix in 1 tablespoon (15 mL) of sesame oil, and stir all of the ingredients together until well combined. In place of the soy sauce, you can use fish sauce or oyster sauce. You can also add in some cooked chicken or steak that's been cut into strips or chopped if you want to make a meal out the rice. It's a good idea to taste the rice after you mix in the soy sauce and sesame oil. If necessary, add salt and freshly ground black pepper to taste. Fry the mixture until heated through. Continue stirring the mixture in the pan as it cooks on medium heat. Fry the rice until all of the ingredients are fully heated through, which should take approximately 5 minutes. If it seems like the rice is starting to scorch, lower the heat. Add a few additional drops of oil to the pan if the rice mixture is sticking to it. You may want to garnish the finished rice with chopped green onions. Finished.  \",\n          \"Identify the specific French tourist visa requirements for your country. Depending upon your home country you may or may not need a tourist visa for a 3-month or long-term stay. If your native country is Andorra, Monaco or Switzerland, or it is part of the European Union (EU) or the European Economic Area (EEA), then you do not need a tourist visa to France for any length of time. You will not need a 3-month tourist visa, if you hold a passport from 1 of the following countries: United Kingdom, Andorra, Argentina, Australia, Bermuda, Brazil, Brunei, Canada, Chile, Costa Rica, Croatia, El Salvador, Guatemala, Holy See, Honduras, Israel, Japan, Malaysia, Mexico, Monaco, Nicaragua, New Zealand, Panama, Paraguay, San Marino, Singapore, South Korea, Switzerland, United States, Uruguay, Venezuela, Hong Kong Special Administrative Region of the People's Republic of China, or the Special Administrative Region of Macao of the People's Republic of China. If your country is not listed, then you will most likely need to apply for a 3-month Schengen visa to visit France. Countries that require a Schengen visa include South Africa, India, Algeria, Philippines, Ukraine, China, Thailand, Russia, Zimbabwe and Pakistan. The Schengen visa is based on an agreement between 25 European countries that allows tourists to enter 1 of the 25 countries and go between other Schengen countries without showing their passport. Decide how long you plan to stay in France. For most people, 3 months is plenty of time. If a 3-month visa is not waived for your nationality, then apply for a Schengen visa. If you need to stay longer than 3 months, apply for a long-term stay visa. This is required for any nationality outside of the EU and EEA. Most often, the applicants for long-stay visas are applying to work, study or attend a family reunion. Make an appointment at your region's French consulate. This appointment should be 2 weeks to 3 months before your departure, but after you have bought your plane tickets and made travel arrangements. Your visa may not be accepted if you plan to depart less than 2 weeks after your appointment. Allow extra time if you are apply from 1 of the following countries: Afghanistan, Bangladesh, Burundi, Guinea, Iraq, Lebanon, Morocco, North Korea, Palestine, Rwanda, Sudan, Tunisia, Yemen, Algeria, Belarus, Congo, Indonesia, Jordan, Libya, Niger, Oman, Philippines, Saudi Arabia, Suriname, United Arab Emirates, Zimbabwe, Bahrain, Burma, Egypt, Iran, Kuwait, Mali, Nigeria, Pakistan, Qatar, Somalia, Syria, Vietnam, or US Refugees. Fill out 2 copies of a Schengen Visa application form or a Long-Stay Visa application form. These free forms are available online under the \\\"Getting a Visa\\\" Section of the Diplomatie.gouv.fr website. The extra copy is required by most, but not all, countries. Both applications include sections for personal, address, traveling, passport, insurance and return information. Fill it out completely and legibly. Print in black ink or use a typewriter. Check your passport expiry date. The date must be valid for at least 90 days after your departure date from France. Your passport must also have 2 blank pages, be issued within the last 10 years, be in good condition and match your profile. Make 2 copies of all of the identification pages in your passport. Acquire the following supplementary documents to be included with your application. 3 1.4 by 1.7 inch (3.5 by 4.5 cm) passport photographs. Your face must take up approximately 80 percent of the picture and it must show your ears and hairline. Your hotel or tour reservations and your departure and return flight information. These should be separate and detailed documents. Proof of medical insurance coverage while you are traveling in France. The minimum coverage for medical expenses shall be EUR 30 000. Original bank statements from the last 3 months, to show proof of funds while you are traveling in France. Proof of residence in the region where you are applying. A utility bill and an identification card with that address listed may work as proof of residence. Bring the application fee to your appointment in cash. As of August 2019, the application fee for a short term visa is 60 euros, while the application fee for a long term visa is 99 euros. Submit your application, payment documents and photos at your appointment.  Wait approximately 2 to 3 weeks to receive a short-term visa and approximately 2 months to receive a long-term visas. Waiting times may be longer. \",\n          \"Stay on your feet and shout for help. If you let the dog jump on you or bring you to the ground, you'll be in a much weaker position and more likely to be seriously hurt. If you're in a city or residential neighborhood, call out for the dog's owner. If you're in the woods or a rural environment, you'll need to call out for any help you can get. Place an object between yourself and the attacking dog. This will deter the dog from attacking you, or confuse the dog as to what part of you it should attack. If you have a backpack or bag with you, hold it in the dog's direction. If you have nothing else, you can use a piece of clothing to protect yourself from a severe bite. A frenzied dog may bite the backpack or bag in front of you, sparing your arms and legs. If you have time before the dog attacks you, you can wrap a shirt or jacket around your non-dominant arm and use that to distract the dog. Protect your face, neck, and groin. These are the areas that a dog will first attack, and they are the most sensitive areas of your body. Use one arm to cover your face and neck, and the other to shield your groin and belly region. If the dog attacks you while you're using a hand to cover your face and neck with one hand and your groin with the other hand, it may bite you on the hand or arm\\u2014but that would be much less serious than a facial or groin wound. Don't pull away from a bite. If a dog has sunk its teeth into your body, don't try to wrench yourself free. This will tear the flesh and make the bite wound much worse. Strike the dog continuously in a vital area. If you do not have a weapon, you'll need to rely on punching, kicking, and gouging. Your best chance is to attack the dog in a vital area that is easy to injure. This will weaken the dog and reduce its ability to hurt you. Specifically, aim for the eyes, ribs, and groin. A well placed kick to the ribs with a steel-toe boot could be effective at deterring an attacking dog If a dog is latched onto your arm, attack its eyes with your thumbs, strike it in the throat, or seize the dog's throat and try to choke it. These are effective defensive measures and may stop the dog from attacking you. Use weapons to injure the dog. If an aggressive dog is intent on attacking and harming\\u2014or killing\\u2014you, use whatever weapons you have to protect yourself. If you have a knife, stab the dog repeatedly in its face, jaws, and throat. These are vulnerable areas that will cause serious damage and disable the animal. If you are carrying a pistol or gun, aim for the dog's head. If you're not carrying a weapon, use nearby objects (rocks or boards) to strike the dog. Avoid the territory of unfamiliar or dangerous dogs. Of course you shouldn't wander into yards patrolled by strangers' dogs, but dogs may also be territorial about other spaces as well. Keep this in mind if you're walking in the woods or in an unfamiliar part of town, including neighborhood streets and public parks. If you're worried that a dog seems excessively defensive or territorial, find a different way to walk so you're farther away from the dog. Avoid eye contact. If you're concerned about an unfamiliar or hostile dog, and think it may become aggressive and attack you, don't look it in the eye. Eye contact will signify confrontation to the dog, and it will take that as a hostile gesture. Avert your eyes by looking above or below the dog, or to its side. Keep your hands in your pockets. When an aggressive dog is sizing you up and deciding whether or not to attack, he will be looking for parts of your body that are easy to grab on to. Hands are an easy target, since they're exposed and relatively small. Keep your hands in your pockets to avoid giving dogs an easy target, and the dog may decide not to attack you. If the dog does decide to attack, you'll need to quickly pull your hands from your pockets to defend yourself. Don't turn your back on an approaching dog. A dog will take it as a sign of weakness and think you're retreating if you turn your back and run. If you turn your back, the dog will likely attack. Stand sideways to the dog, with your side facing it, and avoid sudden movements. If you stand in this non-threatening pose, the dog may lose interest and wander off. If the dog does not lose interest, walk slowly backward away from the dog until you reach safety. Bring something with you to serve as a shield. When you go for a walk in an area where dogs are often loose, plan ahead to bring something that can help in case of an attack. If a dog is acting aggressive or going to attack you, you can defend yourself and protect your body by placing an object between yourself and the attacking dog. The dog may even clamp down on the shielding object, and avoid harming you altogether. Having something with you like: A sweater or jacket. A book or newspaper. A cane or umbrella. A bicycle. Carry a weapon with you. In case you come across an aggressive dog that attacks you, it's best to be prepared and capable of defending yourself. Pepper spray is available for this purpose, and a knife is certainly better than nothing. Also considering carrying a heavy walking stick that you can swing in self-defense. If you have steel-toed boots or shoes, these can also be used in self-defense against a dog. A firearm is the next step; a pistol can be conveniently carried if the law allows. Pay attention to your surroundings while walking. If you don't carry a weapon, you can use something you find as a weapon tin case a dog attacks. A sturdy board, pole, or branch should be your first choice. If a dog is threatening you, point the stick at the dog to keep it at bay. Do not try to swing at the dog, as this may anger the animal and cause it to attack. If no sticks or poles are around, rocks are the next best choice. Even if there isn't an aggressive dog nearby that could attack, if you're in unfamiliar territory, it's smart to be aware of your surroundings. Consider what objects you could use to defend yourself in the case of a dog attack. \"\n        ],\n        \"semantic_type\": \"\",\n        \"description\": \"\"\n      }\n    },\n    {\n      \"column\": \"step_headers\",\n      \"properties\": {\n        \"dtype\": \"string\",\n        \"num_unique_values\": 20,\n        \"samples\": [\n          \"Rinse the rice. Bring the water to a boil. Add the rice and salt. Cover the pot and let it cook for at least 18 minutes. Turn the heat off and let the rice stand. Spread the rice on a tray and set under a fan for an hour. Heat a wok on the stove. Add a neutral to the pan. Cook the ginger, garlic, onion, peas, and carrots until tender. Pour the beaten eggs into one half of the pan and scramble them. Mix in the cooked rice, soy sauce, and sesame oil. Fry the mixture until heated through. Finished. \",\n          \"Identify the specific French tourist visa requirements for your country. Decide how long you plan to stay in France. Make an appointment at your region's French consulate. Fill out 2 copies of a Schengen Visa application form or a Long-Stay Visa application form. Check your passport expiry date. Acquire the following supplementary documents to be included with your application. Bring the application fee to your appointment in cash. Submit your application, payment documents and photos at your appointment. Wait approximately 2 to 3 weeks to receive a short-term visa and approximately 2 months to receive a long-term visas. \",\n          \"Stay on your feet and shout for help. Place an object between yourself and the attacking dog. Protect your face, neck, and groin. Don't pull away from a bite. Strike the dog continuously in a vital area. Use weapons to injure the dog. Avoid the territory of unfamiliar or dangerous dogs. Avoid eye contact. Keep your hands in your pockets. Don't turn your back on an approaching dog. Bring something with you to serve as a shield. Carry a weapon with you. Pay attention to your surroundings while walking. \"\n        ],\n        \"semantic_type\": \"\",\n        \"description\": \"\"\n      }\n    }\n  ]\n}"
            }
          },
          "metadata": {},
          "execution_count": 20
        }
      ]
    },
    {
      "cell_type": "code",
      "source": [
        "from langchain_core.prompts import PromptTemplate\n",
        "from langchain_openai import ChatOpenAI\n",
        "\n",
        "summarization_prompt = PromptTemplate.from_template(\n",
        "\"\"\"Write a concise summary of the following:\n",
        "\n",
        "\n",
        "```{text}```\n",
        "\n",
        "\n",
        "CONCISE SUMMARY:\n",
        "\"\"\"\n",
        ")\n",
        "\n",
        "llm = ChatOpenAI(\n",
        "    model=\"gpt-4\",\n",
        "    temperature=0.0,\n",
        "    max_tokens=1000,\n",
        ")\n",
        "chain =  summarization_prompt | llm\n",
        "\n",
        "\n",
        "wiki_df.loc[:, \"actual_summary\"] = wiki_df[\"article\"].apply(\n",
        "    lambda text: chain.invoke({\"text\": text}).content\n",
        ")"
      ],
      "metadata": {
        "id": "X07jqVD828en"
      },
      "execution_count": 21,
      "outputs": []
    },
    {
      "cell_type": "code",
      "source": [
        "wiki_df"
      ],
      "metadata": {
        "colab": {
          "base_uri": "https://localhost:8080/",
          "height": 1000
        },
        "id": "VFOsDi0gOe_V",
        "outputId": "63574fce-8178-4e75-aa70-4699824eb292"
      },
      "execution_count": 22,
      "outputs": [
        {
          "output_type": "execute_result",
          "data": {
            "text/plain": [
              "                                                  url  \\\n",
              "0     https://www.wikihow.com/Make-Chinese-Fried-Rice   \n",
              "1         https://www.wikihow.com/Write-a-Song-Parody   \n",
              "2              https://www.wikihow.com/Clean-Terrazzo   \n",
              "3     https://www.wikihow.com/Become-a-Neonatal-Nurse   \n",
              "4                      https://www.wikihow.com/Adjust   \n",
              "5     https://www.wikihow.com/Take-Care-of-Your-Horse   \n",
              "6         https://www.wikihow.com/Take-off-Fake-Nails   \n",
              "7   https://www.wikihow.com/Do-In%E2%80%90text-Cit...   \n",
              "8            https://www.wikihow.com/Enjoy-a-Festival   \n",
              "9   https://www.wikihow.com/Keep-Sliced-Bananas-fr...   \n",
              "10                https://www.wikihow.com/Make-Drinks   \n",
              "11          https://www.wikihow.com/Fix-Rotting-Teeth   \n",
              "12  https://www.wikihow.com/Share-Space-with-Your-...   \n",
              "13  https://www.wikihow.com/Get-Rid-of-Cellulite-o...   \n",
              "14         https://www.wikihow.com/Dry-Your-Hair-Fast   \n",
              "15            https://www.wikihow.com/Fight-off-a-Dog   \n",
              "16  https://www.wikihow.com/Tell-if-a-Guy-Likes-Yo...   \n",
              "17  https://www.wikihow.com/Get-a-Tourist-Visa-for...   \n",
              "18        https://www.wikihow.com/Make-a-Dog-Love-You   \n",
              "19               https://www.wikihow.com/Play-Pinball   \n",
              "\n",
              "                                                title  \\\n",
              "0                      How to Make Chinese Fried Rice   \n",
              "1                          How to Write a Song Parody   \n",
              "2                               How to Clean Terrazzo   \n",
              "3                      How to Become a Neonatal Nurse   \n",
              "4                                       How to Adjust   \n",
              "5                      How to Take Care of Your Horse   \n",
              "6                          How to Take off Fake Nails   \n",
              "7                  How to Do In‐text Citations in MLA   \n",
              "8                             How to Enjoy a Festival   \n",
              "9         How to Keep Sliced Bananas from Discoloring   \n",
              "10                                 How to Make Drinks   \n",
              "11                           How to Fix Rotting Teeth   \n",
              "12  How to Share Space with Your Roommates During ...   \n",
              "13              How to Get Rid of Cellulite on Thighs   \n",
              "14                          How to Dry Your Hair Fast   \n",
              "15                             How to Fight off a Dog   \n",
              "16  How to Tell if a Guy Likes You As More Than a ...   \n",
              "17               How to Get a Tourist Visa for France   \n",
              "18                         How to Make a Dog Love You   \n",
              "19                                How to Play Pinball   \n",
              "\n",
              "                                              summary  \\\n",
              "0   To make Chinese fried rice, cook your rice at ...   \n",
              "1   Writing a song parody is a fun way to show off...   \n",
              "2   To clean terrazzo, make a basic cleaning solut...   \n",
              "3   To become a neonatal nurse, you'll need to lov...   \n",
              "4   It can seem stressful at first, but know that ...   \n",
              "5   To take care of your horse, keep it in a clean...   \n",
              "6   The easiest way to remove acrylic nails is to ...   \n",
              "7   To do in-text citations in MLA, provide the la...   \n",
              "8   To enjoy a festival, make sure you pack a bag ...   \n",
              "9   To keep sliced bananas from discoloring, dip t...   \n",
              "10  To make an alcoholic mixed drink, try making a...   \n",
              "11  To fix rotting teeth, treat cavities by gettin...   \n",
              "12  Being cooped up with your roommates during the...   \n",
              "13  To get rid of cellulite on thighs, do resistan...   \n",
              "14  To dry your hair fast, start by combing it wit...   \n",
              "15  To fight off an attacking dog, try to stay on ...   \n",
              "16  To tell if a guy likes you as more than a frie...   \n",
              "17  To get a tourist visa for France, make an appo...   \n",
              "18  To make your dog love you, feed it dog food an...   \n",
              "19  To play pinball, start by pulling the plunger ...   \n",
              "\n",
              "                                              article  \\\n",
              "0   Rinse the rice. Before cooking your rice, it's...   \n",
              "1   Listen to other parodies. Weird Al Yankovic, L...   \n",
              "2   Grab an empty spray bottle. Either buy an empt...   \n",
              "3   Enroll in math and science courses. Depending ...   \n",
              "4   Allow yourself to feel upset. You won't be doi...   \n",
              "5   Lead your horse to the grooming area of your b...   \n",
              "6   Trim down acrylic nails to reduce the surface ...   \n",
              "7   Put the author's last name and page number in ...   \n",
              "8   Purchase the tickets well in advance to avoid ...   \n",
              "9   Buy fruit juice or squeeze your own. There are...   \n",
              "10   Make a Gin & Tonic. Gin & Tonic is one of the...   \n",
              "11  Recognize the symptoms of tooth decay. Make su...   \n",
              "12  Discuss your individual handwashing habits. Ta...   \n",
              "13  Perform some form of resistance training. Star...   \n",
              "14  Use a wide-tooth comb after washing your hair....   \n",
              "15  Stay on your feet and shout for help. If you l...   \n",
              "16  Observe the way he talks to you. His body lang...   \n",
              "17  Identify the specific French tourist visa requ...   \n",
              "18  Show the dog affection. You don't need to set ...   \n",
              "19  Read the instructions on the front panel. Ever...   \n",
              "\n",
              "                                         step_headers  \\\n",
              "0   Rinse the rice. Bring the water to a boil. Add...   \n",
              "1   Listen to other parodies. Think about your tar...   \n",
              "2   Grab an empty spray bottle. Mix a solution wit...   \n",
              "3   Enroll in math and science courses. Work hard ...   \n",
              "4   Allow yourself to feel upset. Release your exp...   \n",
              "5   Lead your horse to the grooming area of your b...   \n",
              "6   Trim down acrylic nails to reduce the surface ...   \n",
              "7   Put the author's last name and page number in ...   \n",
              "8   Purchase the tickets well in advance to avoid ...   \n",
              "9   Buy fruit juice or squeeze your own. Coat the ...   \n",
              "10   Make a Rum & Coke. Make a Vodka & Cranberry. ...   \n",
              "11  Recognize the symptoms of tooth decay. Treat c...   \n",
              "12  Discuss your individual handwashing habits. Cr...   \n",
              "13  Perform some form of resistance training. Get ...   \n",
              "14  Use a wide-tooth comb after washing your hair....   \n",
              "15  Stay on your feet and shout for help. Place an...   \n",
              "16  Observe the way he talks to you. Keep track of...   \n",
              "17  Identify the specific French tourist visa requ...   \n",
              "18  Show the dog affection. Learn what your dog lo...   \n",
              "19  Read the instructions on the front panel. Stud...   \n",
              "\n",
              "                                       actual_summary  \n",
              "0   The text provides a detailed recipe for making...  \n",
              "1   The text provides a comprehensive guide on how...  \n",
              "2   The article provides a detailed guide on how t...  \n",
              "3   To become a neonatal nurse, one should take as...  \n",
              "4   The text provides advice on how to cope with m...  \n",
              "5   The text provides detailed instructions on how...  \n",
              "6   The text provides a detailed guide on how to r...  \n",
              "7   The text provides detailed instructions on how...  \n",
              "8   The text provides a comprehensive guide to att...  \n",
              "9   The article provides various methods to preven...  \n",
              "10  The text provides detailed instructions on how...  \n",
              "11  To prevent tooth decay, monitor your teeth for...  \n",
              "12  The text provides a comprehensive guide on how...  \n",
              "13  The text provides a comprehensive guide to red...  \n",
              "14  The text provides a detailed guide on how to d...  \n",
              "15  The text provides advice on how to protect one...  \n",
              "16  The text provides a comprehensive guide on how...  \n",
              "17  The French tourist visa requirements vary depe...  \n",
              "18  The text provides advice on how to show affect...  \n",
              "19  The text provides detailed instructions on how...  "
            ],
            "text/html": [
              "\n",
              "  <div id=\"df-7ba46fcf-f20e-4b86-9056-e5d1037c8fb7\" class=\"colab-df-container\">\n",
              "    <div>\n",
              "<style scoped>\n",
              "    .dataframe tbody tr th:only-of-type {\n",
              "        vertical-align: middle;\n",
              "    }\n",
              "\n",
              "    .dataframe tbody tr th {\n",
              "        vertical-align: top;\n",
              "    }\n",
              "\n",
              "    .dataframe thead th {\n",
              "        text-align: right;\n",
              "    }\n",
              "</style>\n",
              "<table border=\"1\" class=\"dataframe\">\n",
              "  <thead>\n",
              "    <tr style=\"text-align: right;\">\n",
              "      <th></th>\n",
              "      <th>url</th>\n",
              "      <th>title</th>\n",
              "      <th>summary</th>\n",
              "      <th>article</th>\n",
              "      <th>step_headers</th>\n",
              "      <th>actual_summary</th>\n",
              "    </tr>\n",
              "  </thead>\n",
              "  <tbody>\n",
              "    <tr>\n",
              "      <th>0</th>\n",
              "      <td>https://www.wikihow.com/Make-Chinese-Fried-Rice</td>\n",
              "      <td>How to Make Chinese Fried Rice</td>\n",
              "      <td>To make Chinese fried rice, cook your rice at ...</td>\n",
              "      <td>Rinse the rice. Before cooking your rice, it's...</td>\n",
              "      <td>Rinse the rice. Bring the water to a boil. Add...</td>\n",
              "      <td>The text provides a detailed recipe for making...</td>\n",
              "    </tr>\n",
              "    <tr>\n",
              "      <th>1</th>\n",
              "      <td>https://www.wikihow.com/Write-a-Song-Parody</td>\n",
              "      <td>How to Write a Song Parody</td>\n",
              "      <td>Writing a song parody is a fun way to show off...</td>\n",
              "      <td>Listen to other parodies. Weird Al Yankovic, L...</td>\n",
              "      <td>Listen to other parodies. Think about your tar...</td>\n",
              "      <td>The text provides a comprehensive guide on how...</td>\n",
              "    </tr>\n",
              "    <tr>\n",
              "      <th>2</th>\n",
              "      <td>https://www.wikihow.com/Clean-Terrazzo</td>\n",
              "      <td>How to Clean Terrazzo</td>\n",
              "      <td>To clean terrazzo, make a basic cleaning solut...</td>\n",
              "      <td>Grab an empty spray bottle. Either buy an empt...</td>\n",
              "      <td>Grab an empty spray bottle. Mix a solution wit...</td>\n",
              "      <td>The article provides a detailed guide on how t...</td>\n",
              "    </tr>\n",
              "    <tr>\n",
              "      <th>3</th>\n",
              "      <td>https://www.wikihow.com/Become-a-Neonatal-Nurse</td>\n",
              "      <td>How to Become a Neonatal Nurse</td>\n",
              "      <td>To become a neonatal nurse, you'll need to lov...</td>\n",
              "      <td>Enroll in math and science courses. Depending ...</td>\n",
              "      <td>Enroll in math and science courses. Work hard ...</td>\n",
              "      <td>To become a neonatal nurse, one should take as...</td>\n",
              "    </tr>\n",
              "    <tr>\n",
              "      <th>4</th>\n",
              "      <td>https://www.wikihow.com/Adjust</td>\n",
              "      <td>How to Adjust</td>\n",
              "      <td>It can seem stressful at first, but know that ...</td>\n",
              "      <td>Allow yourself to feel upset. You won't be doi...</td>\n",
              "      <td>Allow yourself to feel upset. Release your exp...</td>\n",
              "      <td>The text provides advice on how to cope with m...</td>\n",
              "    </tr>\n",
              "    <tr>\n",
              "      <th>5</th>\n",
              "      <td>https://www.wikihow.com/Take-Care-of-Your-Horse</td>\n",
              "      <td>How to Take Care of Your Horse</td>\n",
              "      <td>To take care of your horse, keep it in a clean...</td>\n",
              "      <td>Lead your horse to the grooming area of your b...</td>\n",
              "      <td>Lead your horse to the grooming area of your b...</td>\n",
              "      <td>The text provides detailed instructions on how...</td>\n",
              "    </tr>\n",
              "    <tr>\n",
              "      <th>6</th>\n",
              "      <td>https://www.wikihow.com/Take-off-Fake-Nails</td>\n",
              "      <td>How to Take off Fake Nails</td>\n",
              "      <td>The easiest way to remove acrylic nails is to ...</td>\n",
              "      <td>Trim down acrylic nails to reduce the surface ...</td>\n",
              "      <td>Trim down acrylic nails to reduce the surface ...</td>\n",
              "      <td>The text provides a detailed guide on how to r...</td>\n",
              "    </tr>\n",
              "    <tr>\n",
              "      <th>7</th>\n",
              "      <td>https://www.wikihow.com/Do-In%E2%80%90text-Cit...</td>\n",
              "      <td>How to Do In‐text Citations in MLA</td>\n",
              "      <td>To do in-text citations in MLA, provide the la...</td>\n",
              "      <td>Put the author's last name and page number in ...</td>\n",
              "      <td>Put the author's last name and page number in ...</td>\n",
              "      <td>The text provides detailed instructions on how...</td>\n",
              "    </tr>\n",
              "    <tr>\n",
              "      <th>8</th>\n",
              "      <td>https://www.wikihow.com/Enjoy-a-Festival</td>\n",
              "      <td>How to Enjoy a Festival</td>\n",
              "      <td>To enjoy a festival, make sure you pack a bag ...</td>\n",
              "      <td>Purchase the tickets well in advance to avoid ...</td>\n",
              "      <td>Purchase the tickets well in advance to avoid ...</td>\n",
              "      <td>The text provides a comprehensive guide to att...</td>\n",
              "    </tr>\n",
              "    <tr>\n",
              "      <th>9</th>\n",
              "      <td>https://www.wikihow.com/Keep-Sliced-Bananas-fr...</td>\n",
              "      <td>How to Keep Sliced Bananas from Discoloring</td>\n",
              "      <td>To keep sliced bananas from discoloring, dip t...</td>\n",
              "      <td>Buy fruit juice or squeeze your own. There are...</td>\n",
              "      <td>Buy fruit juice or squeeze your own. Coat the ...</td>\n",
              "      <td>The article provides various methods to preven...</td>\n",
              "    </tr>\n",
              "    <tr>\n",
              "      <th>10</th>\n",
              "      <td>https://www.wikihow.com/Make-Drinks</td>\n",
              "      <td>How to Make Drinks</td>\n",
              "      <td>To make an alcoholic mixed drink, try making a...</td>\n",
              "      <td>Make a Gin &amp; Tonic. Gin &amp; Tonic is one of the...</td>\n",
              "      <td>Make a Rum &amp; Coke. Make a Vodka &amp; Cranberry. ...</td>\n",
              "      <td>The text provides detailed instructions on how...</td>\n",
              "    </tr>\n",
              "    <tr>\n",
              "      <th>11</th>\n",
              "      <td>https://www.wikihow.com/Fix-Rotting-Teeth</td>\n",
              "      <td>How to Fix Rotting Teeth</td>\n",
              "      <td>To fix rotting teeth, treat cavities by gettin...</td>\n",
              "      <td>Recognize the symptoms of tooth decay. Make su...</td>\n",
              "      <td>Recognize the symptoms of tooth decay. Treat c...</td>\n",
              "      <td>To prevent tooth decay, monitor your teeth for...</td>\n",
              "    </tr>\n",
              "    <tr>\n",
              "      <th>12</th>\n",
              "      <td>https://www.wikihow.com/Share-Space-with-Your-...</td>\n",
              "      <td>How to Share Space with Your Roommates During ...</td>\n",
              "      <td>Being cooped up with your roommates during the...</td>\n",
              "      <td>Discuss your individual handwashing habits. Ta...</td>\n",
              "      <td>Discuss your individual handwashing habits. Cr...</td>\n",
              "      <td>The text provides a comprehensive guide on how...</td>\n",
              "    </tr>\n",
              "    <tr>\n",
              "      <th>13</th>\n",
              "      <td>https://www.wikihow.com/Get-Rid-of-Cellulite-o...</td>\n",
              "      <td>How to Get Rid of Cellulite on Thighs</td>\n",
              "      <td>To get rid of cellulite on thighs, do resistan...</td>\n",
              "      <td>Perform some form of resistance training. Star...</td>\n",
              "      <td>Perform some form of resistance training. Get ...</td>\n",
              "      <td>The text provides a comprehensive guide to red...</td>\n",
              "    </tr>\n",
              "    <tr>\n",
              "      <th>14</th>\n",
              "      <td>https://www.wikihow.com/Dry-Your-Hair-Fast</td>\n",
              "      <td>How to Dry Your Hair Fast</td>\n",
              "      <td>To dry your hair fast, start by combing it wit...</td>\n",
              "      <td>Use a wide-tooth comb after washing your hair....</td>\n",
              "      <td>Use a wide-tooth comb after washing your hair....</td>\n",
              "      <td>The text provides a detailed guide on how to d...</td>\n",
              "    </tr>\n",
              "    <tr>\n",
              "      <th>15</th>\n",
              "      <td>https://www.wikihow.com/Fight-off-a-Dog</td>\n",
              "      <td>How to Fight off a Dog</td>\n",
              "      <td>To fight off an attacking dog, try to stay on ...</td>\n",
              "      <td>Stay on your feet and shout for help. If you l...</td>\n",
              "      <td>Stay on your feet and shout for help. Place an...</td>\n",
              "      <td>The text provides advice on how to protect one...</td>\n",
              "    </tr>\n",
              "    <tr>\n",
              "      <th>16</th>\n",
              "      <td>https://www.wikihow.com/Tell-if-a-Guy-Likes-Yo...</td>\n",
              "      <td>How to Tell if a Guy Likes You As More Than a ...</td>\n",
              "      <td>To tell if a guy likes you as more than a frie...</td>\n",
              "      <td>Observe the way he talks to you. His body lang...</td>\n",
              "      <td>Observe the way he talks to you. Keep track of...</td>\n",
              "      <td>The text provides a comprehensive guide on how...</td>\n",
              "    </tr>\n",
              "    <tr>\n",
              "      <th>17</th>\n",
              "      <td>https://www.wikihow.com/Get-a-Tourist-Visa-for...</td>\n",
              "      <td>How to Get a Tourist Visa for France</td>\n",
              "      <td>To get a tourist visa for France, make an appo...</td>\n",
              "      <td>Identify the specific French tourist visa requ...</td>\n",
              "      <td>Identify the specific French tourist visa requ...</td>\n",
              "      <td>The French tourist visa requirements vary depe...</td>\n",
              "    </tr>\n",
              "    <tr>\n",
              "      <th>18</th>\n",
              "      <td>https://www.wikihow.com/Make-a-Dog-Love-You</td>\n",
              "      <td>How to Make a Dog Love You</td>\n",
              "      <td>To make your dog love you, feed it dog food an...</td>\n",
              "      <td>Show the dog affection. You don't need to set ...</td>\n",
              "      <td>Show the dog affection. Learn what your dog lo...</td>\n",
              "      <td>The text provides advice on how to show affect...</td>\n",
              "    </tr>\n",
              "    <tr>\n",
              "      <th>19</th>\n",
              "      <td>https://www.wikihow.com/Play-Pinball</td>\n",
              "      <td>How to Play Pinball</td>\n",
              "      <td>To play pinball, start by pulling the plunger ...</td>\n",
              "      <td>Read the instructions on the front panel. Ever...</td>\n",
              "      <td>Read the instructions on the front panel. Stud...</td>\n",
              "      <td>The text provides detailed instructions on how...</td>\n",
              "    </tr>\n",
              "  </tbody>\n",
              "</table>\n",
              "</div>\n",
              "    <div class=\"colab-df-buttons\">\n",
              "\n",
              "  <div class=\"colab-df-container\">\n",
              "    <button class=\"colab-df-convert\" onclick=\"convertToInteractive('df-7ba46fcf-f20e-4b86-9056-e5d1037c8fb7')\"\n",
              "            title=\"Convert this dataframe to an interactive table.\"\n",
              "            style=\"display:none;\">\n",
              "\n",
              "  <svg xmlns=\"http://www.w3.org/2000/svg\" height=\"24px\" viewBox=\"0 -960 960 960\">\n",
              "    <path d=\"M120-120v-720h720v720H120Zm60-500h600v-160H180v160Zm220 220h160v-160H400v160Zm0 220h160v-160H400v160ZM180-400h160v-160H180v160Zm440 0h160v-160H620v160ZM180-180h160v-160H180v160Zm440 0h160v-160H620v160Z\"/>\n",
              "  </svg>\n",
              "    </button>\n",
              "\n",
              "  <style>\n",
              "    .colab-df-container {\n",
              "      display:flex;\n",
              "      gap: 12px;\n",
              "    }\n",
              "\n",
              "    .colab-df-convert {\n",
              "      background-color: #E8F0FE;\n",
              "      border: none;\n",
              "      border-radius: 50%;\n",
              "      cursor: pointer;\n",
              "      display: none;\n",
              "      fill: #1967D2;\n",
              "      height: 32px;\n",
              "      padding: 0 0 0 0;\n",
              "      width: 32px;\n",
              "    }\n",
              "\n",
              "    .colab-df-convert:hover {\n",
              "      background-color: #E2EBFA;\n",
              "      box-shadow: 0px 1px 2px rgba(60, 64, 67, 0.3), 0px 1px 3px 1px rgba(60, 64, 67, 0.15);\n",
              "      fill: #174EA6;\n",
              "    }\n",
              "\n",
              "    .colab-df-buttons div {\n",
              "      margin-bottom: 4px;\n",
              "    }\n",
              "\n",
              "    [theme=dark] .colab-df-convert {\n",
              "      background-color: #3B4455;\n",
              "      fill: #D2E3FC;\n",
              "    }\n",
              "\n",
              "    [theme=dark] .colab-df-convert:hover {\n",
              "      background-color: #434B5C;\n",
              "      box-shadow: 0px 1px 3px 1px rgba(0, 0, 0, 0.15);\n",
              "      filter: drop-shadow(0px 1px 2px rgba(0, 0, 0, 0.3));\n",
              "      fill: #FFFFFF;\n",
              "    }\n",
              "  </style>\n",
              "\n",
              "    <script>\n",
              "      const buttonEl =\n",
              "        document.querySelector('#df-7ba46fcf-f20e-4b86-9056-e5d1037c8fb7 button.colab-df-convert');\n",
              "      buttonEl.style.display =\n",
              "        google.colab.kernel.accessAllowed ? 'block' : 'none';\n",
              "\n",
              "      async function convertToInteractive(key) {\n",
              "        const element = document.querySelector('#df-7ba46fcf-f20e-4b86-9056-e5d1037c8fb7');\n",
              "        const dataTable =\n",
              "          await google.colab.kernel.invokeFunction('convertToInteractive',\n",
              "                                                    [key], {});\n",
              "        if (!dataTable) return;\n",
              "\n",
              "        const docLinkHtml = 'Like what you see? Visit the ' +\n",
              "          '<a target=\"_blank\" href=https://colab.research.google.com/notebooks/data_table.ipynb>data table notebook</a>'\n",
              "          + ' to learn more about interactive tables.';\n",
              "        element.innerHTML = '';\n",
              "        dataTable['output_type'] = 'display_data';\n",
              "        await google.colab.output.renderOutput(dataTable, element);\n",
              "        const docLink = document.createElement('div');\n",
              "        docLink.innerHTML = docLinkHtml;\n",
              "        element.appendChild(docLink);\n",
              "      }\n",
              "    </script>\n",
              "  </div>\n",
              "\n",
              "\n",
              "<div id=\"df-4e2bda0a-7b79-4d2b-a1c6-b6eb2573f27f\">\n",
              "  <button class=\"colab-df-quickchart\" onclick=\"quickchart('df-4e2bda0a-7b79-4d2b-a1c6-b6eb2573f27f')\"\n",
              "            title=\"Suggest charts\"\n",
              "            style=\"display:none;\">\n",
              "\n",
              "<svg xmlns=\"http://www.w3.org/2000/svg\" height=\"24px\"viewBox=\"0 0 24 24\"\n",
              "     width=\"24px\">\n",
              "    <g>\n",
              "        <path d=\"M19 3H5c-1.1 0-2 .9-2 2v14c0 1.1.9 2 2 2h14c1.1 0 2-.9 2-2V5c0-1.1-.9-2-2-2zM9 17H7v-7h2v7zm4 0h-2V7h2v10zm4 0h-2v-4h2v4z\"/>\n",
              "    </g>\n",
              "</svg>\n",
              "  </button>\n",
              "\n",
              "<style>\n",
              "  .colab-df-quickchart {\n",
              "      --bg-color: #E8F0FE;\n",
              "      --fill-color: #1967D2;\n",
              "      --hover-bg-color: #E2EBFA;\n",
              "      --hover-fill-color: #174EA6;\n",
              "      --disabled-fill-color: #AAA;\n",
              "      --disabled-bg-color: #DDD;\n",
              "  }\n",
              "\n",
              "  [theme=dark] .colab-df-quickchart {\n",
              "      --bg-color: #3B4455;\n",
              "      --fill-color: #D2E3FC;\n",
              "      --hover-bg-color: #434B5C;\n",
              "      --hover-fill-color: #FFFFFF;\n",
              "      --disabled-bg-color: #3B4455;\n",
              "      --disabled-fill-color: #666;\n",
              "  }\n",
              "\n",
              "  .colab-df-quickchart {\n",
              "    background-color: var(--bg-color);\n",
              "    border: none;\n",
              "    border-radius: 50%;\n",
              "    cursor: pointer;\n",
              "    display: none;\n",
              "    fill: var(--fill-color);\n",
              "    height: 32px;\n",
              "    padding: 0;\n",
              "    width: 32px;\n",
              "  }\n",
              "\n",
              "  .colab-df-quickchart:hover {\n",
              "    background-color: var(--hover-bg-color);\n",
              "    box-shadow: 0 1px 2px rgba(60, 64, 67, 0.3), 0 1px 3px 1px rgba(60, 64, 67, 0.15);\n",
              "    fill: var(--button-hover-fill-color);\n",
              "  }\n",
              "\n",
              "  .colab-df-quickchart-complete:disabled,\n",
              "  .colab-df-quickchart-complete:disabled:hover {\n",
              "    background-color: var(--disabled-bg-color);\n",
              "    fill: var(--disabled-fill-color);\n",
              "    box-shadow: none;\n",
              "  }\n",
              "\n",
              "  .colab-df-spinner {\n",
              "    border: 2px solid var(--fill-color);\n",
              "    border-color: transparent;\n",
              "    border-bottom-color: var(--fill-color);\n",
              "    animation:\n",
              "      spin 1s steps(1) infinite;\n",
              "  }\n",
              "\n",
              "  @keyframes spin {\n",
              "    0% {\n",
              "      border-color: transparent;\n",
              "      border-bottom-color: var(--fill-color);\n",
              "      border-left-color: var(--fill-color);\n",
              "    }\n",
              "    20% {\n",
              "      border-color: transparent;\n",
              "      border-left-color: var(--fill-color);\n",
              "      border-top-color: var(--fill-color);\n",
              "    }\n",
              "    30% {\n",
              "      border-color: transparent;\n",
              "      border-left-color: var(--fill-color);\n",
              "      border-top-color: var(--fill-color);\n",
              "      border-right-color: var(--fill-color);\n",
              "    }\n",
              "    40% {\n",
              "      border-color: transparent;\n",
              "      border-right-color: var(--fill-color);\n",
              "      border-top-color: var(--fill-color);\n",
              "    }\n",
              "    60% {\n",
              "      border-color: transparent;\n",
              "      border-right-color: var(--fill-color);\n",
              "    }\n",
              "    80% {\n",
              "      border-color: transparent;\n",
              "      border-right-color: var(--fill-color);\n",
              "      border-bottom-color: var(--fill-color);\n",
              "    }\n",
              "    90% {\n",
              "      border-color: transparent;\n",
              "      border-bottom-color: var(--fill-color);\n",
              "    }\n",
              "  }\n",
              "</style>\n",
              "\n",
              "  <script>\n",
              "    async function quickchart(key) {\n",
              "      const quickchartButtonEl =\n",
              "        document.querySelector('#' + key + ' button');\n",
              "      quickchartButtonEl.disabled = true;  // To prevent multiple clicks.\n",
              "      quickchartButtonEl.classList.add('colab-df-spinner');\n",
              "      try {\n",
              "        const charts = await google.colab.kernel.invokeFunction(\n",
              "            'suggestCharts', [key], {});\n",
              "      } catch (error) {\n",
              "        console.error('Error during call to suggestCharts:', error);\n",
              "      }\n",
              "      quickchartButtonEl.classList.remove('colab-df-spinner');\n",
              "      quickchartButtonEl.classList.add('colab-df-quickchart-complete');\n",
              "    }\n",
              "    (() => {\n",
              "      let quickchartButtonEl =\n",
              "        document.querySelector('#df-4e2bda0a-7b79-4d2b-a1c6-b6eb2573f27f button');\n",
              "      quickchartButtonEl.style.display =\n",
              "        google.colab.kernel.accessAllowed ? 'block' : 'none';\n",
              "    })();\n",
              "  </script>\n",
              "</div>\n",
              "    </div>\n",
              "  </div>\n"
            ],
            "application/vnd.google.colaboratory.intrinsic+json": {
              "type": "dataframe",
              "variable_name": "wiki_df",
              "summary": "{\n  \"name\": \"wiki_df\",\n  \"rows\": 20,\n  \"fields\": [\n    {\n      \"column\": \"url\",\n      \"properties\": {\n        \"dtype\": \"string\",\n        \"num_unique_values\": 20,\n        \"samples\": [\n          \"https://www.wikihow.com/Make-Chinese-Fried-Rice\",\n          \"https://www.wikihow.com/Get-a-Tourist-Visa-for-France\",\n          \"https://www.wikihow.com/Fight-off-a-Dog\"\n        ],\n        \"semantic_type\": \"\",\n        \"description\": \"\"\n      }\n    },\n    {\n      \"column\": \"title\",\n      \"properties\": {\n        \"dtype\": \"string\",\n        \"num_unique_values\": 20,\n        \"samples\": [\n          \"How to Make Chinese Fried Rice\",\n          \"How to Get a Tourist Visa for France\",\n          \"How to Fight off a Dog\"\n        ],\n        \"semantic_type\": \"\",\n        \"description\": \"\"\n      }\n    },\n    {\n      \"column\": \"summary\",\n      \"properties\": {\n        \"dtype\": \"string\",\n        \"num_unique_values\": 20,\n        \"samples\": [\n          \"To make Chinese fried rice, cook your rice at least 1 hour ahead so it will be dry when you fry it. Then, heat a skillet or wok and add a neutral oil, like canola or corn oil, which won't distort the flavor of your dish. Put onion, garlic, ginger, and any vegetables you want into the pan, and fry them on medium-high heat for 10 minutes or until they're tender. Next, add lightly beaten eggs to the pan, scramble them, and mix them in with your vegetables. Finish your dish by adding rice, soy sauce, and sesame oil, and heating everything through.\",\n          \"To get a tourist visa for France, make an appointment with your region's French consulate 1-3 months before your departure to France. Before your appointment, look on the French government's website under \\\"Getting a Visa\\\" for all of the documents you should bring. Prepare to fill out 2 copies of the Visa application form and pay a fee of $83 for a short term visa or $138 for a long term visa. Then, go to your appointment and wait 3-6 weeks for your visa to be approved.\",\n          \"To fight off an attacking dog, try to stay on your feet, since you'll be in a much worse position if the dog knocks you down. Additionally, put an object between yourself and the dog, like a backpack or item of clothing, to protect yourself from a bite. Next, cover your face and neck with one arm and your groin and belly with the other, since these are the most sensitive regions where you can be injured. If you are left with no alternative, try striking the dog with a kick to the ribs, or use nearby objects like a rock to strike the dog.\"\n        ],\n        \"semantic_type\": \"\",\n        \"description\": \"\"\n      }\n    },\n    {\n      \"column\": \"article\",\n      \"properties\": {\n        \"dtype\": \"string\",\n        \"num_unique_values\": 20,\n        \"samples\": [\n          \"Rinse the rice. Before cooking your rice, it's a good idea to rinse it in a strainer. That will remove any dust, starch, or other debris that might be on the surface of the rice. Place the rice in a strainer, and rinse it with cold water. If you're short on time, you can skip rinsing the rice. Be aware that you may wind up with stickier cooked rice if you don't, though. Bring the water to a boil. In a small to medium pot, add water in a 1:2 rice to water ratio. For this recipe, you'll need to add 2 cups (473 mL) of water to the pot. Place the pot on the stove on high heat and bring it to a boil. Keep in mind that rice expands when it cooks so be sure your pot is large enough. A 2-quart (2.5 L) pot is usually large enough for 1 cup (195 g) of uncooked rice. Add the rice and salt. Once the water comes to a boil, pour 1 cup (195) of medium-grain white or brown rice and \\u00bd teaspoon (2.84 g) salt into the pot. Lower the heat to medium low to bring the pot back to a gentle simmer. 1 cup of uncooked rice should produce approximately 3 cups of cooked rice. In addition to the salt, you can also flavor your rice with butter. Mix in 1 tablespoon (approximately 14 g) butter if you desire. Cover the pot and let it cook for at least 18 minutes. After the pot comes back to a gentle simmer, turn the burner's heat down to low. Place the lid on the pot, and allow the rice to cook for at least 18 minutes. At that point, start checking on the rice. It's ready when it is firm but tender or no longer crunchy. Your rice may be slightly sticky when it's finished cooking, but it shouldn't be gummy. Brown rice takes longer to cook, so begin checking it after it's cooked for approximately 30 minutes. Don't take the lid off the pot before the 18- or 30-minute mark, depending on what type of rice you're cooking. You'll allow steam to escape, which can actually lengthen the cooking time. If there's still water in the pot when the rice is finished, drain the excess into the sink. Turn the heat off and let the rice stand. When you're sure that the rice is done, turn off the burner and let it to sit in the pot with the lid still on for 2 to 3 minutes. That will allow the rice to steam for a few more minutes to ensure that it's finished cooking. Spread the rice on a tray and set under a fan for an hour. You want your rice to be slightly dry when you fry it, so spread the cooked rice out in a single layer on tray, cookie sheet, or other large pan. Set the pan beneath a table fan for approximately 1 hour to help dry out the rice. Heat a wok on the stove. Traditionally, fried rice is made in a wok, so that's the best option when you're frying the dish at home. Set the pan on the stove, and turn the heat to medium to preheat it for approximately five minutes. If you don't have a wok, a large skillet or frying pan can work for frying your rice too. Add a neutral to the pan. When the pan is heated, pour 2 tablespoons (approximately 30 mL) of a neutral oil, such as canola or grapeseed, in it. Turn the pan slowly to ensure that the oil evenly coats the bottom. Neutral oils are those that don't have a strong taste on their own, so they won't add any extra flavor to your dish. In addition to canola and grapeseed, corn, peanut, and safflower are others to consider. Cook the ginger, garlic, onion, peas, and carrots until tender. Add 1 small white onion that's been chopped, 1 cup (150 g) frozen peas and carrots that have been defrosted, 1 teaspoon (5 g) finely chopped ginger, and 1 teaspoon (5 g) finely chopped garlic to the pan. Turn the heat up to medium high, and fry the vegetables until they are tender. It should take approximately 10 minutes. You can add any type of vegetable to the fried rice that you like. Some options you may want to consider include chopped cabbage, chopped French beans, chopped bell peppers, chopped mushrooms, chopped water chestnuts, or chopped green onions. Pour the beaten eggs into one half of the pan and scramble them. When the vegetables have finished cooking, use a spatula to push them to one side of the pan. Next, pour 2 eggs that have been lightly beaten into the pan. Scramble them with the spatula, and once they've set up, mix them into the vegetables. If you prefer, you can use an egg substitute in place of the eggs. Mix in the cooked rice, soy sauce, and sesame oil. Once the eggs are cooked and mixed with the vegetables, add in the 3 cups of cooked rice. Pour 2 to 3 tablespoons (30 to 44 mL) of soy sauce, depending on your personal taste, on top of the rice. Next, mix in 1 tablespoon (15 mL) of sesame oil, and stir all of the ingredients together until well combined. In place of the soy sauce, you can use fish sauce or oyster sauce. You can also add in some cooked chicken or steak that's been cut into strips or chopped if you want to make a meal out the rice. It's a good idea to taste the rice after you mix in the soy sauce and sesame oil. If necessary, add salt and freshly ground black pepper to taste. Fry the mixture until heated through. Continue stirring the mixture in the pan as it cooks on medium heat. Fry the rice until all of the ingredients are fully heated through, which should take approximately 5 minutes. If it seems like the rice is starting to scorch, lower the heat. Add a few additional drops of oil to the pan if the rice mixture is sticking to it. You may want to garnish the finished rice with chopped green onions. Finished.  \",\n          \"Identify the specific French tourist visa requirements for your country. Depending upon your home country you may or may not need a tourist visa for a 3-month or long-term stay. If your native country is Andorra, Monaco or Switzerland, or it is part of the European Union (EU) or the European Economic Area (EEA), then you do not need a tourist visa to France for any length of time. You will not need a 3-month tourist visa, if you hold a passport from 1 of the following countries: United Kingdom, Andorra, Argentina, Australia, Bermuda, Brazil, Brunei, Canada, Chile, Costa Rica, Croatia, El Salvador, Guatemala, Holy See, Honduras, Israel, Japan, Malaysia, Mexico, Monaco, Nicaragua, New Zealand, Panama, Paraguay, San Marino, Singapore, South Korea, Switzerland, United States, Uruguay, Venezuela, Hong Kong Special Administrative Region of the People's Republic of China, or the Special Administrative Region of Macao of the People's Republic of China. If your country is not listed, then you will most likely need to apply for a 3-month Schengen visa to visit France. Countries that require a Schengen visa include South Africa, India, Algeria, Philippines, Ukraine, China, Thailand, Russia, Zimbabwe and Pakistan. The Schengen visa is based on an agreement between 25 European countries that allows tourists to enter 1 of the 25 countries and go between other Schengen countries without showing their passport. Decide how long you plan to stay in France. For most people, 3 months is plenty of time. If a 3-month visa is not waived for your nationality, then apply for a Schengen visa. If you need to stay longer than 3 months, apply for a long-term stay visa. This is required for any nationality outside of the EU and EEA. Most often, the applicants for long-stay visas are applying to work, study or attend a family reunion. Make an appointment at your region's French consulate. This appointment should be 2 weeks to 3 months before your departure, but after you have bought your plane tickets and made travel arrangements. Your visa may not be accepted if you plan to depart less than 2 weeks after your appointment. Allow extra time if you are apply from 1 of the following countries: Afghanistan, Bangladesh, Burundi, Guinea, Iraq, Lebanon, Morocco, North Korea, Palestine, Rwanda, Sudan, Tunisia, Yemen, Algeria, Belarus, Congo, Indonesia, Jordan, Libya, Niger, Oman, Philippines, Saudi Arabia, Suriname, United Arab Emirates, Zimbabwe, Bahrain, Burma, Egypt, Iran, Kuwait, Mali, Nigeria, Pakistan, Qatar, Somalia, Syria, Vietnam, or US Refugees. Fill out 2 copies of a Schengen Visa application form or a Long-Stay Visa application form. These free forms are available online under the \\\"Getting a Visa\\\" Section of the Diplomatie.gouv.fr website. The extra copy is required by most, but not all, countries. Both applications include sections for personal, address, traveling, passport, insurance and return information. Fill it out completely and legibly. Print in black ink or use a typewriter. Check your passport expiry date. The date must be valid for at least 90 days after your departure date from France. Your passport must also have 2 blank pages, be issued within the last 10 years, be in good condition and match your profile. Make 2 copies of all of the identification pages in your passport. Acquire the following supplementary documents to be included with your application. 3 1.4 by 1.7 inch (3.5 by 4.5 cm) passport photographs. Your face must take up approximately 80 percent of the picture and it must show your ears and hairline. Your hotel or tour reservations and your departure and return flight information. These should be separate and detailed documents. Proof of medical insurance coverage while you are traveling in France. The minimum coverage for medical expenses shall be EUR 30 000. Original bank statements from the last 3 months, to show proof of funds while you are traveling in France. Proof of residence in the region where you are applying. A utility bill and an identification card with that address listed may work as proof of residence. Bring the application fee to your appointment in cash. As of August 2019, the application fee for a short term visa is 60 euros, while the application fee for a long term visa is 99 euros. Submit your application, payment documents and photos at your appointment.  Wait approximately 2 to 3 weeks to receive a short-term visa and approximately 2 months to receive a long-term visas. Waiting times may be longer. \",\n          \"Stay on your feet and shout for help. If you let the dog jump on you or bring you to the ground, you'll be in a much weaker position and more likely to be seriously hurt. If you're in a city or residential neighborhood, call out for the dog's owner. If you're in the woods or a rural environment, you'll need to call out for any help you can get. Place an object between yourself and the attacking dog. This will deter the dog from attacking you, or confuse the dog as to what part of you it should attack. If you have a backpack or bag with you, hold it in the dog's direction. If you have nothing else, you can use a piece of clothing to protect yourself from a severe bite. A frenzied dog may bite the backpack or bag in front of you, sparing your arms and legs. If you have time before the dog attacks you, you can wrap a shirt or jacket around your non-dominant arm and use that to distract the dog. Protect your face, neck, and groin. These are the areas that a dog will first attack, and they are the most sensitive areas of your body. Use one arm to cover your face and neck, and the other to shield your groin and belly region. If the dog attacks you while you're using a hand to cover your face and neck with one hand and your groin with the other hand, it may bite you on the hand or arm\\u2014but that would be much less serious than a facial or groin wound. Don't pull away from a bite. If a dog has sunk its teeth into your body, don't try to wrench yourself free. This will tear the flesh and make the bite wound much worse. Strike the dog continuously in a vital area. If you do not have a weapon, you'll need to rely on punching, kicking, and gouging. Your best chance is to attack the dog in a vital area that is easy to injure. This will weaken the dog and reduce its ability to hurt you. Specifically, aim for the eyes, ribs, and groin. A well placed kick to the ribs with a steel-toe boot could be effective at deterring an attacking dog If a dog is latched onto your arm, attack its eyes with your thumbs, strike it in the throat, or seize the dog's throat and try to choke it. These are effective defensive measures and may stop the dog from attacking you. Use weapons to injure the dog. If an aggressive dog is intent on attacking and harming\\u2014or killing\\u2014you, use whatever weapons you have to protect yourself. If you have a knife, stab the dog repeatedly in its face, jaws, and throat. These are vulnerable areas that will cause serious damage and disable the animal. If you are carrying a pistol or gun, aim for the dog's head. If you're not carrying a weapon, use nearby objects (rocks or boards) to strike the dog. Avoid the territory of unfamiliar or dangerous dogs. Of course you shouldn't wander into yards patrolled by strangers' dogs, but dogs may also be territorial about other spaces as well. Keep this in mind if you're walking in the woods or in an unfamiliar part of town, including neighborhood streets and public parks. If you're worried that a dog seems excessively defensive or territorial, find a different way to walk so you're farther away from the dog. Avoid eye contact. If you're concerned about an unfamiliar or hostile dog, and think it may become aggressive and attack you, don't look it in the eye. Eye contact will signify confrontation to the dog, and it will take that as a hostile gesture. Avert your eyes by looking above or below the dog, or to its side. Keep your hands in your pockets. When an aggressive dog is sizing you up and deciding whether or not to attack, he will be looking for parts of your body that are easy to grab on to. Hands are an easy target, since they're exposed and relatively small. Keep your hands in your pockets to avoid giving dogs an easy target, and the dog may decide not to attack you. If the dog does decide to attack, you'll need to quickly pull your hands from your pockets to defend yourself. Don't turn your back on an approaching dog. A dog will take it as a sign of weakness and think you're retreating if you turn your back and run. If you turn your back, the dog will likely attack. Stand sideways to the dog, with your side facing it, and avoid sudden movements. If you stand in this non-threatening pose, the dog may lose interest and wander off. If the dog does not lose interest, walk slowly backward away from the dog until you reach safety. Bring something with you to serve as a shield. When you go for a walk in an area where dogs are often loose, plan ahead to bring something that can help in case of an attack. If a dog is acting aggressive or going to attack you, you can defend yourself and protect your body by placing an object between yourself and the attacking dog. The dog may even clamp down on the shielding object, and avoid harming you altogether. Having something with you like: A sweater or jacket. A book or newspaper. A cane or umbrella. A bicycle. Carry a weapon with you. In case you come across an aggressive dog that attacks you, it's best to be prepared and capable of defending yourself. Pepper spray is available for this purpose, and a knife is certainly better than nothing. Also considering carrying a heavy walking stick that you can swing in self-defense. If you have steel-toed boots or shoes, these can also be used in self-defense against a dog. A firearm is the next step; a pistol can be conveniently carried if the law allows. Pay attention to your surroundings while walking. If you don't carry a weapon, you can use something you find as a weapon tin case a dog attacks. A sturdy board, pole, or branch should be your first choice. If a dog is threatening you, point the stick at the dog to keep it at bay. Do not try to swing at the dog, as this may anger the animal and cause it to attack. If no sticks or poles are around, rocks are the next best choice. Even if there isn't an aggressive dog nearby that could attack, if you're in unfamiliar territory, it's smart to be aware of your surroundings. Consider what objects you could use to defend yourself in the case of a dog attack. \"\n        ],\n        \"semantic_type\": \"\",\n        \"description\": \"\"\n      }\n    },\n    {\n      \"column\": \"step_headers\",\n      \"properties\": {\n        \"dtype\": \"string\",\n        \"num_unique_values\": 20,\n        \"samples\": [\n          \"Rinse the rice. Bring the water to a boil. Add the rice and salt. Cover the pot and let it cook for at least 18 minutes. Turn the heat off and let the rice stand. Spread the rice on a tray and set under a fan for an hour. Heat a wok on the stove. Add a neutral to the pan. Cook the ginger, garlic, onion, peas, and carrots until tender. Pour the beaten eggs into one half of the pan and scramble them. Mix in the cooked rice, soy sauce, and sesame oil. Fry the mixture until heated through. Finished. \",\n          \"Identify the specific French tourist visa requirements for your country. Decide how long you plan to stay in France. Make an appointment at your region's French consulate. Fill out 2 copies of a Schengen Visa application form or a Long-Stay Visa application form. Check your passport expiry date. Acquire the following supplementary documents to be included with your application. Bring the application fee to your appointment in cash. Submit your application, payment documents and photos at your appointment. Wait approximately 2 to 3 weeks to receive a short-term visa and approximately 2 months to receive a long-term visas. \",\n          \"Stay on your feet and shout for help. Place an object between yourself and the attacking dog. Protect your face, neck, and groin. Don't pull away from a bite. Strike the dog continuously in a vital area. Use weapons to injure the dog. Avoid the territory of unfamiliar or dangerous dogs. Avoid eye contact. Keep your hands in your pockets. Don't turn your back on an approaching dog. Bring something with you to serve as a shield. Carry a weapon with you. Pay attention to your surroundings while walking. \"\n        ],\n        \"semantic_type\": \"\",\n        \"description\": \"\"\n      }\n    },\n    {\n      \"column\": \"actual_summary\",\n      \"properties\": {\n        \"dtype\": \"string\",\n        \"num_unique_values\": 20,\n        \"samples\": [\n          \"The text provides a detailed recipe for making fried rice. It begins with rinsing the rice and boiling it in a 1:2 rice to water ratio. After adding salt and optional butter, the rice is cooked for at least 18 minutes. The cooked rice is then spread on a tray and dried under a fan for an hour. A wok is heated on the stove, and a neutral oil is added. Ginger, garlic, onion, peas, and carrots are cooked until tender, then beaten eggs are scrambled in the pan. The cooked rice, soy sauce, and sesame oil are added and mixed well. The mixture is fried until heated through, and can be garnished with chopped green onions.\",\n          \"The French tourist visa requirements vary depending on the applicant's home country. Citizens of the EU, EEA, Andorra, Monaco, Switzerland, and several other countries do not need a tourist visa for any length of stay. Those from countries not listed, including South Africa, India, Algeria, Philippines, Ukraine, China, Thailand, Russia, Zimbabwe and Pakistan, will likely need to apply for a 3-month Schengen visa. For stays longer than 3 months, a long-term stay visa is required for any nationality outside of the EU and EEA. Applicants must make an appointment at their region's French consulate 2 weeks to 3 months before departure, fill out the relevant visa application form, and provide supplementary documents including passport photographs, proof of medical insurance, bank statements, and proof of residence. The application fee for a short term visa is 60 euros, and for a long term visa is 99 euros. Processing times vary, but typically take 2 to 3 weeks for a short-term visa and approximately 2 months for a long-term visa.\",\n          \"The text provides advice on how to protect oneself from a dog attack. It suggests shouting for help, placing an object between oneself and the dog, protecting sensitive body areas, and not pulling away from a bite. It also recommends striking the dog in vital areas if necessary, using weapons if available, and avoiding the territory of unfamiliar or dangerous dogs. Other tips include avoiding eye contact, keeping hands in pockets, not turning one's back on an approaching dog, and carrying a shield or weapon. It also emphasizes the importance of being aware of one's surroundings.\"\n        ],\n        \"semantic_type\": \"\",\n        \"description\": \"\"\n      }\n    }\n  ]\n}"
            }
          },
          "metadata": {},
          "execution_count": 22
        }
      ]
    },
    {
      "cell_type": "markdown",
      "source": [
        "## 6. Running evaluation\n"
      ],
      "metadata": {
        "id": "4YiBCvFAO6sG"
      }
    },
    {
      "cell_type": "code",
      "source": [
        "from deepeval import evaluate\n",
        "from deepeval.metrics import SummarizationMetric\n",
        "from deepeval.test_case import LLMTestCase\n",
        "\n",
        "\n",
        "test_cases = []\n",
        "for _, row in wiki_df.iloc[:5].iterrows():\n",
        "  test_cases.append(\n",
        "      LLMTestCase(\n",
        "          input=row[\"article\"],\n",
        "          actual_output=row[\"actual_summary\"],\n",
        "          # expected_output=row[\"summary\"],\n",
        "\n",
        "      )\n",
        "  )\n",
        "\n",
        "metric = SummarizationMetric(\n",
        "    threshold=0.5,\n",
        "    model=\"gpt-4\"\n",
        ")\n",
        "\n",
        "\n",
        "result = evaluate(test_cases, [metric])"
      ],
      "metadata": {
        "colab": {
          "base_uri": "https://localhost:8080/",
          "height": 1000,
          "referenced_widgets": [
            "dcaaa6c8c841432884a9c8ea416f7413",
            "44c5aa7835474d8e8f92d9724ddc0a4f",
            "03a61bf994db4ca4bdcc7cb70ea46c46",
            "82a74183914742f39c4ef6668e698ba2",
            "489cb1cf4a7f4f36ba8899f799e061b9",
            "4b270b88956f4d058a606bb08b598b01",
            "4334032dc1dd415e99f526c5fdfe7bb8",
            "14593b1131ff41129f1d8b5f42f6abfc",
            "156aa2742b0f4a4ba2c7bc0c40940fcf",
            "2c26a3b3ace846f2b4847bf6b9381094"
          ]
        },
        "id": "bYfX4BOwPAXI",
        "outputId": "0a4ec88d-149a-41cc-e981-71ee141ded48"
      },
      "execution_count": 26,
      "outputs": [
        {
          "output_type": "display_data",
          "data": {
            "text/plain": [
              "Output()"
            ],
            "application/vnd.jupyter.widget-view+json": {
              "version_major": 2,
              "version_minor": 0,
              "model_id": "dcaaa6c8c841432884a9c8ea416f7413"
            }
          },
          "metadata": {}
        },
        {
          "output_type": "stream",
          "name": "stdout",
          "text": [
            "Evaluating test cases...\n",
            "Event loop is already running. Applying nest_asyncio patch to allow async execution...\n"
          ]
        },
        {
          "output_type": "display_data",
          "data": {
            "text/plain": [],
            "text/html": [
              "<pre style=\"white-space:pre;overflow-x:auto;line-height:normal;font-family:Menlo,'DejaVu Sans Mono',consolas,'Courier New',monospace\"></pre>\n"
            ]
          },
          "metadata": {}
        },
        {
          "output_type": "display_data",
          "data": {
            "text/plain": [
              "\n"
            ],
            "text/html": [
              "<pre style=\"white-space:pre;overflow-x:auto;line-height:normal;font-family:Menlo,'DejaVu Sans Mono',consolas,'Courier New',monospace\">\n",
              "</pre>\n"
            ]
          },
          "metadata": {}
        },
        {
          "output_type": "display_data",
          "data": {
            "text/plain": [
              "Output()"
            ],
            "application/vnd.jupyter.widget-view+json": {
              "version_major": 2,
              "version_minor": 0,
              "model_id": "03a61bf994db4ca4bdcc7cb70ea46c46"
            }
          },
          "metadata": {}
        },
        {
          "output_type": "stream",
          "name": "stderr",
          "text": [
            "/usr/local/lib/python3.10/dist-packages/portalocker/utils.py:218: UserWarning: timeout has no effect in blocking mode\n",
            "  warnings.warn(\n"
          ]
        },
        {
          "output_type": "display_data",
          "data": {
            "text/plain": [],
            "text/html": [
              "<pre style=\"white-space:pre;overflow-x:auto;line-height:normal;font-family:Menlo,'DejaVu Sans Mono',consolas,'Courier New',monospace\"></pre>\n"
            ]
          },
          "metadata": {}
        },
        {
          "output_type": "display_data",
          "data": {
            "text/plain": [
              "\n"
            ],
            "text/html": [
              "<pre style=\"white-space:pre;overflow-x:auto;line-height:normal;font-family:Menlo,'DejaVu Sans Mono',consolas,'Courier New',monospace\">\n",
              "</pre>\n"
            ]
          },
          "metadata": {}
        },
        {
          "output_type": "display_data",
          "data": {
            "text/plain": [
              "Output()"
            ],
            "application/vnd.jupyter.widget-view+json": {
              "version_major": 2,
              "version_minor": 0,
              "model_id": "489cb1cf4a7f4f36ba8899f799e061b9"
            }
          },
          "metadata": {}
        },
        {
          "output_type": "stream",
          "name": "stderr",
          "text": [
            "/usr/local/lib/python3.10/dist-packages/portalocker/utils.py:218: UserWarning: timeout has no effect in blocking mode\n",
            "  warnings.warn(\n"
          ]
        },
        {
          "output_type": "display_data",
          "data": {
            "text/plain": [],
            "text/html": [
              "<pre style=\"white-space:pre;overflow-x:auto;line-height:normal;font-family:Menlo,'DejaVu Sans Mono',consolas,'Courier New',monospace\"></pre>\n"
            ]
          },
          "metadata": {}
        },
        {
          "output_type": "display_data",
          "data": {
            "text/plain": [
              "\n"
            ],
            "text/html": [
              "<pre style=\"white-space:pre;overflow-x:auto;line-height:normal;font-family:Menlo,'DejaVu Sans Mono',consolas,'Courier New',monospace\">\n",
              "</pre>\n"
            ]
          },
          "metadata": {}
        },
        {
          "output_type": "display_data",
          "data": {
            "text/plain": [
              "Output()"
            ],
            "application/vnd.jupyter.widget-view+json": {
              "version_major": 2,
              "version_minor": 0,
              "model_id": "4334032dc1dd415e99f526c5fdfe7bb8"
            }
          },
          "metadata": {}
        },
        {
          "output_type": "stream",
          "name": "stderr",
          "text": [
            "/usr/local/lib/python3.10/dist-packages/portalocker/utils.py:218: UserWarning: timeout has no effect in blocking mode\n",
            "  warnings.warn(\n"
          ]
        },
        {
          "output_type": "display_data",
          "data": {
            "text/plain": [],
            "text/html": [
              "<pre style=\"white-space:pre;overflow-x:auto;line-height:normal;font-family:Menlo,'DejaVu Sans Mono',consolas,'Courier New',monospace\"></pre>\n"
            ]
          },
          "metadata": {}
        },
        {
          "output_type": "display_data",
          "data": {
            "text/plain": [
              "\n"
            ],
            "text/html": [
              "<pre style=\"white-space:pre;overflow-x:auto;line-height:normal;font-family:Menlo,'DejaVu Sans Mono',consolas,'Courier New',monospace\">\n",
              "</pre>\n"
            ]
          },
          "metadata": {}
        },
        {
          "output_type": "display_data",
          "data": {
            "text/plain": [
              "Output()"
            ],
            "application/vnd.jupyter.widget-view+json": {
              "version_major": 2,
              "version_minor": 0,
              "model_id": "156aa2742b0f4a4ba2c7bc0c40940fcf"
            }
          },
          "metadata": {}
        },
        {
          "output_type": "stream",
          "name": "stderr",
          "text": [
            "/usr/local/lib/python3.10/dist-packages/portalocker/utils.py:218: UserWarning: timeout has no effect in blocking mode\n",
            "  warnings.warn(\n"
          ]
        },
        {
          "output_type": "display_data",
          "data": {
            "text/plain": [],
            "text/html": [
              "<pre style=\"white-space:pre;overflow-x:auto;line-height:normal;font-family:Menlo,'DejaVu Sans Mono',consolas,'Courier New',monospace\"></pre>\n"
            ]
          },
          "metadata": {}
        },
        {
          "output_type": "display_data",
          "data": {
            "text/plain": [
              "\n"
            ],
            "text/html": [
              "<pre style=\"white-space:pre;overflow-x:auto;line-height:normal;font-family:Menlo,'DejaVu Sans Mono',consolas,'Courier New',monospace\">\n",
              "</pre>\n"
            ]
          },
          "metadata": {}
        },
        {
          "output_type": "stream",
          "name": "stdout",
          "text": [
            "\n",
            "======================================================================\n",
            "\n",
            "Metrics Summary\n",
            "\n",
            "  - ✅ Summarization (score: 0.6, threshold: 0.5, strict: False, evaluation model: gpt-4, reason: The score is 0.60 because while there are no contradictions between the summary and the original text, the summary includes extra information not mentioned in the original. Additionally, the summary fails to answer specific questions that the original text could have answered, such as proper cooking techniques and possible alternatives for cooking equipment., error: None)\n",
            "      - Alignment (score: 0.9)\n",
            "      - Coverage (score: 0.6)\n",
            "\n",
            "For test case:\n",
            "\n",
            "  - input: Rinse the rice. Before cooking your rice, it's a good idea to rinse it in a strainer. That will remove any dust, starch, or other debris that might be on the surface of the rice. Place the rice in a strainer, and rinse it with cold water. If you're short on time, you can skip rinsing the rice. Be aware that you may wind up with stickier cooked rice if you don't, though. Bring the water to a boil. In a small to medium pot, add water in a 1:2 rice to water ratio. For this recipe, you'll need to add 2 cups (473 mL) of water to the pot. Place the pot on the stove on high heat and bring it to a boil. Keep in mind that rice expands when it cooks so be sure your pot is large enough. A 2-quart (2.5 L) pot is usually large enough for 1 cup (195 g) of uncooked rice. Add the rice and salt. Once the water comes to a boil, pour 1 cup (195) of medium-grain white or brown rice and ½ teaspoon (2.84 g) salt into the pot. Lower the heat to medium low to bring the pot back to a gentle simmer. 1 cup of uncooked rice should produce approximately 3 cups of cooked rice. In addition to the salt, you can also flavor your rice with butter. Mix in 1 tablespoon (approximately 14 g) butter if you desire. Cover the pot and let it cook for at least 18 minutes. After the pot comes back to a gentle simmer, turn the burner's heat down to low. Place the lid on the pot, and allow the rice to cook for at least 18 minutes. At that point, start checking on the rice. It's ready when it is firm but tender or no longer crunchy. Your rice may be slightly sticky when it's finished cooking, but it shouldn't be gummy. Brown rice takes longer to cook, so begin checking it after it's cooked for approximately 30 minutes. Don't take the lid off the pot before the 18- or 30-minute mark, depending on what type of rice you're cooking. You'll allow steam to escape, which can actually lengthen the cooking time. If there's still water in the pot when the rice is finished, drain the excess into the sink. Turn the heat off and let the rice stand. When you're sure that the rice is done, turn off the burner and let it to sit in the pot with the lid still on for 2 to 3 minutes. That will allow the rice to steam for a few more minutes to ensure that it's finished cooking. Spread the rice on a tray and set under a fan for an hour. You want your rice to be slightly dry when you fry it, so spread the cooked rice out in a single layer on tray, cookie sheet, or other large pan. Set the pan beneath a table fan for approximately 1 hour to help dry out the rice. Heat a wok on the stove. Traditionally, fried rice is made in a wok, so that's the best option when you're frying the dish at home. Set the pan on the stove, and turn the heat to medium to preheat it for approximately five minutes. If you don't have a wok, a large skillet or frying pan can work for frying your rice too. Add a neutral to the pan. When the pan is heated, pour 2 tablespoons (approximately 30 mL) of a neutral oil, such as canola or grapeseed, in it. Turn the pan slowly to ensure that the oil evenly coats the bottom. Neutral oils are those that don't have a strong taste on their own, so they won't add any extra flavor to your dish. In addition to canola and grapeseed, corn, peanut, and safflower are others to consider. Cook the ginger, garlic, onion, peas, and carrots until tender. Add 1 small white onion that's been chopped, 1 cup (150 g) frozen peas and carrots that have been defrosted, 1 teaspoon (5 g) finely chopped ginger, and 1 teaspoon (5 g) finely chopped garlic to the pan. Turn the heat up to medium high, and fry the vegetables until they are tender. It should take approximately 10 minutes. You can add any type of vegetable to the fried rice that you like. Some options you may want to consider include chopped cabbage, chopped French beans, chopped bell peppers, chopped mushrooms, chopped water chestnuts, or chopped green onions. Pour the beaten eggs into one half of the pan and scramble them. When the vegetables have finished cooking, use a spatula to push them to one side of the pan. Next, pour 2 eggs that have been lightly beaten into the pan. Scramble them with the spatula, and once they've set up, mix them into the vegetables. If you prefer, you can use an egg substitute in place of the eggs. Mix in the cooked rice, soy sauce, and sesame oil. Once the eggs are cooked and mixed with the vegetables, add in the 3 cups of cooked rice. Pour 2 to 3 tablespoons (30 to 44 mL) of soy sauce, depending on your personal taste, on top of the rice. Next, mix in 1 tablespoon (15 mL) of sesame oil, and stir all of the ingredients together until well combined. In place of the soy sauce, you can use fish sauce or oyster sauce. You can also add in some cooked chicken or steak that's been cut into strips or chopped if you want to make a meal out the rice. It's a good idea to taste the rice after you mix in the soy sauce and sesame oil. If necessary, add salt and freshly ground black pepper to taste. Fry the mixture until heated through. Continue stirring the mixture in the pan as it cooks on medium heat. Fry the rice until all of the ingredients are fully heated through, which should take approximately 5 minutes. If it seems like the rice is starting to scorch, lower the heat. Add a few additional drops of oil to the pan if the rice mixture is sticking to it. You may want to garnish the finished rice with chopped green onions. Finished.  \n",
            "  - actual output: The text provides a detailed recipe for making fried rice. It begins with rinsing the rice and boiling it in a 1:2 rice to water ratio. After adding salt and optional butter, the rice is cooked for at least 18 minutes. The cooked rice is then spread on a tray and dried under a fan for an hour. A wok is heated on the stove, and a neutral oil is added. Ginger, garlic, onion, peas, and carrots are cooked until tender, then beaten eggs are scrambled in the pan. The cooked rice, soy sauce, and sesame oil are added and mixed well. The mixture is fried until heated through, and can be garnished with chopped green onions.\n",
            "  - expected output: None\n",
            "  - context: None\n",
            "  - retrieval context: None\n",
            "\n",
            "======================================================================\n",
            "\n",
            "Metrics Summary\n",
            "\n",
            "  - ❌ Summarization (score: 0, threshold: 0.5, strict: False, evaluation model: gpt-4, reason: The score is 0.00 because the summary includes a significant amount of extra information that was not present in the original text, suggesting that the summary did not accurately reflect the content of the original text., error: None)\n",
            "      - Alignment (score: 0.6363636363636364)\n",
            "      - Coverage (score: 0)\n",
            "\n",
            "For test case:\n",
            "\n",
            "  - input: Listen to other parodies. Weird Al Yankovic, Lonely Island, Tenacious D and Deathlock all parody songs and styles of music. They'll give you an idea of what a good parody does and how the genre works. Listen to as many parody songs as you can to get a good idea of where to start. If you can, listen to parodies of the same genre of music that you are thinking of writing a parody for. For example, if you want to write a pop parody, listen to pop parodies. Think about your target audience. The kind of parody you write will depend a lot on the people that will be listening to it. If you're just going to show it to friends, it will make sense to choose a song that you all like. For larger audiences reached with a Youtube post, you'll want to pick a more widely popular song. Knowing your audience will help you narrow down what sort of song to write a parody for. Decide what kind of parody you want to make. Some parodies are funny, others are educational, and others parody entire genres instead of specific songs. The type of parody you write will depend on your personality and the kind of audience you want to reach. Choose a humorous parody if you want something easy. They are the most common type of parody song. For this type of parody, you'll change the lyrics of a popular song or one that's easy to recognize. The new lyrics will be silly, offbeat or downright hilarious. Examples include: “White and Nerdy” by Weird Al Yankovic “What Makes You Beautiful” by The Key of Awesome “The Star Wars I Used to Know” by Teddie Films Consider an educational parody to help you study. They are great for helping you remember facts because the info is set to the tune of a popular song. You can write your own educational parodies for classes you're taking, such as math, geology, or art history. Pick a song, then write new lyrics about the subject. Educational parodies are often written by teachers or coaches for their students Try a genre parody if you want something more general but still funny. These types of parodies involve a little more work, because you may have to write your own original song instead of use an existing pop song. You'll use an original song to make fun of stereotypes about certain types of music, like metal or overly-sexual pop songs. To find examples of genre parodies, look up \"Deathklok\" or \"The Lonely Island.\" Pick a good song to parody. It needs to be a song that people recognize instantly, so a current pop hit or an old standard would be a good choice. Again, make sure it's also a song that appeals to your target audience. If you're writing a parody song for your friends who love hip hop, you might pick a Kanye West song instead of a Katy Perry song. Pick a song with a distinct chorus and verses. The more separate and obvious the verses and choruses of a song are, the easier it will be to write your parody. The chorus can be repeated multiple times, and you'll only need to write new words for the verses. Pick a song you like. Parody writers generally admire the songs that they parody, and decide to make them funnier. You'll also have to listen to the song many times to write the lyrics, so don't pick a song that you dislike. Listen to your song. Listen to the song a few times to get a feeling for the beat and the flow of the lyrics. Start thinking about good substitutes for words in the songs. Some parodies will come naturally, because the words may sound like other, more funny words or plots. For example, Weird Al's “Eat It” and “White and Nerdy” started out as “Beat It” and “Ridin' Dirty.” Think about potential substitutes. The kind of lyrics you'll want to write obviously depend on your sense of humor and the type of song, but there are different things you can look out for. Listen for words in the chorus that could be substituted for other words, especially if the new words are silly or ridiculous: \"Sugar\" by Maroon 5 might become \"Booger\", while \"Hotline Bling\" by Drake could become \"Burger King\". Leave some phrases. For some songs, you may not have to change certain lyrics. If some lines could have double meanings, leave them to create extra comedic effect. For example, “TNT” by AC/DC could become an education song about actual explosives, while “Stone Cold” by Demi Lovato could turn into a song about the wrestler. Start generating the theme for your parody. You'll want your parody to have a cohesive theme from start to finish. Some parodies tell stories, while others describe situations or types of people. Either way, you'll want the chorus and verses to play off of each other, instead of having them be disjointed or about topics that don't match up. Change a word to something silly to generate your theme. Once you have one funny word, like \"Booger\" instead of \"Sugar\" or \"Burger King\" instead of \"Hotline Bling\", build the rest of the song around it. \"Burger King\" could be about working at a Burger King or going on a late night run for fast food, while \"Booger\" could turn into a story about gross bodily functions. Make up a story. If you haven't found any substitute words yet, simply make up your own topic. The more off the wall it is, the funnier your parody will be. \"Work\" by Rihanna could become a story about hating your job, while \"Trap Queen\" by Fetty Wap could turn into a story about a female fur trapping expert from Alaska. Write educational content with a sense of humor. Write a Christian-Pop-style song about Charles Darwin or a song about geology to the tune of \"I Love Rock and Roll.\" Make sure to include all of the information you want to teach in your educational song: the catchier it is, the easier the material will be to remember. Pick a genre with lots of stereotypes that are funny and easy to exploit. Every style of music has its own idiosyncrasies and stereotypes that are easy to make fun of. Pop music is repetitive and silly; metal is loud and angry; country musicians only sing about ex-girlfriends and trucks. Remember your target audience too; it won't make any sense to parody a classic rock song if none of your audience is old enough to remember AC/DC or Queen. Find or record a generic instrumental. A genre parody will require different resources than a song parody. Since you're making fun of a style of music instead of a single song, you will be able to use any instrumental track in that genre and it won't have to be well known or recognizable. Check online for databases of instrumental tracks. Some are free, while others you'll have to pay for. If you're a musician, record or make the track yourself. If you make the track, you'll have a little more creative control over your parody. You'll be able to ham up silly elements of a genre, like long breakdowns or over-the-top synthesizer choruses. Decide what aspects of the genre to parody. There are many things about music genres that make them irritating or fun to parody. Subject matter of songs, attitudes of performers or aspects of the music itself can be parodied. Make fun of the subject matter. Flight of the Concords and The Lonely Islands are two bands that love to parody stupid or silly lyrics and subject matter: check out their parodies for some examples. The more vapid, meaningless or over-the-top the subjects and lyrics of your chosen genre, the easier they will be to make fun of. Parody the attitudes and actions of the genre's performers. Acts like Dethklok, The Rutles and Spinal Tap are great examples of this. All poke fun at the way that their genre's performers sing, act and view the world. The Rutles, for example, performed in a feature called \"All You Need is Cash,\" making fun of the Beatles commercialization. Dethklok parodies metal musicians hyper masculinity, violence and anger in the show Metalocalypse. Note that these more elaborate parodies often involve dressing and acting like the musicians, so they will be more effective if you make a music video for your parody or play a live gig. Parody aspects of the music. Every genre has memorable and unique musical characteristics make them easy to parody. For example, you might parody excessively long guitar solos in classic rock songs, corny saxophone runs in an 80s ballad, or apocalyptic sounding rap beats. Pick a topic for your parody. Even if you're just parodying a part of a genre, you'll still need a whole song's worth of lyrics. Pick a funny subject and/or a very stereotypical one for your genre: a country parody might be about having 20 tractors, while a pop parody might be about a veiled innuendo. Consider unexpected topics. Some parodies are humorous because they introduce topics you didn't expect in a specific category. For example, Mac Sabbath perform songs in the style of Black Sabbath, but sing about fast food. You might consider writing a gangster rap song about working in an office or an easy listening song about a crazy party. Write the lyrics. Once you've nailed down a theme and a few funny phrases here and there, flesh out the rest of the song. It might take a while, and a lot of brainstorming, so get ready to be creative. Your lyrics will depend on whether you're writing a song parody or a genre parody. In general, song parodies will require more attention to detail, while genre parodies only have to fit the backing track. Start with a blank sheet of paper. Write in pencil so you can erase parts of the song if you change your mind. Don't worry about changing the lyrics too many times: part of the creative process is getting rid of ideas when they don't work. Listen to the song slowly, stopping the track after each phrase, writing down lyrics that come to mind. If you are more of a digital person, then you can do this on the computer using a word editing program, such as Notepad or Microsoft Word. Write the chorus first. The chorus contains the hook and is the main part of the song, so start there first. Listen to the chorus as many times as you need to while writing. If you're writing a song parody, pay close attention to the flow of the words and the chorus melody. You want to match these as closely as possible. Pay attention to the line breaks. Don't write everything out in a single paragraph. Try to keep each sentence in its own line. Work on the verses in order. Start with the first chorus and work your way to the end of the song, counting bridges and breakdowns as verses too. You'll want to work from the beginning to the end so that your song makes sense all the way through. If you write separate verses in a random order, the plot of your song may not make sense. Match rhymes and rhythms if you're writing a song parody. The more your song sounds like the original, the better and funnier the parody will be. Your listener will immediately recognize a famous tune, but if your lyrics and rhythm don't match the original, they'll only be confused. Try to closely match the types of words and descriptions as closely as possible, listening to the song as many times as you need to. Match the rhythm and flow of the lyrics, and don't try to cram too many words into a single phrase. More words may help you tell your story, but it won't sound much like the original song. Try to rhyme your lyrics with the actual song. While it may be really difficult, try to rhyme the words in your song with the words in the real song. This will help it sound more like the original. Use a rhyming dictionary if you get stuck. Exaggerate a genre parody. The more outrageous and silly your genre parody is, the funnier it will be. In The Lonely Island's “Jack Sparrow,” the group makes fun of rap songs with epic choruses, and the choruses get more and more ridiculous and epic each time they come around. Don't be afraid to ham it up a little bit for comedic effect. Find or make an instrumental track. The instrumental track will be the backbone of your song, so you'll want it to be of good quality. The type of track you make or download will be different depending on which type of parody you want to make. Find an official instrumental. If you're parodying a current song, you'll often be able to find an instrumental of the backing track on the artist's album or website. If you can't find what you're looking for, search online for the instrumental on Soundcloud or Youtube. DJs and electronic artists often get exclusive copies of the tracks and share them. Use a karaoke track. While karaoke tracks can sound a little corny or canned, they might work well enough for what you want to make. Search karaoke archives or websites for the track that you need. You may have to pay for these tracks, however. Edit your own instrumental. It may be possible to edit the lyrics out of the song you want to parody. Certain plugins for audio editing software can remove vocals, or you can cut and paste sections of a song with no lyrics to make a word-free version. The quality of your product will depend a lot on your editing skills and the type of song. Play the song on your own instruments. If you're skilled with a guitar, piano or other instruments, make your own backing track. Record and edit it before you lay down vocals to make sure that you have the verses and choruses in the right places. Record your vocals. Use recording software and a microphone to record your vocals. Use audio editing software that came with your computer, such as Garageband, or download open source software like Audacity. Edit your recording. Do a few takes of your vocals and then pick and choose which are best. You can edit together better performances of verses and choruses to make the best recording possible. Share your parody. Upload your song to a platform like Soundcloud, iTunes, Facebook, Myspace, Bandcamp or Youtube. This will allow many people to check out your creation. Don't forget to spread the word across your own social media profiles. The more interest you create, the more views you'll receive.. If you upload on Youtube, consider making a music video to complement your parody. Many popular Youtube videos are parodies, and their videos are as funny as their songs. Buy or borrow a good camera, film and edit a video to go with your song to create an even bigger impression. \n",
            "  - actual output: The text provides a comprehensive guide on how to create a music parody. It suggests listening to other parodies to understand the genre, considering the target audience, and deciding on the type of parody to create. The text also advises on choosing a recognizable song that appeals to the target audience and has a distinct chorus and verses. It recommends creating a cohesive theme, substituting words for comedic effect, and writing lyrics that closely match the original song's rhythm and rhyme. The guide also covers recording and editing the parody, and sharing it on platforms like Soundcloud, iTunes, Facebook, Myspace, Bandcamp, or Youtube.\n",
            "  - expected output: None\n",
            "  - context: None\n",
            "  - retrieval context: None\n",
            "\n",
            "======================================================================\n",
            "\n",
            "Metrics Summary\n",
            "\n",
            "  - ❌ Summarization (score: 0, threshold: 0.5, strict: False, evaluation model: gpt-4, reason: The score is 0.00 because the summary perfectly matches the original text without adding any extra information or contradicting the original., error: None)\n",
            "      - Alignment (score: 1.0)\n",
            "      - Coverage (score: 0)\n",
            "\n",
            "For test case:\n",
            "\n",
            "  - input: Grab an empty spray bottle. Either buy an empty spritzer bottle, or empty and rinse out another spray bottle you already have. If you use a bottle that had liquid in it already, make sure it was a mild, non-acidic cleaner. If you use a bottle that has harsh chemicals, some of that may transfer to the floor. Mix a solution with dish soap, rubbing alcohol, and water. Place a funnel in the top of the bottle to make pouring easier. Measure out ¼ teaspoon (1.23 ml) of dish soap and pour it in the bottle. Measure ¼ cup (59 ml) of rubbing alcohol and pour it in. Then add 2 ½ cups (591.5 ml) of water to the bottle. Swirl the liquid around to mix it up. Gently swirl the bottle in a circular motion to to completely combine all of the ingredients. It take less than 30 seconds for the liquids to combine. The dish soap may form suds, but don't worry about it. Spray dirty spots on the terrazzo with the solution. Look for spots on the terrazzo that are hazy or dirty and spray the solution liberally. This solution works well for cleaning up terrazzo countertops, or for cleaning small sections of flooring. Only use this solution on terrazzo that has been sealed with commercial sealer or the moisture will soak into the pores. If an entire floor needs to be cleaned, opt for steam cleaning rather than using this solution. Let the cleaner sit for 30 seconds-3 minutes. Especially for spots that are particularly dirty, let the solution sit for two or three minutes to give it time to work. If you are in a hurry, wipe it up as quickly as you need to. It's not necessary to let the cleaner sit for more than a few minutes. Wipe the spot with a damp towel. Use a clean rag when you wipe up the solution. Dampen the rag with hot water and wipe the spot with circular motions. If any spots still appear hazy or dirty, spray them again and let it sit for longer before you wipe it up. Clear everything off of the terrazzo. Move any furniture that is on the terrazzo floor out of the way so you have no obstacles to clean around. If there is other clutter like papers, toys, or containers, move those out of the way too. Before cleaning a terrazzo floor, make sure it is has been commercially sealed. It should have a smooth, glossy look. If it appears rough or dull, consult a flooring professional before doing any cleaning. Dust mop the floor. Before you do a deep clean with a steam cleaner, run a dust mop across the entire floor to pick up hair, dust, and dirt first. Cleaning with steam will not be effective if there is a lot of debris still on the floor. Fill the steam cleaner with water. Follow the instructions on the steam cleaner for how much water it needs and where the water goes. If you know that your tap water has a lot of mineral content, it's best to use distilled water. Water with lots of mineral particles cannot clean effectively. Mineral-filled water will also leave residue on the inside of your steam cleaner which will eventually make it ineffective for cleaning. Some steam cleaners require you to add detergent, but the best type to use for terrazzo floors are steam cleaners that do not use soap. Start in a corner and pull the cleaner in straight lines back and forth. Position the steam cleaner in a corner and pull it outward in a straight line. Continue to pull the steam cleaner back and forth in straight lines. Slightly overlap the previous line to make sure you don't miss any spots. Pull the steam cleaner slowly across the floor. Steam cleaners are not meant to be pushed and pulled quickly. Be sure to go slowly, allowing it to sit on each part of the floor for two to three seconds, or eight to ten seconds for especially dirty floors. Do not leave the steamer sitting on a spot for more than 15 seconds as this can begin to damage the floor. Place a sign warning people that the floor is wet. After you have steam cleaned the whole floor, it's important to make sure people are safe. If you have a yellow “Wet Floor” sign, set this up. If not write some kind of sign so that people know not to walk on the floor, or to be extra careful. Allow the floor to air dry. Let the floor air dry once you have cleaned it. It helps to turn on an overhead fan, or set up fans or blowers to get the floor dry faster. Place floor mats at entrances. One of the best ways to protect the floor is to keep gritty substances off of it. Placing floor mats in areas that lead up to terrazzo floors is a good way to clean shoes, especially in high traffic areas. Floor mats trap sand and other debris so it stays off the terrazzo floor. For terrazzo floors in your home, considering keeping your shoes off of them altogether. Dust mop the floor on a regular basis. One of the primary threats to your terrazzo floor is abrasive particles like dirt and sand. Run a dry dust mop across the floor daily for high traffic areas. It is good to dust mop at least twice weekly to keep the floor from weakening. If you don't have a dust mop, sweep the floor with a broom or use a Swiffer style sweeper with a dusting cloth attached. Wipe spills up immediately. Terrazzo floors are susceptible to water damage if liquid is left sitting on the surface. Anytime you spill, wipe it up quickly with a clean, damp cloth. This is especially important for acidic liquid like citrus juices, carbonated soda, and coffee. \n",
            "  - actual output: The article provides a detailed guide on how to clean terrazzo floors. It suggests using a homemade solution of dish soap, rubbing alcohol, and water for spot cleaning, but emphasizes that the floor must be sealed with a commercial sealer to prevent moisture absorption. For a full floor clean, it recommends steam cleaning after dust mopping to remove debris. The article also advises to let the floor air dry after cleaning, place floor mats at entrances to trap debris, dust mop regularly, and immediately wipe up any spills to prevent water damage.\n",
            "  - expected output: None\n",
            "  - context: None\n",
            "  - retrieval context: None\n",
            "\n",
            "======================================================================\n",
            "\n",
            "Metrics Summary\n",
            "\n",
            "  - ❌ Summarization (score: 0, threshold: 0.5, strict: False, evaluation model: gpt-4, reason: The score is 0.00 because the summary perfectly matches the original text, with no contradictions or extra information. The summary is a precise and accurate representation of the original text., error: None)\n",
            "      - Alignment (score: 1.0)\n",
            "      - Coverage (score: 0)\n",
            "\n",
            "For test case:\n",
            "\n",
            "  - input: Enroll in math and science courses. Depending on what your high school offers, taking as many science courses as possible is a great way to start on a career path to becoming a neonatal nurse. You will want to take basic science courses, such as chemistry, physics, and biology, as well as any elective science courses that may be offered (for example, courses in forensics or anatomy would be helpful). In addition, you will want to enroll in mathematics courses, particularly in subjects such as algebra and calculus. Having a strong background in math and science will make you a more attractive candidate for college-level nursing programs. In addition to math and science courses, you should include English and language arts, psychology, and foreign language classes in your coursework if possible. All of these classes offer skills that you will require as a neonatal nurse. Take Advanced Placement (AP) courses if offered. These courses can help set you apart as a particularly high-achieving student and can propel you on the right trajectory to becoming a neonatal nurse when you begin college. Work hard in the classroom. Admission into college-level nursing programs is very competitive, and your grade point average (GPA) will be important. If you are struggling in any of your courses, talk with your teacher or an adviser to prevent getting a poor grade that may affect your chances of getting into a competitive nursing program. In addition to having a high GPA, you should look to perform well on your college entrance exams (such as the SAT or ACT). A good score on these entrance exams can help you obtain a place in a great nursing program. Volunteer at a local hospital. Volunteering is a great way to give back to your community and it is a great activity to include on a resume when applying to nursing programs. Volunteering in a healthcare setting shows that you have exposure to the demands of working in a healthcare profession and shows that you are caring and dedicated to helping ill people feel better. In order to find volunteer opportunities, check with your local hospital to see if they offer a summer volunteer program for high school student. In order to find a program near you, do an online search for “volunteer opportunities in hospital” and you will find many opportunities. Alternatively, visit your local hospital and inquire about any opportunities they may have. While you are volunteering, talk to nurses and to neonatal nurses in particular. They may be able to offer advice or insight into their careers that is hard to match. If you develop a relationship with a nurse, you might ask her if you can “shadow” her for a day. By following her around and seeing her day to day duties and responsibilities, you will have a better idea of what it takes to be a nurse. Take a first aid or CPR class. Your school may offer these classes as part of their curriculum, or you may have to seek them out from a local community center. Taking one of these classes will demonstrate that you have experience with health-related skills and will show your motivation to become a nurse. To find a first aid or CPR class, visit the website of the American Heart Association. They list options for courses for the general community that you may be interested in. Attend nursing camp. If possible, you may want to look into attending nursing camp during one of your summers in high school. You can do an online search to see if there is a program that you can attend that's near you. For example, Seattle Children's Hospital offers a summer nursing camp to expose high school students to the role of a nurse in various clinical settings. Some nursing camps require you to apply. You will want to find out the entry requirements for a camp you may be interested in attending as early as possible. Enroll in an undergraduate education. You will want to enroll in a college or university where you can get a four-year undergraduate Bachelor of Science degree. Preferably, you will go to a university where you can receive a bachelor of science in nursing (BSN, BScN) degree. Within a BSN program, you will complete your general education courses and also have training in math and science requirements that will be integral to your future career as a neonatal nurse. These courses include statistics, microbiology, anatomy, and physiology. Do an online search for colleges and universities that you may be interested in that have BSN programs. If you are having trouble locating programs, speak with a guidance counselor or other teacher who can help you find a program that would be appropriate for you. Oftentimes, states have universities and colleges that offer nursing programs. In-state tuition costs are less expensive than out of state programs, and public university is less costly then private. It is also essential you confirm that the program is accredited through a national organization. Keep up your grades. You will need to complete all the courses in your BSN program and keep your grade point average as high as possible. In order to get into a graduate nursing program (which you will need for your training in a neonatal specialty), many programs will require at least a 3.3 GPA (on a 4.0 scale) as well as a grade of B or better in all science and nursing courses. If possible, take neonatal nursing electives. Your college advisor may be able to recommend some relevant electives, or you can talk to certified neonatal nurses to find out what kind of classes they would recommend that you take. Obtain relevant work experience. In addition to having good grades, you will need relevant work experience. Many potential employers will want you to have experience in particular working with ill infants. This work experience will be critical for building up your resume. Try to get as much experience as possible working in a hospital setting, whether through internships set up by your college or university or by volunteering or shadowing neonatal nurses at a local hospital. Become a member of the National Association of Neonatal Nurses (NANN). Membership in NANN can help you connect with practicing neonatal nurses and network with potential employers. This is a great way to connect with other students who aspire to become neonatal nurses as well as nurses in later stages of their career that may be able to offer guidance and advice. To join NANN, visit http://www.nann.org/membership/content/join-or-renew.html. You are able to join online, by email, by mailing a membership application, or by calling NANN Member Services. When applying, you will be asked some basic demographic questions, including your academic credentials, your position, your work setting, and your employment status. If you are a member of the National Student Nurses' Association (NSNA), you can join NANN at a discounted rate of $45. Pass the NCLEX exam. After graduating with your BSN, you will want to look into sitting for the NCLEX-RN exam. This exam is a comprehensive test that must be passed before you can earn your license. Passing this exam will enable you to practice in your state (and some states have licensing agreements with other states) by giving you a state license. Visit the NCLEX website ( https://www.ncsbn.org/nclex.htm ) to find out what you have to do to apply and register for the NCLEX. You will need to be declared eligible to test by the board of nursing/regulatory body. You can find all the necessary details on the NCLEX website. Find a job in a hospital with a NICU. After you become a registered nurse by passing your NCLEX exam, you will want to find a nursing job in a hospital that has a NICU. This will give you the opportunity to get experience with ill newborns and enable you to start developing the skills that you need for a successful career in neonatal nursing. Many NICUs will hire graduate nurses who have an interest in neonatal intensive care. Look for a hospital that will give you the opportunity to work in a NICU as you begin your nursing career. Look for hospitals that offer mentorship programs. Grow your career. Many neonatal nurses start out working as staff nurses who care for ill newborns in hospitals. An average day can consist of assisting new moms with breastfeeding, delivering preterm infants, and caring for ill full-term infants. As you become more experienced in your neonatal nursing career you can grow your career by becoming a neonatal nurse practitioner (NNP). Look to practice nursing in a NICU (preferably a Level III NICU, which is geared to take care of the most seriously ill and/or preterm infants) as a staff nurse before applying to graduate school. This will give you essential experience that you need for your graduate school application. Look for graduate degree programs. To become a NNP (an advanced practice nurse who works with other staff to provide critical care to infants in the NICU), you will also need a Master of Science in Nursing (MSN) degree or a Doctor of Nursing Practice Degree in Neonatal Nursing. These programs will prepare you to work with critically ill newborns and working in delivery rooms. Many nursing schools will offer a MSN degree through a two-year Advanced Practice Neonatal Nursing (APNN program). Enrolling in this type of program will get you ready to become licensed as a nurse practitioner or as a clinical nurse specialist. Choose your desired level. There are three different levels in the neonatal nursing specialty. The levels vary in their demands and in the level of intensive responsibilities. You should carefully reflect on what type of setting you want to work in and consider if your desire is to work with critically ill infants. Regardless of your level of nursing, you will make a difference in the lives of the infants that you care for. Level I nurses care for healthy infants. While still intense and demanding, this is the least demanding level of neonatal nursing. Level II nurses care for sick and premature babies that are in need of constant attention. They frequently work in the Neonatal Intensive Care Unit (NICU). Level III nurses work in the NICU and monitor the most seriously ill and premature infants. In addition to caring for these infants (usually around the clock), they also are responsible for teaching parents how to properly care for their sick babies. \n",
            "  - actual output: To become a neonatal nurse, one should take as many science and math courses as possible in high school, including Advanced Placement (AP) courses if available. Maintaining a high GPA and performing well on college entrance exams is crucial. Volunteering at a local hospital, taking a first aid or CPR class, and attending a nursing camp can also be beneficial. After high school, one should enroll in a Bachelor of Science in Nursing (BSN) program at a college or university, maintaining high grades and gaining relevant work experience. Joining the National Association of Neonatal Nurses (NANN) can provide networking opportunities. After graduation, passing the NCLEX-RN exam is necessary to earn a license to practice. Finding a job in a hospital with a Neonatal Intensive Care Unit (NICU) can provide valuable experience. As one gains experience, they can consider becoming a neonatal nurse practitioner (NNP), which requires a Master of Science in Nursing (MSN) degree or a Doctor of Nursing Practice Degree in Neonatal Nursing. There are three levels of neonatal nursing, each with varying responsibilities and demands.\n",
            "  - expected output: None\n",
            "  - context: None\n",
            "  - retrieval context: None\n",
            "\n",
            "======================================================================\n",
            "\n",
            "Metrics Summary\n",
            "\n",
            "  - ❌ Summarization (score: 0, threshold: 0.5, strict: False, evaluation model: gpt-4, reason: The score is 0.00 because even though the summary doesn't contain any contradicting or extra information, it doesn't seem to capture any information from the original text at all., error: None)\n",
            "      - Alignment (score: 1.0)\n",
            "      - Coverage (score: 0)\n",
            "\n",
            "For test case:\n",
            "\n",
            "  - input: Allow yourself to feel upset. You won't be doing yourself any favors by trying to avoid the feelings moving is going to bring up. You're probably excited, anxious, stressed out, sad to leave your old life behind. All of these are natural and okay! Take a time-out when everything gets to be too much. This can be something as simple as 15 minutes in a quiet room in a coffee shop, or sitting on a park bench. When you're reminded of your old life don't push those feelings away. Take the time to sit with them even if it means crying. Working through your emotions will allow you to have a better time in your new place of residence. Release your expectations. You have ideas about what you want your new life to be like. Chances are that isn't how your new life is going be. That doesn't mean that your new life is bad or wrong. You'll have to let go of your expectations and let it be what it's going to be. Be present. Instead of planning how you're going to make the future better, or remembering how good the past was, revel in each moment you're experiencing in your new place. Soon this will all be so familiar you won't even notice it. Enjoy the fact that you're seeing new things and new places. This new place and life is going to be different from the old one. You can't recreate what you had. When you find yourself comparing the new place to the old one stop! Remind yourself that things are different and different doesn't necessarily mean bad. Give the new place a chance to be good for you. Remember you probably won't fit in immediately. It will take time to find people who could be your friends. It will take time to learn the new area, to learn the new customs. It will take time to find your new favorite bakery, your new bookstore, your new gym. Get to know your new place. One part of adjusting to a new place is actually getting to know it. If you stay holed up in your house or apartment thinking about the past you aren't going to make new friends and find new ways of being. Get out there! Join an organization that you enjoy. This could be anything from a library book club, to volunteering for a group you support. Religious organizations are great places to find a new community if you are religious. Otherwise political organizations, or artistic groups (like singing groups, knitting circles, quilting circles, scrapbookers, etc.) are good bets. Go out with your colleagues. If you've moved to a new place because of a new job, ask your colleagues where the best going-out places are, and invite them to go out with you. Even if you don't build lasting friendships you never know who you'll meet or be introduced to. Talk to people. Make small talk with the check-out person at the grocery store, that person waiting at the bus stop with you, the librarian behind the counter, the barista at the coffee shop. You'll get to know a bit about the place you live in and you'll start meeting people and getting comfortable with your surroundings. Be prepared for culture shock. Even if you're moving between cities it's going to be different. This is an even more true if you're moving to a new country, across your country, from the town to the city and vice versa. Places are simply different and you have to be prepared for that. Try to match your pace to that of your new environment. For example, if you've just moved from a big city to a small town you'll find that the pace of life and what people are about are much different. Sometimes it can even seem like the people in your new place speak a completely different language (even if it's the same as your own!). This can require learning a new lingo, new abbreviations, and new little quirks of language. Be prepared to make mistakes and ask for clarification. Maintain contact with your old life. Just because you have a new life that you're learning to live doesn't mean you should completely cut off the old one. At first it might cause feelings of sadness, nostalgia, and regret, but connections to your old life can also help bolster you in the new times. Use technology to keep in touch. You live in an era when it is so much easier to maintain contact with people in far away places. Text, use social media, Skype, etc. to keep up with your old friends and family. Getting a nice message from a friend can help alleviate feelings of loneliness you will inevitably experience in a new place. Don't let your old life overwhelm your new one, however. If you spend all your time looking backwards, talking only with old friends and family, you're going to miss out on your new life and the new friends you'll meet. This is why it is so important to reach out to people in your new place. Get exercise. Not only is this a good way to keep your health and your brain happy (with all those lovely endorphins), it is also a good way to get to know your town and to meet people. Go for walks. Pick a new area to explore so that you start to get a feel for your new living area. Join an exercise group. Find people who want to go for jogs in the morning, or join a yoga class. You'll start to get to know people. Learn to be by yourself. One key part of being okay with the move is learning to be alone. No matter how friendly you are, how many groups you join, and places you go, you're going to find yourself alone and lonely at times. This is okay! It won't last forever. Don't be dependent on other people for validation and support. Give yourself time. It takes time to adjust to anything, and that includes moving. You will find yourself feeling stressed and nostalgic and lonely at different times. That's perfectly normal. There's a timeline of getting acclimatized to your new space which can help: The very first phase of moving is usually called the honeymoon phase. It's when everything seems so new and exciting and different (also scary, sometimes). This typically lasts about three months. Following the honeymoon stage is the negotiation stage, when you start to really see the differences between your new place and your old home. This is often when feelings of uncertainty, loneliness, and homesickness start to intrude. While this usually follows after the honeymoon phase, sometimes you start right into this one. The next stage tends to be the adjustment phase, which happens after about six to twelve months in your new place. This is when you've developed your new routines and you're feeling a bit more at home. Typically it takes until a year after the move to reach the mastery phase, when you feel more comfortable in your new home. Sometimes, however, it can take even longer. Remember, each person is different. Take it one day or one moment at a time. No matter what the major change is (illness, death of a family member, leaving a job or a marriage) you won't be able to deal with it if you try to take on too much. The more you're looking ahead the less you're focusing on the here and now and the more it is going to hurt. For example: if you've lost your job, or left it, avoid trying to deal with the big picture all at once. You'll end up overwhelmed and at sea. Instead take each moment as it comes. Use one moment to update your resume, use the next moment to look on the internet or in the classifieds or talk to people about getting a new job. Living in your nostalgia for the past or your anxiety for the future is one of the signs of depression or anxiety disorders. You will want to make sure that if you're unable to stay in the present because of overwhelming anxiety or depression that you seek help. People who have had an intense life change, or already have one of these issues, can find themselves getting depressed or anxious, or having those issues get worse. Care for yourself. One thing that a lot of people tend to forget is to take care of themselves and make themselves feel safe. This needs to be a deeply intimate sort of caring that really allows you to relax and to just be wrapped in care, like being wrapped in a big, warm blanket. You'll know what works best for you, but some suggestions are making yourself a cup of tea and focusing on drinking it (breathe in the steam, feel the warmth slide down your throat and pool in your belly), wrap yourself in a warm blankets or use a heating pad, do some yoga and focus only on your breathing and the movement of your body. If you find negative or upsetting thoughts intruding on your moment, acknowledge them and let them go. Tell yourself that you'll deal with those thoughts later, but right now what you need to focus on is finding comfort for yourself. Allow yourself to feel. No matter what kind of change it is, it is going to be fraught with emotions. If you ignore these emotions and try to avoid them, they'll only return stronger and more painful later one. This doesn't mean you need to wallow in grief and anger, but it does mean that you need to allow yourself to be angry, to grieve. You'll tend to cycle through emotions like denial, anger, sadness, and acceptance. Each time you deal with them will make them pass more quickly the next time Don't turn to \"painkillers\": this can mean something like drugs or alcohol, but it can also mean watching t.v. excessively, over-eating not to enjoy food but because it helps numb some part of you, or even diving into a romantic relationship. These \"painkillers\" help you to numb out instead of dealing with your feelings. Take time to reflect on the change. Changes means different things to different people, even to the same person at different times in their life. Reflecting on your feelings, reflecting on what has changed and why can give you a handle on processing the emotional turbulence that comes with change. Journaling is another great way to reflect on the change. Not only does it help you to get your feelings out, it also chronicles your journey through the change. When another change comes you can look back on how you handled the previous one and what you felt and how you sorted through things. Find someone to talk to. Talking things out with someone can not only be greatly comforting but it can also lead you to insights about the change and yourself that you might not otherwise have had. Try to find someone who has already been through what you're going through. This person will be a sort of mentor to you, someone who can help you see that the way you're handling the change is normal, that your feelings are legitimate. They can also offer insight and help keep you on track for healing. Support groups and religious organizations are great, especially for people dealing with illnesses, with the death of a loved one, and that sort of life change. This is a good place to find someone who has already undergone what you're going through and who can help guide you. Dream for the future. Although you don't want to obsess about the future or spend too much time worrying about it, you do want things to look forward to. This means deciding what you want your future to look like and working to create it. Daydreams are a great tool to try out imaginary scenarios to see what it is you want to do. Let your mind roam free to see how you want to make the most of this major life change. Collect ideas you like from the internet, or in magazines. You can look at potential housing ideas, job ideas and plan how you might incorporate these into your own life. Make small improvements. It's easiest to work in small steps. Taking on too much at once can completely overwhelm you. What you want to do as you're working to adjust is to make your life just a little better, just a little easier. Small adjustments can be things like: eating better (especially if you're dealing with an illness), exercising to help raise the happy-making chemicals and to get you healthier, making better use of your time (making plans and following through with them; making sure you get more out of a day). Incorporate relaxation techniques into your life. Relaxation techniques like yoga, meditation, even taking long walks, can help to reduce your stress and help you adjust more easily to the changes you'll deal with in life. Meditation is a good relaxation technique to choose because it helps to calm your mind, lower your stress, and it can be done basically anywhere. If you're just starting out it's a good idea to pick a quiet spot, set a timer for 15 minutes (or you can count breaths if you don't want to deal with the clock), and sit comfortably. Breathe deeply. Focus on your breath, in and out. If you find that you're being distracted by your thoughts, acknowledge them, and return your focus to your breathing. Yoga is another great relaxation technique. Not only does it incorporate meditation into its form (the focus on breathing), but it's a great way to get exercise, to move your body, and work out any kinks in your muscles or back. Understand that there are and will always be changes. Life is really about changes. It doesn't matter how prepared you are there will always be changes that take you by surprise. If you Try to rigidly hang out to your current life and way of doing things you will find it harder to adjust to change in the long run. Again, this doesn't mean denying your feelings about changes, because change can be scary and overwhelming, but it does mean that you accept these feelings as part of the change. Adjust to a new relationship. The beginning to a relationship can be full of heady excitement. It's important to keep your head, however, if you want the relationship to go anywhere. Move slowly. You don't want to jump right in to moving in together, to planning your future together when you've only just started seeing one another. If you find yourself giddily deciding on your children's names only a few months into the relationship, take a step back and remind yourself to stay in the moment instead of jumping ahead. Avoid getting clingy. It's natural that you're going to want to spend all your time with this new lovely person, but it's not healthy. Don't constantly call and text and hang out with this other person. Not only will this keep the relationship charged, but you won't tire of one another so quickly. Maintain your own lives. Keep up with your friends, your work, and your own habits. Of course you should do things together, but make time for doing things separately. That way you'll still have lots to talk about, and you won't be overwhelming one another with attention. Deal with a change in a relationship. It's inevitable that relationships change. There's nothing you can do about that, but you can cope with the change. This could be anything from your partner suddenly becoming messy, when they used to be neat, or your spouse deciding that they don't want children, even though they used to. Address problems as soon as possible, especially if they are small ones that could become big ones later on. For example: if your partner has become messy and doesn't clean up after themselves, talk to them and use \"I statements.\" Say \"I feel like I end up cleaning up all the dishes, despite not having used any of them,\" or \"It's really frustrating for me when I end up having to put all your clothes away.\" One key part of adjusting to the change is by reaching compromise or accepting the difference. This might mean going with your partner's feelings on this issue, but your feelings on the next issue, or it might mean meeting somewhere in the middle. Discuss how the change impacts your relationship and determine how important the issue is to your relationship. If you want children and your partner does not this could mean either you decide that it's okay if you don't have children, or it could mean that the relationship needs to end and the two of you part ways. Maintain your relationship long distance. This can be incredibly challenging for people, but it's easier now than it used to be. It can take time and effort to adjust to a long-distance relationship and you need to be prepared to invest time into it. Communicate with one another. This is the biggest problem that arises in long-distance relationships. Make sure that you talk over the things that are important to you, the problems that come up in the relationship and in your life, and what matters to you. Deal with doubts. You're going to feel fear about what the other person is up to, sometimes you're not going to trust them, sometimes you're going to doubt them. The best thing you can do, unless you've got evidence that something kinky is going on, is to talk about your frustration about the long distance, or complain to a friend about your doubts. This helps get them out in the open where they are less poisonous. Spend time together. Make sure that you're making time for one another. Send each other funny postcards and letters along with talking on the phone and over the internet. Make specific dates and work towards getting to see one another in person. Adjust to moving in with one another. This can be a big change in a relationship and therefore needs to be treated with caution. You should feel comfortable pretty quickly, despite inevitable road bumps. Also keep in mind that you will change your mind about moving in, usually a couple days after you've done so, because the change is scary. One key thing to being comfortable together is that you don't hide the un-sexy and necessary things like tampons and pads, or that pair of really atrocious underwear you have. Your significant other is going to find them anyway and the more you're open about those kinds of things the more comfortable you're both going to be. Routines are going to change. That's simply something you're going to have to be prepared for. You're going to have to figure out things like who does which chores around the house, where both your things are going to go, and so on. It'll be a lot of negotiation and change. Give one another space. Part of adjusting to moving in together is to give each other space to deal with the emotions and feelings that are going to arise from this change. Deal with a breakup. First off, you're going to need time to grieve the end of the relationship, even if you were the one to break it off. Break-ups are hard on both parties and take time to move on from. There are a few major things you should do if you're looking to adjust to your new single status: Take space from the other person. This means deleting them on Facebook (or at least blocking their posts), deleting them out of your phone, staying away from their favorite haunts. The more you're talking to them, the more you're going to feel caught by them. Find yourself. If you've been in a relationship, especially for a while, you start to lose your individual sense of identity and become part of a twosome. When the breakup happens it's time to figure out who you are without them. Do fun things, go out and try new things. This will keep your mind off them and will help you meet new people. Be careful about rebound relationships. You really don't want to jump immediately from one relationship to another without taking time to fully process and grieve the end of the first relationship. Getting entangled with a new person right away is a surefire way to hurt both you and the new person. \n",
            "  - actual output: The text provides advice on how to cope with major life changes, particularly moving to a new place. It encourages allowing oneself to feel emotions, releasing expectations, and being present in the moment. It suggests taking time to get to know the new place, joining local organizations, and maintaining contact with old friends. It also advises being prepared for culture shock and learning to be comfortable alone. The text also covers adjusting to changes in relationships, including starting a new relationship, changes within a relationship, long-distance relationships, moving in together, and dealing with a breakup. It emphasizes the importance of communication, compromise, and self-care throughout these processes.\n",
            "  - expected output: None\n",
            "  - context: None\n",
            "  - retrieval context: None\n",
            "\n",
            "======================================================================\n",
            "\n",
            "Overall Metric Pass Rates\n",
            "\n",
            "SummarizationMetric: 20.00% pass rate\n",
            "\n",
            "======================================================================\n",
            "\n"
          ]
        },
        {
          "output_type": "stream",
          "name": "stderr",
          "text": [
            "/usr/local/lib/python3.10/dist-packages/portalocker/utils.py:218: UserWarning: timeout has no effect in blocking mode\n",
            "  warnings.warn(\n"
          ]
        },
        {
          "output_type": "display_data",
          "data": {
            "text/plain": [
              "✅ Tests finished! Run \u001b[32m\"deepeval login\"\u001b[0m to view evaluation results on the web.\n"
            ],
            "text/html": [
              "<pre style=\"white-space:pre;overflow-x:auto;line-height:normal;font-family:Menlo,'DejaVu Sans Mono',consolas,'Courier New',monospace\">✅ Tests finished! Run <span style=\"color: #008000; text-decoration-color: #008000\">\"deepeval login\"</span> to view evaluation results on the web.\n",
              "</pre>\n"
            ]
          },
          "metadata": {}
        }
      ]
    },
    {
      "cell_type": "code",
      "source": [
        "for _, row in wiki_df.iterrows():\n",
        "    # print(\"Reference summary:\")\n",
        "    # print(row[\"summary\"])\n",
        "    print(\"URL:\")\n",
        "    print(row[\"url\"])\n",
        "    print(\"Observed summary:\")\n",
        "    print(row[\"actual_summary\"])\n",
        "    print(\"-\" * 50)"
      ],
      "metadata": {
        "colab": {
          "base_uri": "https://localhost:8080/"
        },
        "id": "KcNbKTfJcSXr",
        "outputId": "69d3b65b-224b-4d0e-da2c-e4dd3f0dfd53"
      },
      "execution_count": 25,
      "outputs": [
        {
          "output_type": "stream",
          "name": "stderr",
          "text": [
            "/usr/local/lib/python3.10/dist-packages/portalocker/utils.py:218: UserWarning: timeout has no effect in blocking mode\n",
            "  warnings.warn(\n"
          ]
        },
        {
          "output_type": "stream",
          "name": "stdout",
          "text": [
            "URL:\n",
            "https://www.wikihow.com/Make-Chinese-Fried-Rice\n",
            "Observed summary:\n",
            "The text provides a detailed recipe for making fried rice. It begins with rinsing the rice and boiling it in a 1:2 rice to water ratio. After adding salt and optional butter, the rice is cooked for at least 18 minutes. The cooked rice is then spread on a tray and dried under a fan for an hour. A wok is heated on the stove, and a neutral oil is added. Ginger, garlic, onion, peas, and carrots are cooked until tender, then beaten eggs are scrambled in the pan. The cooked rice, soy sauce, and sesame oil are added and mixed well. The mixture is fried until heated through, and can be garnished with chopped green onions.\n",
            "--------------------------------------------------\n",
            "URL:\n",
            "https://www.wikihow.com/Write-a-Song-Parody\n",
            "Observed summary:\n",
            "The text provides a comprehensive guide on how to create a music parody. It suggests listening to other parodies to understand the genre, considering the target audience, and deciding on the type of parody to create. The text also advises on choosing a recognizable song that appeals to the target audience and has a distinct chorus and verses. It recommends creating a cohesive theme, substituting words for comedic effect, and writing lyrics that closely match the original song's rhythm and rhyme. The guide also covers recording and editing the parody, and sharing it on platforms like Soundcloud, iTunes, Facebook, Myspace, Bandcamp, or Youtube.\n",
            "--------------------------------------------------\n",
            "URL:\n",
            "https://www.wikihow.com/Clean-Terrazzo\n",
            "Observed summary:\n",
            "The article provides a detailed guide on how to clean terrazzo floors. It suggests using a homemade solution of dish soap, rubbing alcohol, and water for spot cleaning, but emphasizes that the floor must be sealed with a commercial sealer to prevent moisture absorption. For a full floor clean, it recommends steam cleaning after dust mopping to remove debris. The article also advises to let the floor air dry after cleaning, place floor mats at entrances to trap debris, dust mop regularly, and immediately wipe up any spills to prevent water damage.\n",
            "--------------------------------------------------\n",
            "URL:\n",
            "https://www.wikihow.com/Become-a-Neonatal-Nurse\n",
            "Observed summary:\n",
            "To become a neonatal nurse, one should take as many science and math courses as possible in high school, including Advanced Placement (AP) courses if available. Maintaining a high GPA and performing well on college entrance exams is crucial. Volunteering at a local hospital, taking a first aid or CPR class, and attending a nursing camp can also be beneficial. After high school, one should enroll in a Bachelor of Science in Nursing (BSN) program at a college or university, maintaining high grades and gaining relevant work experience. Joining the National Association of Neonatal Nurses (NANN) can provide networking opportunities. After graduation, passing the NCLEX-RN exam is necessary to earn a license to practice. Finding a job in a hospital with a Neonatal Intensive Care Unit (NICU) can provide valuable experience. As one gains experience, they can consider becoming a neonatal nurse practitioner (NNP), which requires a Master of Science in Nursing (MSN) degree or a Doctor of Nursing Practice Degree in Neonatal Nursing. There are three levels of neonatal nursing, each with varying responsibilities and demands.\n",
            "--------------------------------------------------\n",
            "URL:\n",
            "https://www.wikihow.com/Adjust\n",
            "Observed summary:\n",
            "The text provides advice on how to cope with major life changes, particularly moving to a new place. It encourages allowing oneself to feel emotions, releasing expectations, and being present in the moment. It suggests taking time to get to know the new place, joining local organizations, and maintaining contact with old friends. It also advises being prepared for culture shock and learning to be comfortable alone. The text also covers adjusting to changes in relationships, including starting a new relationship, changes within a relationship, long-distance relationships, moving in together, and dealing with a breakup. It emphasizes the importance of communication, compromise, and self-care throughout these processes.\n",
            "--------------------------------------------------\n",
            "URL:\n",
            "https://www.wikihow.com/Take-Care-of-Your-Horse\n",
            "Observed summary:\n",
            "The text provides detailed instructions on how to groom, feed, and care for a horse. It suggests having a specific area for grooming, using various brushes and clippers to clean and trim the horse's coat, and cleaning the horse's hooves regularly. It also advises on feeding, suggesting a diet of hay and grain, and adjusting the amount based on the horse's activity level and grass consumption. The text also emphasizes the importance of regular veterinary check-ups, socialization with other horses, and protection from extreme weather. It also warns against certain plants and beetles that can poison horses. The text also provides tips on bonding with the horse, such as spending time with it, petting it, and giving it treats in moderation. It also provides safety tips and training advice, emphasizing patience, positive reinforcement, and the use of a good quality saddle.\n",
            "--------------------------------------------------\n",
            "URL:\n",
            "https://www.wikihow.com/Take-off-Fake-Nails\n",
            "Observed summary:\n",
            "The text provides a detailed guide on how to remove acrylic or gel nails at home. The process involves trimming down the acrylic nails to reduce the surface area, filing the nails to expose the adhesive or remove the gel topcoat, and soaking a cotton ball or gauze with acetone and placing it over the nail. The acetone-soaked cotton is then secured with foil wraps around the fingertips. After waiting for 20 minutes, the wraps are removed and any remaining adhesive or polish is scraped off with a cuticle pusher. The text also mentions an alternative method of using dental floss to remove the fake nails, but warns that this technique may damage the natural nails and potentially lead to an infection.\n",
            "--------------------------------------------------\n",
            "URL:\n",
            "https://www.wikihow.com/Do-In%E2%80%90text-Citations-in-MLA\n",
            "Observed summary:\n",
            "The text provides detailed instructions on how to create MLA in-text citations. It covers various scenarios such as citing works with one author, two authors, three or more authors, non-print sources, media sources, and classic works. It also explains how to handle situations where authors share the same last name, citing multiple sources in one sentence, and citing indirect sources. The citation should be placed at the end of the sentence, inside the closing punctuation. For non-print sources, the first item in the Works Cited entry should be used. If the citation information is incorporated into the body of the paper, a parenthetical in-text citation is not needed.\n",
            "--------------------------------------------------\n",
            "URL:\n",
            "https://www.wikihow.com/Enjoy-a-Festival\n",
            "Observed summary:\n",
            "The text provides a comprehensive guide to attending a festival. It advises purchasing tickets in advance to avoid scams and price hikes, and suggests saving money throughout the year for this purpose. It recommends packing layered clothing, a cheap tent and sleeping bag for multi-day festivals, personal hygiene items, a first aid kit, and your own food and drinks if allowed. It also suggests carrying an extra phone charger or battery pack, opting for a cross-body bag or fanny pack to carry items, and researching parking and travel options in advance. It advises planning outfits and activities ahead of time, but being flexible to changes. It recommends arriving early for favorite performances, carrying cash for purchases, taking pictures and videos, and storing valuables close to your body to prevent theft. It emphasizes the importance of staying hydrated, protecting your skin from the sun, keeping your phone on hand for emergencies, using the buddy system, being wary of accepting food or drinks from strangers, and taking time to rest and relax between activities.\n",
            "--------------------------------------------------\n",
            "URL:\n",
            "https://www.wikihow.com/Keep-Sliced-Bananas-from-Discoloring\n",
            "Observed summary:\n",
            "The article provides various methods to prevent banana slices from turning brown. These include coating the slices in fruit juice such as lemon, lime, orange, pineapple, grapefruit, or apple juice. Other methods include using soda water, tap water, diluted citric acid, diluted vinegar, or dissolved vitamin C. The slices can be soaked in these liquids or the liquids can be sprayed onto the slices. The article also suggests limiting the slices' exposure to air by using wax paper or a vacuum storage device. If banana slices have already turned brown, they can be revived by soaking them in pineapple or grapefruit juice. Despite these methods, the article recommends consuming the banana slices on the same day they are cut.\n",
            "--------------------------------------------------\n",
            "URL:\n",
            "https://www.wikihow.com/Make-Drinks\n",
            "Observed summary:\n",
            "The text provides detailed instructions on how to prepare a variety of alcoholic and non-alcoholic drinks. The alcoholic drinks include classics like Gin & Tonic, Rum & Coke, Vodka & Cranberry, Whiskey & Ginger Ale, and various cocktails like Cosmopolitan, Dirty Martini, Tequila Sunrise, Long Island Iced Tea, Sex on the Beach, Old Fashioned, Mojito, Margarita, White Russian, Singapore Sling, Lemon Drop, Tom Collins, Daiquiri, Pina Colada, and blended Daiquiri. It also provides instructions on how to serve straight gin, whiskey, vodka, rum, and tequila. The non-alcoholic drinks, or mocktails, include Safe Sex on the Beach, Mojito, Strawberry Margarita, and Pina Colada. The text emphasizes the importance of using fresh and high-quality ingredients for the best flavor.\n",
            "--------------------------------------------------\n",
            "URL:\n",
            "https://www.wikihow.com/Fix-Rotting-Teeth\n",
            "Observed summary:\n",
            "To prevent tooth decay, monitor your teeth for symptoms such as discoloration, pain, and bad breath. Treat cavities promptly to prevent further damage. If a tooth is partly decayed, a filling may be possible. If the tooth is beyond repair, a crown may be necessary. Severe bone loss or gum recession may require surgery. If a tooth is causing gum problems, it may need to be removed. Regular dental check-ups, professional cleanings, and prescribed mouthwashes can help prevent decay. Fluoride treatments and tooth sealants can also protect teeth. Regular brushing, flossing, and limiting sugary foods and drinks can also help maintain oral health.\n",
            "--------------------------------------------------\n",
            "URL:\n",
            "https://www.wikihow.com/Share-Space-with-Your-Roommates-During-the-Coronavirus-Outbreak\n",
            "Observed summary:\n",
            "The text provides a comprehensive guide on how to manage living with roommates during the COVID-19 pandemic. It emphasizes the importance of following CDC guidelines on handwashing and disinfecting high-touch areas. It suggests creating a chore chart to keep the home clean and a plan for shared responsibilities like grocery shopping and bill payments. It also advises on how to handle potential conflicts, such as deciding on allowed guests and managing shared spaces for remote work. The text also provides suggestions for group activities to maintain a positive atmosphere, and emphasizes the importance of kindness and understanding during this stressful time. In case a roommate gets sick, it outlines a plan for self-isolation, disinfection, and care.\n",
            "--------------------------------------------------\n",
            "URL:\n",
            "https://www.wikihow.com/Get-Rid-of-Cellulite-on-Thighs\n",
            "Observed summary:\n",
            "The text provides a comprehensive guide to reducing cellulite, particularly in the thigh area. It recommends regular resistance training, cardio exercises, and an active lifestyle to burn calories and decrease fat storage. It also suggests dietary changes such as increasing fiber and protein intake, cutting out junk food, and staying hydrated. Topical treatments like cellulite-fighting creams and lymphatic massages are also suggested. It also emphasizes the importance of maintaining normal hormone levels, managing stress, and staying hydrated. The text concludes by recommending a balanced diet, regular exercise, and a healthy lifestyle as the most effective ways to reduce cellulite.\n",
            "--------------------------------------------------\n",
            "URL:\n",
            "https://www.wikihow.com/Dry-Your-Hair-Fast\n",
            "Observed summary:\n",
            "The text provides a detailed guide on how to dry hair quickly and effectively. Key steps include using a wide-tooth comb after washing, wringing out excess water, blotting hair with a microfiber towel or paper towels, and wrapping hair in a towel turban. Applying conditioner and certain hair products can also speed up drying. For blow-drying, it recommends using an ionic hair dryer with high wattage, drying hair outside the bathroom to avoid dampness, and rough-drying before using a brush. It also suggests using a microfiber or ceramic round-barreled brush, dividing hair into sections, starting with the bottom layers, and focusing on drying the roots.\n",
            "--------------------------------------------------\n",
            "URL:\n",
            "https://www.wikihow.com/Fight-off-a-Dog\n",
            "Observed summary:\n",
            "The text provides advice on how to protect oneself from a dog attack. It suggests shouting for help, placing an object between oneself and the dog, protecting sensitive body areas, and not pulling away from a bite. It also recommends striking the dog in vital areas if necessary, using weapons if available, and avoiding the territory of unfamiliar or dangerous dogs. Other tips include avoiding eye contact, keeping hands in pockets, not turning one's back on an approaching dog, and carrying a shield or weapon. It also emphasizes the importance of being aware of one's surroundings.\n",
            "--------------------------------------------------\n",
            "URL:\n",
            "https://www.wikihow.com/Tell-if-a-Guy-Likes-You-As-More-Than-a-Friend\n",
            "Observed summary:\n",
            "The text provides a comprehensive guide on how to determine if a guy is interested in you. It suggests observing his conversation topics, body language, manners, and how he treats you compared to other girls. It also recommends noting the types of activities you do together, how often you hang out, and where you hang out. The text advises against stalking or snooping, and suggests asking around discreetly or being brave and expressing your feelings directly. If he doesn't reciprocate, it's important to handle the situation gracefully and consider taking a break from the friendship if necessary.\n",
            "--------------------------------------------------\n",
            "URL:\n",
            "https://www.wikihow.com/Get-a-Tourist-Visa-for-France\n",
            "Observed summary:\n",
            "The French tourist visa requirements vary depending on the applicant's home country. Citizens of the EU, EEA, Andorra, Monaco, Switzerland, and several other countries do not need a tourist visa for any length of stay. Those from countries not listed, including South Africa, India, Algeria, Philippines, Ukraine, China, Thailand, Russia, Zimbabwe and Pakistan, will likely need to apply for a 3-month Schengen visa. For stays longer than 3 months, a long-term stay visa is required for any nationality outside of the EU and EEA. Applicants must make an appointment at their region's French consulate 2 weeks to 3 months before departure, fill out the relevant visa application form, and provide supplementary documents including passport photographs, proof of medical insurance, bank statements, and proof of residence. The application fee for a short term visa is 60 euros, and for a long term visa is 99 euros. Processing times vary, but typically take 2 to 3 weeks for a short-term visa and approximately 2 months for a long-term visa.\n",
            "--------------------------------------------------\n",
            "URL:\n",
            "https://www.wikihow.com/Make-a-Dog-Love-You\n",
            "Observed summary:\n",
            "The text provides advice on how to show affection to a dog and build a strong bond. This includes regular physical contact, understanding the dog's preferences, providing toys, taking frequent walks, spending time together, bringing the dog on trips, creating a comfortable space, feeding and grooming, positive reinforcement training, socializing the dog, and ensuring its health needs are met. It also advises against certain actions that can make dogs uncomfortable, such as petting their face or head, giving big hugs, and reacting in anger.\n",
            "--------------------------------------------------\n",
            "URL:\n",
            "https://www.wikihow.com/Play-Pinball\n",
            "Observed summary:\n",
            "The text provides detailed instructions on how to play pinball. It advises players to read the instructions on the machine, understand the symbols, and study the layout. It explains the use of the plunger, flippers, and bumpers, and the importance of watching the display and listening to sound cues. It also provides tips on controlling the ball, such as using one flipper at a time, nudging the machine, resting the ball on the flippers, and practicing different shots. It warns against nudging the machine too hard to avoid a \"tilt\" and losing the ball. It also suggests techniques like the \"slap save,\" \"flip catch,\" and passing the ball from one flipper to the other.\n",
            "--------------------------------------------------\n"
          ]
        }
      ]
    },
    {
      "cell_type": "code",
      "source": [],
      "metadata": {
        "id": "0mtQzDRRVBsx"
      },
      "execution_count": null,
      "outputs": []
    }
  ],
  "metadata": {
    "colab": {
      "provenance": [],
      "collapsed_sections": [
        "z_e7uHu3Y-sr"
      ]
    },
    "kernelspec": {
      "display_name": "Python 3",
      "name": "python3"
    },
    "language_info": {
      "name": "python"
    },
    "widgets": {
      "application/vnd.jupyter.widget-state+json": {
        "924069d77aaa4450aef133241065f056": {
          "model_module": "@jupyter-widgets/output",
          "model_name": "OutputModel",
          "model_module_version": "1.0.0",
          "state": {
            "_dom_classes": [],
            "_model_module": "@jupyter-widgets/output",
            "_model_module_version": "1.0.0",
            "_model_name": "OutputModel",
            "_view_count": null,
            "_view_module": "@jupyter-widgets/output",
            "_view_module_version": "1.0.0",
            "_view_name": "OutputView",
            "layout": "IPY_MODEL_7cc0e677def04b8c807f48292afeb58f",
            "msg_id": "",
            "outputs": [
              {
                "output_type": "display_data",
                "data": {
                  "text/plain": "\u001b[38;2;106;0;255m⠹\u001b[0m ✨ You're running DeepEval's latest \u001b[38;2;106;0;255mCorrectness (GEval) Metric\u001b[0m! \u001b[38;2;55;65;81m(using gpt-4, strict=False, async_mode=True)...\u001b[0m\n",
                  "text/html": "<pre style=\"white-space:pre;overflow-x:auto;line-height:normal;font-family:Menlo,'DejaVu Sans Mono',consolas,'Courier New',monospace\"><span style=\"color: #6a00ff; text-decoration-color: #6a00ff\">⠹</span> ✨ You're running DeepEval's latest <span style=\"color: #6a00ff; text-decoration-color: #6a00ff\">Correctness (GEval) Metric</span>! <span style=\"color: #374151; text-decoration-color: #374151\">(using gpt-4, strict=False, async_mode=True)...</span>\n</pre>\n"
                },
                "metadata": {}
              }
            ]
          }
        },
        "7cc0e677def04b8c807f48292afeb58f": {
          "model_module": "@jupyter-widgets/base",
          "model_name": "LayoutModel",
          "model_module_version": "1.2.0",
          "state": {
            "_model_module": "@jupyter-widgets/base",
            "_model_module_version": "1.2.0",
            "_model_name": "LayoutModel",
            "_view_count": null,
            "_view_module": "@jupyter-widgets/base",
            "_view_module_version": "1.2.0",
            "_view_name": "LayoutView",
            "align_content": null,
            "align_items": null,
            "align_self": null,
            "border": null,
            "bottom": null,
            "display": null,
            "flex": null,
            "flex_flow": null,
            "grid_area": null,
            "grid_auto_columns": null,
            "grid_auto_flow": null,
            "grid_auto_rows": null,
            "grid_column": null,
            "grid_gap": null,
            "grid_row": null,
            "grid_template_areas": null,
            "grid_template_columns": null,
            "grid_template_rows": null,
            "height": null,
            "justify_content": null,
            "justify_items": null,
            "left": null,
            "margin": null,
            "max_height": null,
            "max_width": null,
            "min_height": null,
            "min_width": null,
            "object_fit": null,
            "object_position": null,
            "order": null,
            "overflow": null,
            "overflow_x": null,
            "overflow_y": null,
            "padding": null,
            "right": null,
            "top": null,
            "visibility": null,
            "width": null
          }
        },
        "78977ef6244c4909b5369709b26c9519": {
          "model_module": "@jupyter-widgets/output",
          "model_name": "OutputModel",
          "model_module_version": "1.0.0",
          "state": {
            "_dom_classes": [],
            "_model_module": "@jupyter-widgets/output",
            "_model_module_version": "1.0.0",
            "_model_name": "OutputModel",
            "_view_count": null,
            "_view_module": "@jupyter-widgets/output",
            "_view_module_version": "1.0.0",
            "_view_name": "OutputView",
            "layout": "IPY_MODEL_7f7c843e822244b3b8c1ad5b30b5d47e",
            "msg_id": "",
            "outputs": [
              {
                "output_type": "display_data",
                "data": {
                  "text/plain": "\u001b[38;2;106;0;255m⠼\u001b[0m ✨ You're running DeepEval's latest \u001b[38;2;106;0;255mAnswer Relevancy Metric\u001b[0m! \u001b[38;2;55;65;81m(using gpt-4o, strict=False, async_mode=True)...\u001b[0m\n",
                  "text/html": "<pre style=\"white-space:pre;overflow-x:auto;line-height:normal;font-family:Menlo,'DejaVu Sans Mono',consolas,'Courier New',monospace\"><span style=\"color: #6a00ff; text-decoration-color: #6a00ff\">⠼</span> ✨ You're running DeepEval's latest <span style=\"color: #6a00ff; text-decoration-color: #6a00ff\">Answer Relevancy Metric</span>! <span style=\"color: #374151; text-decoration-color: #374151\">(using gpt-4o, strict=False, async_mode=True)...</span>\n</pre>\n"
                },
                "metadata": {}
              }
            ]
          }
        },
        "7f7c843e822244b3b8c1ad5b30b5d47e": {
          "model_module": "@jupyter-widgets/base",
          "model_name": "LayoutModel",
          "model_module_version": "1.2.0",
          "state": {
            "_model_module": "@jupyter-widgets/base",
            "_model_module_version": "1.2.0",
            "_model_name": "LayoutModel",
            "_view_count": null,
            "_view_module": "@jupyter-widgets/base",
            "_view_module_version": "1.2.0",
            "_view_name": "LayoutView",
            "align_content": null,
            "align_items": null,
            "align_self": null,
            "border": null,
            "bottom": null,
            "display": null,
            "flex": null,
            "flex_flow": null,
            "grid_area": null,
            "grid_auto_columns": null,
            "grid_auto_flow": null,
            "grid_auto_rows": null,
            "grid_column": null,
            "grid_gap": null,
            "grid_row": null,
            "grid_template_areas": null,
            "grid_template_columns": null,
            "grid_template_rows": null,
            "height": null,
            "justify_content": null,
            "justify_items": null,
            "left": null,
            "margin": null,
            "max_height": null,
            "max_width": null,
            "min_height": null,
            "min_width": null,
            "object_fit": null,
            "object_position": null,
            "order": null,
            "overflow": null,
            "overflow_x": null,
            "overflow_y": null,
            "padding": null,
            "right": null,
            "top": null,
            "visibility": null,
            "width": null
          }
        },
        "9efdba4d7b56425a8fc44bf8ecaad4e9": {
          "model_module": "@jupyter-widgets/output",
          "model_name": "OutputModel",
          "model_module_version": "1.0.0",
          "state": {
            "_dom_classes": [],
            "_model_module": "@jupyter-widgets/output",
            "_model_module_version": "1.0.0",
            "_model_name": "OutputModel",
            "_view_count": null,
            "_view_module": "@jupyter-widgets/output",
            "_view_module_version": "1.0.0",
            "_view_name": "OutputView",
            "layout": "IPY_MODEL_8054d71286e8470caf90675a7a3bdb13",
            "msg_id": "",
            "outputs": [
              {
                "output_type": "display_data",
                "data": {
                  "text/plain": "\u001b[38;2;106;0;255m⠼\u001b[0m ✨ You're running DeepEval's latest \u001b[38;2;106;0;255mAnswer Relevancy Metric\u001b[0m! \u001b[38;2;55;65;81m(using gpt-4o, strict=False, async_mode=True)...\u001b[0m\n",
                  "text/html": "<pre style=\"white-space:pre;overflow-x:auto;line-height:normal;font-family:Menlo,'DejaVu Sans Mono',consolas,'Courier New',monospace\"><span style=\"color: #6a00ff; text-decoration-color: #6a00ff\">⠼</span> ✨ You're running DeepEval's latest <span style=\"color: #6a00ff; text-decoration-color: #6a00ff\">Answer Relevancy Metric</span>! <span style=\"color: #374151; text-decoration-color: #374151\">(using gpt-4o, strict=False, async_mode=True)...</span>\n</pre>\n"
                },
                "metadata": {}
              }
            ]
          }
        },
        "8054d71286e8470caf90675a7a3bdb13": {
          "model_module": "@jupyter-widgets/base",
          "model_name": "LayoutModel",
          "model_module_version": "1.2.0",
          "state": {
            "_model_module": "@jupyter-widgets/base",
            "_model_module_version": "1.2.0",
            "_model_name": "LayoutModel",
            "_view_count": null,
            "_view_module": "@jupyter-widgets/base",
            "_view_module_version": "1.2.0",
            "_view_name": "LayoutView",
            "align_content": null,
            "align_items": null,
            "align_self": null,
            "border": null,
            "bottom": null,
            "display": null,
            "flex": null,
            "flex_flow": null,
            "grid_area": null,
            "grid_auto_columns": null,
            "grid_auto_flow": null,
            "grid_auto_rows": null,
            "grid_column": null,
            "grid_gap": null,
            "grid_row": null,
            "grid_template_areas": null,
            "grid_template_columns": null,
            "grid_template_rows": null,
            "height": null,
            "justify_content": null,
            "justify_items": null,
            "left": null,
            "margin": null,
            "max_height": null,
            "max_width": null,
            "min_height": null,
            "min_width": null,
            "object_fit": null,
            "object_position": null,
            "order": null,
            "overflow": null,
            "overflow_x": null,
            "overflow_y": null,
            "padding": null,
            "right": null,
            "top": null,
            "visibility": null,
            "width": null
          }
        },
        "dcaaa6c8c841432884a9c8ea416f7413": {
          "model_module": "@jupyter-widgets/output",
          "model_name": "OutputModel",
          "model_module_version": "1.0.0",
          "state": {
            "_dom_classes": [],
            "_model_module": "@jupyter-widgets/output",
            "_model_module_version": "1.0.0",
            "_model_name": "OutputModel",
            "_view_count": null,
            "_view_module": "@jupyter-widgets/output",
            "_view_module_version": "1.0.0",
            "_view_name": "OutputView",
            "layout": "IPY_MODEL_44c5aa7835474d8e8f92d9724ddc0a4f",
            "msg_id": "",
            "outputs": [
              {
                "output_type": "display_data",
                "data": {
                  "text/plain": "\u001b[38;2;106;0;255m⠋\u001b[0m ✨ You're running DeepEval's latest \u001b[38;2;106;0;255mSummarization Metric\u001b[0m! \u001b[38;2;55;65;81m(using gpt-4, strict=False, async_mode=True)...\u001b[0m\n",
                  "text/html": "<pre style=\"white-space:pre;overflow-x:auto;line-height:normal;font-family:Menlo,'DejaVu Sans Mono',consolas,'Courier New',monospace\"><span style=\"color: #6a00ff; text-decoration-color: #6a00ff\">⠋</span> ✨ You're running DeepEval's latest <span style=\"color: #6a00ff; text-decoration-color: #6a00ff\">Summarization Metric</span>! <span style=\"color: #374151; text-decoration-color: #374151\">(using gpt-4, strict=False, async_mode=True)...</span>\n</pre>\n"
                },
                "metadata": {}
              }
            ]
          }
        },
        "44c5aa7835474d8e8f92d9724ddc0a4f": {
          "model_module": "@jupyter-widgets/base",
          "model_name": "LayoutModel",
          "model_module_version": "1.2.0",
          "state": {
            "_model_module": "@jupyter-widgets/base",
            "_model_module_version": "1.2.0",
            "_model_name": "LayoutModel",
            "_view_count": null,
            "_view_module": "@jupyter-widgets/base",
            "_view_module_version": "1.2.0",
            "_view_name": "LayoutView",
            "align_content": null,
            "align_items": null,
            "align_self": null,
            "border": null,
            "bottom": null,
            "display": null,
            "flex": null,
            "flex_flow": null,
            "grid_area": null,
            "grid_auto_columns": null,
            "grid_auto_flow": null,
            "grid_auto_rows": null,
            "grid_column": null,
            "grid_gap": null,
            "grid_row": null,
            "grid_template_areas": null,
            "grid_template_columns": null,
            "grid_template_rows": null,
            "height": null,
            "justify_content": null,
            "justify_items": null,
            "left": null,
            "margin": null,
            "max_height": null,
            "max_width": null,
            "min_height": null,
            "min_width": null,
            "object_fit": null,
            "object_position": null,
            "order": null,
            "overflow": null,
            "overflow_x": null,
            "overflow_y": null,
            "padding": null,
            "right": null,
            "top": null,
            "visibility": null,
            "width": null
          }
        },
        "03a61bf994db4ca4bdcc7cb70ea46c46": {
          "model_module": "@jupyter-widgets/output",
          "model_name": "OutputModel",
          "model_module_version": "1.0.0",
          "state": {
            "_dom_classes": [],
            "_model_module": "@jupyter-widgets/output",
            "_model_module_version": "1.0.0",
            "_model_name": "OutputModel",
            "_view_count": null,
            "_view_module": "@jupyter-widgets/output",
            "_view_module_version": "1.0.0",
            "_view_name": "OutputView",
            "layout": "IPY_MODEL_82a74183914742f39c4ef6668e698ba2",
            "msg_id": "",
            "outputs": [
              {
                "output_type": "display_data",
                "data": {
                  "text/plain": "\u001b[38;2;106;0;255m⠼\u001b[0m ✨ You're running DeepEval's latest \u001b[38;2;106;0;255mSummarization Metric\u001b[0m! \u001b[38;2;55;65;81m(using gpt-4, strict=False, async_mode=True)...\u001b[0m\n",
                  "text/html": "<pre style=\"white-space:pre;overflow-x:auto;line-height:normal;font-family:Menlo,'DejaVu Sans Mono',consolas,'Courier New',monospace\"><span style=\"color: #6a00ff; text-decoration-color: #6a00ff\">⠼</span> ✨ You're running DeepEval's latest <span style=\"color: #6a00ff; text-decoration-color: #6a00ff\">Summarization Metric</span>! <span style=\"color: #374151; text-decoration-color: #374151\">(using gpt-4, strict=False, async_mode=True)...</span>\n</pre>\n"
                },
                "metadata": {}
              }
            ]
          }
        },
        "82a74183914742f39c4ef6668e698ba2": {
          "model_module": "@jupyter-widgets/base",
          "model_name": "LayoutModel",
          "model_module_version": "1.2.0",
          "state": {
            "_model_module": "@jupyter-widgets/base",
            "_model_module_version": "1.2.0",
            "_model_name": "LayoutModel",
            "_view_count": null,
            "_view_module": "@jupyter-widgets/base",
            "_view_module_version": "1.2.0",
            "_view_name": "LayoutView",
            "align_content": null,
            "align_items": null,
            "align_self": null,
            "border": null,
            "bottom": null,
            "display": null,
            "flex": null,
            "flex_flow": null,
            "grid_area": null,
            "grid_auto_columns": null,
            "grid_auto_flow": null,
            "grid_auto_rows": null,
            "grid_column": null,
            "grid_gap": null,
            "grid_row": null,
            "grid_template_areas": null,
            "grid_template_columns": null,
            "grid_template_rows": null,
            "height": null,
            "justify_content": null,
            "justify_items": null,
            "left": null,
            "margin": null,
            "max_height": null,
            "max_width": null,
            "min_height": null,
            "min_width": null,
            "object_fit": null,
            "object_position": null,
            "order": null,
            "overflow": null,
            "overflow_x": null,
            "overflow_y": null,
            "padding": null,
            "right": null,
            "top": null,
            "visibility": null,
            "width": null
          }
        },
        "489cb1cf4a7f4f36ba8899f799e061b9": {
          "model_module": "@jupyter-widgets/output",
          "model_name": "OutputModel",
          "model_module_version": "1.0.0",
          "state": {
            "_dom_classes": [],
            "_model_module": "@jupyter-widgets/output",
            "_model_module_version": "1.0.0",
            "_model_name": "OutputModel",
            "_view_count": null,
            "_view_module": "@jupyter-widgets/output",
            "_view_module_version": "1.0.0",
            "_view_name": "OutputView",
            "layout": "IPY_MODEL_4b270b88956f4d058a606bb08b598b01",
            "msg_id": "",
            "outputs": [
              {
                "output_type": "display_data",
                "data": {
                  "text/plain": "\u001b[38;2;106;0;255m⠹\u001b[0m ✨ You're running DeepEval's latest \u001b[38;2;106;0;255mSummarization Metric\u001b[0m! \u001b[38;2;55;65;81m(using gpt-4, strict=False, async_mode=True)...\u001b[0m\n",
                  "text/html": "<pre style=\"white-space:pre;overflow-x:auto;line-height:normal;font-family:Menlo,'DejaVu Sans Mono',consolas,'Courier New',monospace\"><span style=\"color: #6a00ff; text-decoration-color: #6a00ff\">⠹</span> ✨ You're running DeepEval's latest <span style=\"color: #6a00ff; text-decoration-color: #6a00ff\">Summarization Metric</span>! <span style=\"color: #374151; text-decoration-color: #374151\">(using gpt-4, strict=False, async_mode=True)...</span>\n</pre>\n"
                },
                "metadata": {}
              }
            ]
          }
        },
        "4b270b88956f4d058a606bb08b598b01": {
          "model_module": "@jupyter-widgets/base",
          "model_name": "LayoutModel",
          "model_module_version": "1.2.0",
          "state": {
            "_model_module": "@jupyter-widgets/base",
            "_model_module_version": "1.2.0",
            "_model_name": "LayoutModel",
            "_view_count": null,
            "_view_module": "@jupyter-widgets/base",
            "_view_module_version": "1.2.0",
            "_view_name": "LayoutView",
            "align_content": null,
            "align_items": null,
            "align_self": null,
            "border": null,
            "bottom": null,
            "display": null,
            "flex": null,
            "flex_flow": null,
            "grid_area": null,
            "grid_auto_columns": null,
            "grid_auto_flow": null,
            "grid_auto_rows": null,
            "grid_column": null,
            "grid_gap": null,
            "grid_row": null,
            "grid_template_areas": null,
            "grid_template_columns": null,
            "grid_template_rows": null,
            "height": null,
            "justify_content": null,
            "justify_items": null,
            "left": null,
            "margin": null,
            "max_height": null,
            "max_width": null,
            "min_height": null,
            "min_width": null,
            "object_fit": null,
            "object_position": null,
            "order": null,
            "overflow": null,
            "overflow_x": null,
            "overflow_y": null,
            "padding": null,
            "right": null,
            "top": null,
            "visibility": null,
            "width": null
          }
        },
        "4334032dc1dd415e99f526c5fdfe7bb8": {
          "model_module": "@jupyter-widgets/output",
          "model_name": "OutputModel",
          "model_module_version": "1.0.0",
          "state": {
            "_dom_classes": [],
            "_model_module": "@jupyter-widgets/output",
            "_model_module_version": "1.0.0",
            "_model_name": "OutputModel",
            "_view_count": null,
            "_view_module": "@jupyter-widgets/output",
            "_view_module_version": "1.0.0",
            "_view_name": "OutputView",
            "layout": "IPY_MODEL_14593b1131ff41129f1d8b5f42f6abfc",
            "msg_id": "",
            "outputs": [
              {
                "output_type": "display_data",
                "data": {
                  "text/plain": "\u001b[38;2;106;0;255m⠙\u001b[0m ✨ You're running DeepEval's latest \u001b[38;2;106;0;255mSummarization Metric\u001b[0m! \u001b[38;2;55;65;81m(using gpt-4, strict=False, async_mode=True)...\u001b[0m\n",
                  "text/html": "<pre style=\"white-space:pre;overflow-x:auto;line-height:normal;font-family:Menlo,'DejaVu Sans Mono',consolas,'Courier New',monospace\"><span style=\"color: #6a00ff; text-decoration-color: #6a00ff\">⠙</span> ✨ You're running DeepEval's latest <span style=\"color: #6a00ff; text-decoration-color: #6a00ff\">Summarization Metric</span>! <span style=\"color: #374151; text-decoration-color: #374151\">(using gpt-4, strict=False, async_mode=True)...</span>\n</pre>\n"
                },
                "metadata": {}
              }
            ]
          }
        },
        "14593b1131ff41129f1d8b5f42f6abfc": {
          "model_module": "@jupyter-widgets/base",
          "model_name": "LayoutModel",
          "model_module_version": "1.2.0",
          "state": {
            "_model_module": "@jupyter-widgets/base",
            "_model_module_version": "1.2.0",
            "_model_name": "LayoutModel",
            "_view_count": null,
            "_view_module": "@jupyter-widgets/base",
            "_view_module_version": "1.2.0",
            "_view_name": "LayoutView",
            "align_content": null,
            "align_items": null,
            "align_self": null,
            "border": null,
            "bottom": null,
            "display": null,
            "flex": null,
            "flex_flow": null,
            "grid_area": null,
            "grid_auto_columns": null,
            "grid_auto_flow": null,
            "grid_auto_rows": null,
            "grid_column": null,
            "grid_gap": null,
            "grid_row": null,
            "grid_template_areas": null,
            "grid_template_columns": null,
            "grid_template_rows": null,
            "height": null,
            "justify_content": null,
            "justify_items": null,
            "left": null,
            "margin": null,
            "max_height": null,
            "max_width": null,
            "min_height": null,
            "min_width": null,
            "object_fit": null,
            "object_position": null,
            "order": null,
            "overflow": null,
            "overflow_x": null,
            "overflow_y": null,
            "padding": null,
            "right": null,
            "top": null,
            "visibility": null,
            "width": null
          }
        },
        "156aa2742b0f4a4ba2c7bc0c40940fcf": {
          "model_module": "@jupyter-widgets/output",
          "model_name": "OutputModel",
          "model_module_version": "1.0.0",
          "state": {
            "_dom_classes": [],
            "_model_module": "@jupyter-widgets/output",
            "_model_module_version": "1.0.0",
            "_model_name": "OutputModel",
            "_view_count": null,
            "_view_module": "@jupyter-widgets/output",
            "_view_module_version": "1.0.0",
            "_view_name": "OutputView",
            "layout": "IPY_MODEL_2c26a3b3ace846f2b4847bf6b9381094",
            "msg_id": "",
            "outputs": [
              {
                "output_type": "display_data",
                "data": {
                  "text/plain": "\u001b[38;2;106;0;255m⠸\u001b[0m ✨ You're running DeepEval's latest \u001b[38;2;106;0;255mSummarization Metric\u001b[0m! \u001b[38;2;55;65;81m(using gpt-4, strict=False, async_mode=True)...\u001b[0m\n",
                  "text/html": "<pre style=\"white-space:pre;overflow-x:auto;line-height:normal;font-family:Menlo,'DejaVu Sans Mono',consolas,'Courier New',monospace\"><span style=\"color: #6a00ff; text-decoration-color: #6a00ff\">⠸</span> ✨ You're running DeepEval's latest <span style=\"color: #6a00ff; text-decoration-color: #6a00ff\">Summarization Metric</span>! <span style=\"color: #374151; text-decoration-color: #374151\">(using gpt-4, strict=False, async_mode=True)...</span>\n</pre>\n"
                },
                "metadata": {}
              }
            ]
          }
        },
        "2c26a3b3ace846f2b4847bf6b9381094": {
          "model_module": "@jupyter-widgets/base",
          "model_name": "LayoutModel",
          "model_module_version": "1.2.0",
          "state": {
            "_model_module": "@jupyter-widgets/base",
            "_model_module_version": "1.2.0",
            "_model_name": "LayoutModel",
            "_view_count": null,
            "_view_module": "@jupyter-widgets/base",
            "_view_module_version": "1.2.0",
            "_view_name": "LayoutView",
            "align_content": null,
            "align_items": null,
            "align_self": null,
            "border": null,
            "bottom": null,
            "display": null,
            "flex": null,
            "flex_flow": null,
            "grid_area": null,
            "grid_auto_columns": null,
            "grid_auto_flow": null,
            "grid_auto_rows": null,
            "grid_column": null,
            "grid_gap": null,
            "grid_row": null,
            "grid_template_areas": null,
            "grid_template_columns": null,
            "grid_template_rows": null,
            "height": null,
            "justify_content": null,
            "justify_items": null,
            "left": null,
            "margin": null,
            "max_height": null,
            "max_width": null,
            "min_height": null,
            "min_width": null,
            "object_fit": null,
            "object_position": null,
            "order": null,
            "overflow": null,
            "overflow_x": null,
            "overflow_y": null,
            "padding": null,
            "right": null,
            "top": null,
            "visibility": null,
            "width": null
          }
        }
      }
    }
  },
  "nbformat": 4,
  "nbformat_minor": 0
}